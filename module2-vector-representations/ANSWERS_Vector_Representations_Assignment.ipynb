{
 "cells": [
  {
   "cell_type": "markdown",
   "metadata": {},
   "source": [
    "<img align=\"left\" src=\"https://lever-client-logos.s3.amazonaws.com/864372b1-534c-480e-acd5-9711f850815c-1524247202159.png\" width=200>\n",
    "<br></br>\n",
    "\n",
    "# Vector Representations\n",
    "## *Data Science Unit 4 Sprint 2 Assignment 2*"
   ]
  },
  {
   "cell_type": "code",
   "execution_count": 1,
   "metadata": {
    "colab": {
     "base_uri": "https://localhost:8080/",
     "height": 159
    },
    "colab_type": "code",
    "id": "hyj-f9FDcVFp",
    "outputId": "5dd045fe-6e4c-458c-e2fc-253c3da9c805"
   },
   "outputs": [],
   "source": [
    "import re\n",
    "import string\n",
    "\n",
    "from sklearn.feature_extraction.text import CountVectorizer, TfidfVectorizer\n",
    "import matplotlib.pyplot as plt\n",
    "import pandas as pd\n",
    "import numpy as np\n",
    "import spacy\n",
    "\n",
    "from bs4 import BeautifulSoup"
   ]
  },
  {
   "cell_type": "code",
   "execution_count": 2,
   "metadata": {},
   "outputs": [],
   "source": [
    "\n",
    "##### Your Code Here #####\n",
    "job_listing = ('./data/job_listings.csv')\n",
    "jobs = pd.read_csv(job_listing)\n",
    "text = jobs['description']\n",
    "\n"
   ]
  },
  {
   "cell_type": "code",
   "execution_count": 3,
   "metadata": {},
   "outputs": [
    {
     "data": {
      "text/plain": [
       "'b\" Job Requirements: \\\\nConceptual understanding in Machine Learning models like Nai\\\\xc2\\\\xa8ve Bayes, K-Means, SVM, Apriori, Linear/ Logistic Regression, Neural, Random Forests, Decision Trees, K-NN along with hands-on experience in at least 2 of them \\\\n Intermediate to expert level coding skills in Python/R. (Ability to write functions, clean and efficient data manipulation are mandatory for this role) \\\\n Exposure to packages like NumPy, SciPy, Pandas, Matplotlib etc in Python or GGPlot2, dplyr, tidyR in R \\\\n Ability to communicate Model findings to both Technical and Non-Technical stake holders \\\\n Hands on experience in SQL/Hive or similar programming language \\\\n Must show past work via GitHub, Kaggle or any other published article \\\\n Master\\'s degree in Statistics/Mathematics/Computer Science or any other quant specific field. \\\\nApply Now \"'"
      ]
     },
     "execution_count": 3,
     "metadata": {},
     "output_type": "execute_result"
    }
   ],
   "source": [
    "#How to extract individual text from description column\n",
    "soup = BeautifulSoup(text[0])\n",
    "example = soup.get_text(\" \")\n",
    "example"
   ]
  },
  {
   "cell_type": "markdown",
   "metadata": {
    "colab_type": "text",
    "id": "M7bcmqfGXrFG"
   },
   "source": [
    "## 1) *Clean:* Job Listings from indeed.com that contain the title \"Data Scientist\" \n",
    "\n",
    "You have `job_listings.csv` in the data folder for this module. The text data in the description column is still messy - full of html tags. Use the [BeautifulSoup](https://www.crummy.com/software/BeautifulSoup/bs4/doc/) library to clean up this column. You will need to read through the documentation to accomplish this task. "
   ]
  },
  {
   "cell_type": "code",
   "execution_count": 4,
   "metadata": {
    "colab": {},
    "colab_type": "code",
    "id": "KcYlc1URXhlC"
   },
   "outputs": [
    {
     "name": "stdout",
     "output_type": "stream",
     "text": [
      " Job Requirements: Conceptual understanding in Machine Learning models like Nai\\xc2\\xa8ve Bayes, K-Means, SVM, Apriori, Linear  Logistic Regression, Neural, Random Forests, Decision Trees, K-NN along with hands-on experience in at least 2 of them  Intermediate to expert level coding skills in Python R. (Ability to write functions, clean and efficient data manipulation are mandatory for this role)  Exposure to packages like NumPy, SciPy, Pandas, Matplotlib etc in Python or GGPlot2, dplyr, tidyR in R  Ability to communicate Model findings to both Technical and Non-Technical stake holders  Hands on experience in SQL Hive or similar programming language  Must show past work via GitHub, Kaggle or any other published article  Master's degree in Statistics Mathematics Computer Science or any other quant specific field. Apply Now \"\n",
      "\n",
      "b' Job Description   As a Data Scientist 1, you will help us build machine learning models, data pipelines, and micro-services to help our clients navigate their healthcare journey. You will do so by empowering and improving the next generation of Accolade Applications and user experiences. A day in the life\\xe2\\x80\\xa6 Work with a small agile team to design and develop mobile applications in an iterative fashion. Work with a tight-knit group of development team members in Seattle. Contribute to best practices and help guide the future of our applications. Operates effectively as a collaborative member of the development team. Operates effectively as an individual for quick turnaround of enhancements and fixes. Responsible for meeting expectations and deliverables on time with high quality. Drive and implement new features within our mobile applications. Perform thorough manual testing and writing test cases that cover all areas. Identify new development tools approaches that will increase code quality, efficiency, and best practices. Develop and champion the the development processes, coding style guidelines, and architectural designs necessary to innovate and maintain great product quality. Effectively turns design documents and graphics into performant, usable UI. Demonstrates creative, technical, and analytical skills. Demonstrates ability to communicate effectively in both technical and business environments   Qualifications   What we are looking for\\xe2\\x80\\xa6 Master's Degree in Computer Science, Math, or related field. Computer Science fundamentals, as illustrated through algorithm design, problem solving, and complexity analysis. Must have 1+ year real-world experience developing and deploying micro-services or data pipelines Must have a fundamental understanding of key machine learning concepts, such as accuracy measures, cross-validation, and open source machine learning libraries Fluent in Python and SQL Proficient with writing unit functional tests and familiar with automation frameworks Experience with cloud infrastructure, such as AWS or Azure, is a plus. Experience with distributed data pipelines, such as a Spark, is a plus. Strong written and oral communication skills. Desire and willingness to work in an Agile, collaborative, innovative, flexible, and team-oriented environment Hands-on, detail-oriented, methodical & inquisitive A motivated self-starter with a solid level of experience that quickly grasps complex challenges A skillful communicator with experience working with technical management teams  A service oriented person who thinks \"Customer First\" Fast fail entrepreneurial spirit Thrives in a fast-paced environment where continuous improvement is the norm and the bar for quality is extremely high Excited by the challenges of working in a product team undergoing rapid, international growth Additional Information   What is important to us Creating an enduring company that is hyper-focused on our culture and making a meaningful impact in the lives of our employees, members and customers. The secret to our success is: We find joy and purpose in serving others Making a difference in our members' and customers' lives is what we do. Even when it's hard, we do the right thing for the right reasons. We are strong individually and together, we're powerful Trusting in our colleagues and embracing their different backgrounds and experiences enable us to solve tough problems in creative ways, having fun along the way. We roll up our sleeves and get stuff done Results motivate us. And we aren\\'t afraid of the hard work or tough decisions needed to get us there. We're boldly and relentlessly reinventing healthcare We\\'re curious and act big - not afraid to knock down barriers or take calculated risks to change the world, one person at a time. All your information will be kept confidential according to EEO guidelines. '\n",
      "\n",
      "b' As a Data Scientist you will be working on consulting side of our business. You will be responsible for analyzing large, complex datasets and identify meaningful patterns that lead to actionable recommendations. You will be performing thorough testing and validation of models, and support various aspects of the business with data analytics. Ability to do statistical modeling, build predictive models and leverage machine learning algorithms. This position will combine the typical Data Scientist math and analytical skills, with research, advanced business, communication, and presentation skills. Primary job location is in Sacramento, but work-from-home option is available.  Qualifications Bachelors, MS or PhD in a relevant field (Computer Science, Engineering, Statistics, Physics, Applied Math) Experience in R and or Python is preferred '\n"
     ]
    },
    {
     "data": {
      "text/html": [
       "<div>\n",
       "<style scoped>\n",
       "    .dataframe tbody tr th:only-of-type {\n",
       "        vertical-align: middle;\n",
       "    }\n",
       "\n",
       "    .dataframe tbody tr th {\n",
       "        vertical-align: top;\n",
       "    }\n",
       "\n",
       "    .dataframe thead th {\n",
       "        text-align: right;\n",
       "    }\n",
       "</style>\n",
       "<table border=\"1\" class=\"dataframe\">\n",
       "  <thead>\n",
       "    <tr style=\"text-align: right;\">\n",
       "      <th></th>\n",
       "      <th>Unnamed: 0</th>\n",
       "      <th>description</th>\n",
       "      <th>title</th>\n",
       "      <th>text</th>\n",
       "    </tr>\n",
       "  </thead>\n",
       "  <tbody>\n",
       "    <tr>\n",
       "      <th>0</th>\n",
       "      <td>0</td>\n",
       "      <td>b\"&lt;div&gt;&lt;div&gt;Job Requirements:&lt;/div&gt;&lt;ul&gt;&lt;li&gt;&lt;p&gt;...</td>\n",
       "      <td>Data scientist</td>\n",
       "      <td>Job Requirements: Conceptual understanding in...</td>\n",
       "    </tr>\n",
       "    <tr>\n",
       "      <th>1</th>\n",
       "      <td>1</td>\n",
       "      <td>b'&lt;div&gt;Job Description&lt;br/&gt;\\n&lt;br/&gt;\\n&lt;p&gt;As a Da...</td>\n",
       "      <td>Data Scientist I</td>\n",
       "      <td>b' Job Description   As a Data Scientist 1, yo...</td>\n",
       "    </tr>\n",
       "    <tr>\n",
       "      <th>2</th>\n",
       "      <td>2</td>\n",
       "      <td>b'&lt;div&gt;&lt;p&gt;As a Data Scientist you will be work...</td>\n",
       "      <td>Data Scientist - Entry Level</td>\n",
       "      <td>b' As a Data Scientist you will be working on ...</td>\n",
       "    </tr>\n",
       "    <tr>\n",
       "      <th>3</th>\n",
       "      <td>3</td>\n",
       "      <td>b'&lt;div class=\"jobsearch-JobMetadataHeader icl-...</td>\n",
       "      <td>Data Scientist</td>\n",
       "      <td>b' $4,969 - $6,756 a month Contract Under the ...</td>\n",
       "    </tr>\n",
       "    <tr>\n",
       "      <th>4</th>\n",
       "      <td>4</td>\n",
       "      <td>b'&lt;ul&gt;&lt;li&gt;Location: USA \\xe2\\x80\\x93 multiple ...</td>\n",
       "      <td>Data Scientist</td>\n",
       "      <td>b' Location: USA \\xe2\\x80\\x93 multiple locatio...</td>\n",
       "    </tr>\n",
       "  </tbody>\n",
       "</table>\n",
       "</div>"
      ],
      "text/plain": [
       "   Unnamed: 0                                        description  \\\n",
       "0           0  b\"<div><div>Job Requirements:</div><ul><li><p>...   \n",
       "1           1  b'<div>Job Description<br/>\\n<br/>\\n<p>As a Da...   \n",
       "2           2  b'<div><p>As a Data Scientist you will be work...   \n",
       "3           3  b'<div class=\"jobsearch-JobMetadataHeader icl-...   \n",
       "4           4  b'<ul><li>Location: USA \\xe2\\x80\\x93 multiple ...   \n",
       "\n",
       "                          title  \\\n",
       "0               Data scientist    \n",
       "1              Data Scientist I   \n",
       "2  Data Scientist - Entry Level   \n",
       "3                Data Scientist   \n",
       "4                Data Scientist   \n",
       "\n",
       "                                                text  \n",
       "0   Job Requirements: Conceptual understanding in...  \n",
       "1  b' Job Description   As a Data Scientist 1, yo...  \n",
       "2  b' As a Data Scientist you will be working on ...  \n",
       "3  b' $4,969 - $6,756 a month Contract Under the ...  \n",
       "4  b' Location: USA \\xe2\\x80\\x93 multiple locatio...  "
      ]
     },
     "execution_count": 4,
     "metadata": {},
     "output_type": "execute_result"
    }
   ],
   "source": [
    "from bs4 import BeautifulSoup\n",
    "import requests\n",
    "\n",
    "\"\"\"\n",
    "How to extract individual text from description column\n",
    "soup = BeautifulSoup(text[0])\n",
    "print(soup.prettify())\n",
    "soup.get_text()\n",
    "\"\"\"\n",
    "\n",
    "job_description = []\n",
    "\n",
    "for doc in text:\n",
    "    soup = BeautifulSoup(doc)\n",
    "    soup_text = soup.get_text(\" \")\n",
    "    text = soup_text.replace(\"\\\\n\", '')\n",
    "    text2 = text.replace(\"/\", \" \")\n",
    "    text3 = text2.replace('\\\\xe2\\\\x80\\\\x99', \"'\")\n",
    "    text4 = text3.replace('\\xe2\\x80\\x99', \"'\")\n",
    "    text5 = text4.replace(' \\xe2\\x80\\xa6', '')\n",
    "    text6 = text5.replace('b\"', '')\n",
    "    text7 = text6.replace(' \\xe2\\x80\\x93', '')\n",
    "    text8 = text7.replace('nfosys\\xe2\\x80\\x93', '')\n",
    "    job_description.append(text7)\n",
    "\n",
    "print(*job_description[:3], sep= \"\\n\\n\")\n",
    "\n",
    "jobs['text'] = job_description\n",
    "#raise Exception(\"\\nThis task is not complete. \\nReplace this line with your code for the task.\")\n",
    "\n",
    "jobs.head()"
   ]
  },
  {
   "cell_type": "code",
   "execution_count": 5,
   "metadata": {},
   "outputs": [
    {
     "data": {
      "text/plain": [
       "Index(['Unnamed: 0', 'description', 'title', 'text'], dtype='object')"
      ]
     },
     "execution_count": 5,
     "metadata": {},
     "output_type": "execute_result"
    }
   ],
   "source": [
    "jobs.columns"
   ]
  },
  {
   "cell_type": "code",
   "execution_count": 6,
   "metadata": {},
   "outputs": [
    {
     "data": {
      "text/html": [
       "<div>\n",
       "<style scoped>\n",
       "    .dataframe tbody tr th:only-of-type {\n",
       "        vertical-align: middle;\n",
       "    }\n",
       "\n",
       "    .dataframe tbody tr th {\n",
       "        vertical-align: top;\n",
       "    }\n",
       "\n",
       "    .dataframe thead th {\n",
       "        text-align: right;\n",
       "    }\n",
       "</style>\n",
       "<table border=\"1\" class=\"dataframe\">\n",
       "  <thead>\n",
       "    <tr style=\"text-align: right;\">\n",
       "      <th></th>\n",
       "      <th>title</th>\n",
       "      <th>text</th>\n",
       "    </tr>\n",
       "  </thead>\n",
       "  <tbody>\n",
       "    <tr>\n",
       "      <th>0</th>\n",
       "      <td>Data scientist</td>\n",
       "      <td>Job Requirements: Conceptual understanding in...</td>\n",
       "    </tr>\n",
       "    <tr>\n",
       "      <th>1</th>\n",
       "      <td>Data Scientist I</td>\n",
       "      <td>b' Job Description   As a Data Scientist 1, yo...</td>\n",
       "    </tr>\n",
       "    <tr>\n",
       "      <th>2</th>\n",
       "      <td>Data Scientist - Entry Level</td>\n",
       "      <td>b' As a Data Scientist you will be working on ...</td>\n",
       "    </tr>\n",
       "    <tr>\n",
       "      <th>3</th>\n",
       "      <td>Data Scientist</td>\n",
       "      <td>b' $4,969 - $6,756 a month Contract Under the ...</td>\n",
       "    </tr>\n",
       "    <tr>\n",
       "      <th>4</th>\n",
       "      <td>Data Scientist</td>\n",
       "      <td>b' Location: USA \\xe2\\x80\\x93 multiple locatio...</td>\n",
       "    </tr>\n",
       "  </tbody>\n",
       "</table>\n",
       "</div>"
      ],
      "text/plain": [
       "                          title  \\\n",
       "0               Data scientist    \n",
       "1              Data Scientist I   \n",
       "2  Data Scientist - Entry Level   \n",
       "3                Data Scientist   \n",
       "4                Data Scientist   \n",
       "\n",
       "                                                text  \n",
       "0   Job Requirements: Conceptual understanding in...  \n",
       "1  b' Job Description   As a Data Scientist 1, yo...  \n",
       "2  b' As a Data Scientist you will be working on ...  \n",
       "3  b' $4,969 - $6,756 a month Contract Under the ...  \n",
       "4  b' Location: USA \\xe2\\x80\\x93 multiple locatio...  "
      ]
     },
     "execution_count": 6,
     "metadata": {},
     "output_type": "execute_result"
    }
   ],
   "source": [
    "# dropping \"unnamed column\" and description column. \n",
    "\n",
    "jobs = jobs.drop(columns=[\"Unnamed: 0\", 'description'])\n",
    "jobs.head()"
   ]
  },
  {
   "cell_type": "code",
   "execution_count": 7,
   "metadata": {},
   "outputs": [],
   "source": [
    "# defining stop words\n",
    "nlp = spacy.load(\"en_core_web_lg\")"
   ]
  },
  {
   "cell_type": "code",
   "execution_count": 8,
   "metadata": {},
   "outputs": [],
   "source": [
    "stop_words = nlp.Defaults.stop_words.union(['\\\\n', 'b', \n",
    "                                            'etc', ' ', 'job',\n",
    "                                           'requirement', \n",
    "                                            'requirements', \n",
    "                                            'for\\\\xe2\\\\x80\\\\xa6',\n",
    "                                           'life\\\\xe2\\\\x80\\\\xa6',\n",
    "                                           \"we\\\\'re\", \"aren\\\\'t\",\n",
    "                                           '', 'b\"'])"
   ]
  },
  {
   "cell_type": "markdown",
   "metadata": {
    "colab_type": "text",
    "id": "5C4xFZNtX1m2"
   },
   "source": [
    "## 2) Use Spacy to tokenize the listings "
   ]
  },
  {
   "cell_type": "code",
   "execution_count": null,
   "metadata": {},
   "outputs": [],
   "source": [
    "stop_words"
   ]
  },
  {
   "cell_type": "code",
   "execution_count": 10,
   "metadata": {
    "colab": {},
    "colab_type": "code",
    "id": "dhUHuMr-X-II"
   },
   "outputs": [
    {
     "name": "stdout",
     "output_type": "stream",
     "text": [
      "['description', '  ', 'Data', 'scientist', '1', 'help', 'build', 'machine', 'learning', 'model', 'data', 'pipeline', 'micro', 'service', 'help', 'client', 'navigate', 'healthcare', 'journey', 'empower', 'improve', 'generation', 'Accolade', 'Applications', 'user', 'experience', 'day', 'work', 'small', 'agile', 'team', 'design', 'develop', 'mobile', 'application', 'iterative', 'fashion', 'work', 'tight', 'knit', 'group', 'development', 'team', 'member', 'Seattle', 'contribute', 'good', 'practice', 'help', 'guide', 'future', 'application', 'operate', 'effectively', 'collaborative', 'member', 'development', 'team', 'operate', 'effectively', 'individual', 'quick', 'turnaround', 'enhancement', 'fix', 'responsible', 'meet', 'expectation', 'deliverable', 'time', 'high', 'quality', 'drive', 'implement', 'new', 'feature', 'mobile', 'application', 'perform', 'thorough', 'manual', 'testing', 'writing', 'test', 'case', 'cover', 'area', 'identify', 'new', 'development', 'tool', 'approach', 'increase', 'code', 'quality', 'efficiency', 'good', 'practice', 'develop', 'champion', 'development', 'process', 'code', 'style', 'guideline', 'architectural', 'design', 'necessary', 'innovate', 'maintain', 'great', 'product', 'quality', 'effectively', 'turn', 'design', 'document', 'graphic', 'performant', 'usable', 'UI', 'demonstrate', 'creative', 'technical', 'analytical', 'skill', 'demonstrate', 'ability', 'communicate', 'effectively', 'technical', 'business', 'environment', '  ', 'qualification', '  ', 'look', 'Master', 'Degree', 'Computer', 'Science', 'Math', 'related', 'field', 'computer', 'Science', 'fundamental', 'illustrate', 'algorithm', 'design', 'problem', 'solve', 'complexity', 'analysis', '1', '+', 'year', 'real', 'world', 'experience', 'develop', 'deploy', 'micro', 'service', 'datum', 'pipeline', 'fundamental', 'understanding', 'key', 'machine', 'learning', 'concept', 'accuracy', 'measure', 'cross', 'validation', 'open', 'source', 'machine', 'learn', 'library', 'Fluent', 'Python', 'SQL', 'Proficient', 'write', 'unit', 'functional', 'test', 'familiar', 'automation', 'framework', 'experience', 'cloud', 'infrastructure', 'AWS', 'Azure', 'plus', 'experience', 'distribute', 'data', 'pipeline', 'spark', 'plus', 'strong', 'write', 'oral', 'communication', 'skill', 'desire', 'willingness', 'work', 'agile', 'collaborative', 'innovative', 'flexible', 'team', 'orient', 'environment', 'hand', 'detail', 'orient', 'methodical', 'inquisitive', 'motivated', 'self', 'starter', 'solid', 'level', 'experience', 'quickly', 'grasp', 'complex', 'challenge', 'skillful', 'communicator', 'experience', 'work', 'technical', 'management', 'team', 'service', 'orient', 'person', 'think', 'customer', 'fast', 'fail', 'entrepreneurial', 'spirit', 'thrive', 'fast', 'pace', 'environment', 'continuous', 'improvement', 'norm', 'bar', 'quality', 'extremely', 'high', 'excite', 'challenge', 'work', 'product', 'team', 'undergo', 'rapid', 'international', 'growth', 'additional', 'information', '  ', 'important', 'create', 'endure', 'company', 'hyper', 'focused', 'culture', 'make', 'meaningful', 'impact', 'life', 'employee', 'member', 'customer', 'secret', 'success', 'find', 'joy', 'purpose', 'serve', 'make', 'difference', 'member', 'customer', 'life', 'hard', 'right', 'thing', 'right', 'reason', 'strong', 'individually', 'powerful', 'trusting', 'colleague', 'embrace', 'different', 'background', 'experience', 'enable', 'solve', 'tough', 'problem', 'creative', 'way', 'have', 'fun', 'way', 'roll', 'sleeve', 'stuff', 'result', 'motivate', 'afraid', 'hard', 'work', 'tough', 'decision', 'need', 'boldly', 'relentlessly', 'reinvent', 'healthcare', 'curious', 'act', 'big', 'afraid', 'knock', 'barrier', 'calculate', 'risk', 'change', 'world', 'person', 'time', 'information', 'keep', 'confidential', 'according', 'EEO', 'guideline']\n"
     ]
    }
   ],
   "source": [
    "##### Your Code Here #####\n",
    "sample = jobs['text'][1]\n",
    "\n",
    "print([token.lemma_ for token in nlp(sample) if \n",
    "       (token.is_punct == False) and \n",
    "       (token.text.lower() not in stop_words)])\n",
    "#raise Exception(\"\\nThis task is not complete. \\nReplace this line with your code for the task.\""
   ]
  },
  {
   "cell_type": "code",
   "execution_count": 11,
   "metadata": {},
   "outputs": [],
   "source": [
    "# do the thing above for all the rows\n",
    "job_token = []\n",
    "\n",
    "for doc in jobs['text']:\n",
    "    text = [token.lemma_ for token in nlp(doc) if \n",
    "            (token.is_punct == False) and \n",
    "            (token.text.lower() not in stop_words)]\n",
    "    job_token.append(text)\n",
    "    \n",
    "jobs['token'] = job_token"
   ]
  },
  {
   "cell_type": "code",
   "execution_count": 12,
   "metadata": {},
   "outputs": [
    {
     "data": {
      "text/html": [
       "<div>\n",
       "<style scoped>\n",
       "    .dataframe tbody tr th:only-of-type {\n",
       "        vertical-align: middle;\n",
       "    }\n",
       "\n",
       "    .dataframe tbody tr th {\n",
       "        vertical-align: top;\n",
       "    }\n",
       "\n",
       "    .dataframe thead th {\n",
       "        text-align: right;\n",
       "    }\n",
       "</style>\n",
       "<table border=\"1\" class=\"dataframe\">\n",
       "  <thead>\n",
       "    <tr style=\"text-align: right;\">\n",
       "      <th></th>\n",
       "      <th>title</th>\n",
       "      <th>text</th>\n",
       "      <th>token</th>\n",
       "    </tr>\n",
       "  </thead>\n",
       "  <tbody>\n",
       "    <tr>\n",
       "      <th>0</th>\n",
       "      <td>Data scientist</td>\n",
       "      <td>Job Requirements: Conceptual understanding in...</td>\n",
       "      <td>[conceptual, understanding, Machine, Learning,...</td>\n",
       "    </tr>\n",
       "    <tr>\n",
       "      <th>1</th>\n",
       "      <td>Data Scientist I</td>\n",
       "      <td>b' Job Description   As a Data Scientist 1, yo...</td>\n",
       "      <td>[description,   , Data, scientist, 1, help, bu...</td>\n",
       "    </tr>\n",
       "    <tr>\n",
       "      <th>2</th>\n",
       "      <td>Data Scientist - Entry Level</td>\n",
       "      <td>b' As a Data Scientist you will be working on ...</td>\n",
       "      <td>[Data, scientist, work, consult, business, res...</td>\n",
       "    </tr>\n",
       "    <tr>\n",
       "      <th>3</th>\n",
       "      <td>Data Scientist</td>\n",
       "      <td>b' $4,969 - $6,756 a month Contract Under the ...</td>\n",
       "      <td>[$, 4,969, $, 6,756, month, contract, general,...</td>\n",
       "    </tr>\n",
       "    <tr>\n",
       "      <th>4</th>\n",
       "      <td>Data Scientist</td>\n",
       "      <td>b' Location: USA \\xe2\\x80\\x93 multiple locatio...</td>\n",
       "      <td>[Location, USA, \\xe2\\x80\\x93, multiple, locati...</td>\n",
       "    </tr>\n",
       "    <tr>\n",
       "      <th>5</th>\n",
       "      <td>Data Scientist</td>\n",
       "      <td>b' Create various Business Intelligence Analyt...</td>\n",
       "      <td>[create, Business, Intelligence, Analytical, r...</td>\n",
       "    </tr>\n",
       "    <tr>\n",
       "      <th>6</th>\n",
       "      <td>Associate Data Scientist – Premium Analytics</td>\n",
       "      <td>b' As Spotify Premium swells to over 96M subsc...</td>\n",
       "      <td>[Spotify, Premium, swell, 96, M, subscriber, g...</td>\n",
       "    </tr>\n",
       "    <tr>\n",
       "      <th>7</th>\n",
       "      <td>Data Scientist</td>\n",
       "      <td>Everytown for Gun Safety, the nation's largest...</td>\n",
       "      <td>[Everytown, Gun, Safety, nation, large, gun, v...</td>\n",
       "    </tr>\n",
       "    <tr>\n",
       "      <th>8</th>\n",
       "      <td>Sr. Data Scientist</td>\n",
       "      <td>MS in a quantitative discipline such as Stati...</td>\n",
       "      <td>[MS, quantitative, discipline, Statistics, Mat...</td>\n",
       "    </tr>\n",
       "    <tr>\n",
       "      <th>9</th>\n",
       "      <td>Data Scientist, Lifecyle</td>\n",
       "      <td>b' Slack is hiring experienced data scientists...</td>\n",
       "      <td>[Slack, hire, experienced, datum, scientist, j...</td>\n",
       "    </tr>\n",
       "    <tr>\n",
       "      <th>10</th>\n",
       "      <td>Data Scientist, Neuroimaging</td>\n",
       "      <td>b' Who We Are BlackThorn Therapeutics is a com...</td>\n",
       "      <td>[BlackThorn, Therapeutics, computational, scie...</td>\n",
       "    </tr>\n",
       "    <tr>\n",
       "      <th>11</th>\n",
       "      <td>Data Scientist II</td>\n",
       "      <td>b' Part-time About The Opportunity Here at Gru...</td>\n",
       "      <td>[time, Opportunity, Grubhub, dedicate, give, d...</td>\n",
       "    </tr>\n",
       "    <tr>\n",
       "      <th>12</th>\n",
       "      <td>Data Scientist</td>\n",
       "      <td>nfosys\\xe2\\x80\\x93 Data &amp; Analytics \\xe2\\x80\\x...</td>\n",
       "      <td>[nfosys\\xe2\\x80\\x93, Data, Analytics, \\xe2\\x80...</td>\n",
       "    </tr>\n",
       "    <tr>\n",
       "      <th>13</th>\n",
       "      <td>Associate Data Scientist – Premium Analytics</td>\n",
       "      <td>b' As Spotify Premium swells to over 96M subsc...</td>\n",
       "      <td>[Spotify, Premium, swell, 96, M, subscriber, g...</td>\n",
       "    </tr>\n",
       "    <tr>\n",
       "      <th>14</th>\n",
       "      <td>Data Scientist</td>\n",
       "      <td>b' Experience with guiding R&amp;D strategy for yo...</td>\n",
       "      <td>[experience, guide, r&amp;d, strategy, organizatio...</td>\n",
       "    </tr>\n",
       "    <tr>\n",
       "      <th>15</th>\n",
       "      <td>Data Scientist</td>\n",
       "      <td>b' The Atlantic is seeking a Data Scientist to...</td>\n",
       "      <td>[Atlantic, seek, Data, scientist, help, lead, ...</td>\n",
       "    </tr>\n",
       "    <tr>\n",
       "      <th>16</th>\n",
       "      <td>Data Scientist - Risk</td>\n",
       "      <td>b' THE CHALLENGE Eventbrite is big, bustling m...</td>\n",
       "      <td>[challenge, Eventbrite, big, bustling, marketp...</td>\n",
       "    </tr>\n",
       "    <tr>\n",
       "      <th>17</th>\n",
       "      <td>Data Scientist</td>\n",
       "      <td>b' Contract We are looking to hire for a Data ...</td>\n",
       "      <td>[contract, look, hire, Data, scientist, Remote...</td>\n",
       "    </tr>\n",
       "    <tr>\n",
       "      <th>18</th>\n",
       "      <td>Data Scientist</td>\n",
       "      <td>Everytown for Gun Safety, the nation's largest...</td>\n",
       "      <td>[Everytown, Gun, Safety, nation, large, gun, v...</td>\n",
       "    </tr>\n",
       "    <tr>\n",
       "      <th>19</th>\n",
       "      <td>Data Analyst/Jr. Data Scientist</td>\n",
       "      <td>b' $70,000 - $100,000 a year Title : Data Anal...</td>\n",
       "      <td>[$, 70,000, $, 100,000, year, title, Data, Ana...</td>\n",
       "    </tr>\n",
       "  </tbody>\n",
       "</table>\n",
       "</div>"
      ],
      "text/plain": [
       "                                           title  \\\n",
       "0                                Data scientist    \n",
       "1                               Data Scientist I   \n",
       "2                   Data Scientist - Entry Level   \n",
       "3                                 Data Scientist   \n",
       "4                                 Data Scientist   \n",
       "5                                 Data Scientist   \n",
       "6   Associate Data Scientist – Premium Analytics   \n",
       "7                                 Data Scientist   \n",
       "8                             Sr. Data Scientist   \n",
       "9                       Data Scientist, Lifecyle   \n",
       "10                  Data Scientist, Neuroimaging   \n",
       "11                             Data Scientist II   \n",
       "12                                Data Scientist   \n",
       "13  Associate Data Scientist – Premium Analytics   \n",
       "14                                Data Scientist   \n",
       "15                                Data Scientist   \n",
       "16                         Data Scientist - Risk   \n",
       "17                                Data Scientist   \n",
       "18                                Data Scientist   \n",
       "19               Data Analyst/Jr. Data Scientist   \n",
       "\n",
       "                                                 text  \\\n",
       "0    Job Requirements: Conceptual understanding in...   \n",
       "1   b' Job Description   As a Data Scientist 1, yo...   \n",
       "2   b' As a Data Scientist you will be working on ...   \n",
       "3   b' $4,969 - $6,756 a month Contract Under the ...   \n",
       "4   b' Location: USA \\xe2\\x80\\x93 multiple locatio...   \n",
       "5   b' Create various Business Intelligence Analyt...   \n",
       "6   b' As Spotify Premium swells to over 96M subsc...   \n",
       "7   Everytown for Gun Safety, the nation's largest...   \n",
       "8    MS in a quantitative discipline such as Stati...   \n",
       "9   b' Slack is hiring experienced data scientists...   \n",
       "10  b' Who We Are BlackThorn Therapeutics is a com...   \n",
       "11  b' Part-time About The Opportunity Here at Gru...   \n",
       "12  nfosys\\xe2\\x80\\x93 Data & Analytics \\xe2\\x80\\x...   \n",
       "13  b' As Spotify Premium swells to over 96M subsc...   \n",
       "14  b' Experience with guiding R&D strategy for yo...   \n",
       "15  b' The Atlantic is seeking a Data Scientist to...   \n",
       "16  b' THE CHALLENGE Eventbrite is big, bustling m...   \n",
       "17  b' Contract We are looking to hire for a Data ...   \n",
       "18  Everytown for Gun Safety, the nation's largest...   \n",
       "19  b' $70,000 - $100,000 a year Title : Data Anal...   \n",
       "\n",
       "                                                token  \n",
       "0   [conceptual, understanding, Machine, Learning,...  \n",
       "1   [description,   , Data, scientist, 1, help, bu...  \n",
       "2   [Data, scientist, work, consult, business, res...  \n",
       "3   [$, 4,969, $, 6,756, month, contract, general,...  \n",
       "4   [Location, USA, \\xe2\\x80\\x93, multiple, locati...  \n",
       "5   [create, Business, Intelligence, Analytical, r...  \n",
       "6   [Spotify, Premium, swell, 96, M, subscriber, g...  \n",
       "7   [Everytown, Gun, Safety, nation, large, gun, v...  \n",
       "8   [MS, quantitative, discipline, Statistics, Mat...  \n",
       "9   [Slack, hire, experienced, datum, scientist, j...  \n",
       "10  [BlackThorn, Therapeutics, computational, scie...  \n",
       "11  [time, Opportunity, Grubhub, dedicate, give, d...  \n",
       "12  [nfosys\\xe2\\x80\\x93, Data, Analytics, \\xe2\\x80...  \n",
       "13  [Spotify, Premium, swell, 96, M, subscriber, g...  \n",
       "14  [experience, guide, r&d, strategy, organizatio...  \n",
       "15  [Atlantic, seek, Data, scientist, help, lead, ...  \n",
       "16  [challenge, Eventbrite, big, bustling, marketp...  \n",
       "17  [contract, look, hire, Data, scientist, Remote...  \n",
       "18  [Everytown, Gun, Safety, nation, large, gun, v...  \n",
       "19  [$, 70,000, $, 100,000, year, title, Data, Ana...  "
      ]
     },
     "execution_count": 12,
     "metadata": {},
     "output_type": "execute_result"
    }
   ],
   "source": [
    "jobs.head(20)"
   ]
  },
  {
   "cell_type": "markdown",
   "metadata": {
    "colab_type": "text",
    "id": "-lgCZNL_YycP"
   },
   "source": [
    "## 3) Use Scikit-Learn's CountVectorizer to get word counts for each listing."
   ]
  },
  {
   "cell_type": "code",
   "execution_count": 15,
   "metadata": {
    "colab": {},
    "colab_type": "code",
    "id": "X2PZ8Pj_YxcF"
   },
   "outputs": [
    {
     "name": "stdout",
     "output_type": "stream",
     "text": [
      "(426, 8523)\n"
     ]
    }
   ],
   "source": [
    "##### Your Code Here #####\n",
    "\n",
    "from sklearn.feature_extraction.text import CountVectorizer\n",
    "\n",
    "sample = jobs['text']\n",
    "\n",
    "# the transformer\n",
    "vect = CountVectorizer()\n",
    "\n",
    "# build vocab\n",
    "vect.fit(sample)\n",
    "\n",
    "# transform text\n",
    "\n",
    "dtm = vect.transform(sample)\n",
    "print(dtm.shape)\n",
    "#raise Exception(\"\\nThis task is not complete. \\nReplace this line with your code for the task.\""
   ]
  },
  {
   "cell_type": "code",
   "execution_count": null,
   "metadata": {},
   "outputs": [],
   "source": [
    "# print(vect.get_feature_names())"
   ]
  },
  {
   "cell_type": "code",
   "execution_count": null,
   "metadata": {},
   "outputs": [],
   "source": [
    "#print(dtm)"
   ]
  },
  {
   "cell_type": "markdown",
   "metadata": {
    "colab_type": "text",
    "id": "Zo1iH_UeY7_n"
   },
   "source": [
    "## 4) Visualize the most common word counts"
   ]
  },
  {
   "cell_type": "code",
   "execution_count": null,
   "metadata": {
    "colab": {},
    "colab_type": "code",
    "id": "M5LB00uyZKV5"
   },
   "outputs": [],
   "source": [
    "##### Your Code Here #####\n",
    "# word counts for each document\n",
    "\n",
    "\n",
    "\n",
    "# raise Exception(\"\\nThis task is not complete. \\nReplace this line with your code for the task.\""
   ]
  },
  {
   "cell_type": "markdown",
   "metadata": {
    "colab_type": "text",
    "id": "bwFsTqrVZMYi"
   },
   "source": [
    "## 5) Use Scikit-Learn's tfidfVectorizer to get a TF-IDF feature matrix"
   ]
  },
  {
   "cell_type": "code",
   "execution_count": null,
   "metadata": {
    "colab": {},
    "colab_type": "code",
    "id": "-gx2gZCbl5Np"
   },
   "outputs": [],
   "source": [
    "##### Your Code Here #####\n",
    "raise Exception(\"\\nThis task is not complete. \\nReplace this line with your code for the task.\""
   ]
  },
  {
   "cell_type": "markdown",
   "metadata": {},
   "source": [
    "## 6) Create a NearestNeighbor Model. Write the description of your ideal datascience job and query your job listings. "
   ]
  },
  {
   "cell_type": "code",
   "execution_count": null,
   "metadata": {
    "collapsed": false,
    "inputHidden": false,
    "jupyter": {
     "outputs_hidden": false
    },
    "outputHidden": false
   },
   "outputs": [],
   "source": [
    "##### Your Code Here #####\n",
    "raise Exception(\"\\nThis task is not complete. \\nReplace this line with your code for the task.\""
   ]
  },
  {
   "cell_type": "markdown",
   "metadata": {
    "colab_type": "text",
    "id": "FiDfTWceoRkH"
   },
   "source": [
    "## Stretch Goals\n",
    "\n",
    " - Try different visualizations for words and frequencies - what story do you want to tell with the data?\n",
    " - Scrape Job Listings for the job title \"Data Analyst\". How do these differ from Data Scientist Job Listings\n",
    " - Try and identify requirements for experience specific technologies that are asked for in the job listings. How are those distributed among the job listings?\n",
    " - Use a clustering algorithm to cluster documents by their most important terms. Do the clusters reveal any common themes?\n",
    "  - **Hint:** K-means might not be the best algorithm for this. Do a little bit of research to see what might be good for this. Also, remember that algorithms that depend on Euclidean distance break down with high dimensional data.\n",
    " - Create a labeled dataset - which jobs will you apply for? Train a model to select the jobs you are most likely to apply for. :) "
   ]
  }
 ],
 "metadata": {
  "colab": {
   "collapsed_sections": [],
   "name": "LS_DS_422_BOW_Assignment.ipynb",
   "provenance": [],
   "version": "0.3.2"
  },
  "kernel_info": {
   "name": "python3"
  },
  "kernelspec": {
   "display_name": "Unit4-NLP (Python3)",
   "language": "python",
   "name": "unit4-nlp"
  },
  "language_info": {
   "codemirror_mode": {
    "name": "ipython",
    "version": 3
   },
   "file_extension": ".py",
   "mimetype": "text/x-python",
   "name": "python",
   "nbconvert_exporter": "python",
   "pygments_lexer": "ipython3",
   "version": "3.7.0"
  },
  "nteract": {
   "version": "0.14.3"
  }
 },
 "nbformat": 4,
 "nbformat_minor": 4
}
