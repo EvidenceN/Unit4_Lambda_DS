{
 "cells": [
  {
   "cell_type": "markdown",
   "metadata": {},
   "source": [
    "<img align=\"left\" src=\"https://lever-client-logos.s3.amazonaws.com/864372b1-534c-480e-acd5-9711f850815c-1524247202159.png\" width=200>\n",
    "<br></br>\n",
    "<br></br>\n",
    "\n",
    "# Natural Language Processing (NLP)\n",
    "## *Data Science Unit 4 Sprint 1 Assignment 1*\n",
    "\n",
    "Your goal in this assignment: find the attributes of the best & worst coffee shops in the dataset. The text is fairly raw: dates in the review, extra words in the `star_rating` column, etc. You'll probably want to clean that stuff up for a better analysis. \n",
    "\n",
    "Analyze the corpus of text using text visualizations of token frequency. Try cleaning the data as much as possible. Try the following techniques: \n",
    "- Lemmatization\n",
    "- Custom stopword removal\n",
    "\n",
    "Keep in mind the attributes of good tokens. Once you have a solid baseline, layer in the star rating in your visualization(s). Key part of this assignment - produce a write-up of the attributes of the best and worst coffee shops. Based on your analysis, what makes the best the best and the worst the worst. Use graphs and numbesr from your analysis to support your conclusions. There should be plenty of markdown cells! :coffee:"
   ]
  },
  {
   "cell_type": "markdown",
   "metadata": {},
   "source": [
    "Link to lesson video\n",
    "\n",
    "https://youtu.be/L_SeVXKMjbw"
   ]
  },
  {
   "cell_type": "code",
   "execution_count": 1,
   "metadata": {},
   "outputs": [],
   "source": [
    "# Import Required Libariries\n",
    "import pandas as pd\n",
    "from collections import Counter\n",
    "\n",
    "# Plotting\n",
    "import squarify\n",
    "import matplotlib.pyplot as plt\n",
    "import seaborn as sns\n",
    "\n",
    "# NLP Libraries\n",
    "import re\n",
    "from nltk.stem import PorterStemmer\n",
    "import spacy\n",
    "from spacy.tokenizer import Tokenizer"
   ]
  },
  {
   "cell_type": "code",
   "execution_count": 2,
   "metadata": {},
   "outputs": [
    {
     "data": {
      "image/jpeg": "[encoded data removed]",
      "text/html": [
       "\n",
       "        <iframe\n",
       "            width=\"400\"\n",
       "            height=\"300\"\n",
       "            src=\"https://www.youtube.com/embed/Jml7NVYm8cs\"\n",
       "            frameborder=\"0\"\n",
       "            allowfullscreen\n",
       "        ></iframe>\n",
       "        "
      ],
      "text/plain": [
       "<IPython.lib.display.YouTubeVideo at 0x1c69a30e3c8>"
      ]
     },
     "execution_count": 2,
     "metadata": {},
     "output_type": "execute_result"
    }
   ],
   "source": [
    "from IPython.display import YouTubeVideo\n",
    "\n",
    "YouTubeVideo('Jml7NVYm8cs')"
   ]
  },
  {
   "cell_type": "code",
   "execution_count": 3,
   "metadata": {},
   "outputs": [
    {
     "data": {
      "text/plain": [
       "'C:\\\\Users\\\\Samsung\\\\Google Drive (evidencen@evidencen.com)\\\\Data Science Lambda\\\\Unit 4_Machine Learning\\\\Natural Language Processing\\\\module1-text-data'"
      ]
     },
     "execution_count": 3,
     "metadata": {},
     "output_type": "execute_result"
    }
   ],
   "source": [
    "%pwd"
   ]
  },
  {
   "cell_type": "code",
   "execution_count": 4,
   "metadata": {},
   "outputs": [
    {
     "data": {
      "text/html": [
       "<div>\n",
       "<style scoped>\n",
       "    .dataframe tbody tr th:only-of-type {\n",
       "        vertical-align: middle;\n",
       "    }\n",
       "\n",
       "    .dataframe tbody tr th {\n",
       "        vertical-align: top;\n",
       "    }\n",
       "\n",
       "    .dataframe thead th {\n",
       "        text-align: right;\n",
       "    }\n",
       "</style>\n",
       "<table border=\"1\" class=\"dataframe\">\n",
       "  <thead>\n",
       "    <tr style=\"text-align: right;\">\n",
       "      <th></th>\n",
       "      <th>coffee_shop_name</th>\n",
       "      <th>full_review_text</th>\n",
       "      <th>star_rating</th>\n",
       "    </tr>\n",
       "  </thead>\n",
       "  <tbody>\n",
       "    <tr>\n",
       "      <th>0</th>\n",
       "      <td>The Factory - Cafe With a Soul</td>\n",
       "      <td>11/25/2016 1 check-in Love love loved the atm...</td>\n",
       "      <td>5.0 star rating</td>\n",
       "    </tr>\n",
       "    <tr>\n",
       "      <th>1</th>\n",
       "      <td>The Factory - Cafe With a Soul</td>\n",
       "      <td>12/2/2016 Listed in Date Night: Austin, Ambia...</td>\n",
       "      <td>4.0 star rating</td>\n",
       "    </tr>\n",
       "    <tr>\n",
       "      <th>2</th>\n",
       "      <td>The Factory - Cafe With a Soul</td>\n",
       "      <td>11/30/2016 1 check-in Listed in Brunch Spots ...</td>\n",
       "      <td>4.0 star rating</td>\n",
       "    </tr>\n",
       "    <tr>\n",
       "      <th>3</th>\n",
       "      <td>The Factory - Cafe With a Soul</td>\n",
       "      <td>11/25/2016 Very cool decor! Good drinks Nice ...</td>\n",
       "      <td>2.0 star rating</td>\n",
       "    </tr>\n",
       "    <tr>\n",
       "      <th>4</th>\n",
       "      <td>The Factory - Cafe With a Soul</td>\n",
       "      <td>12/3/2016 1 check-in They are located within ...</td>\n",
       "      <td>4.0 star rating</td>\n",
       "    </tr>\n",
       "  </tbody>\n",
       "</table>\n",
       "</div>"
      ],
      "text/plain": [
       "                  coffee_shop_name  \\\n",
       "0  The Factory - Cafe With a Soul    \n",
       "1  The Factory - Cafe With a Soul    \n",
       "2  The Factory - Cafe With a Soul    \n",
       "3  The Factory - Cafe With a Soul    \n",
       "4  The Factory - Cafe With a Soul    \n",
       "\n",
       "                                    full_review_text        star_rating  \n",
       "0   11/25/2016 1 check-in Love love loved the atm...   5.0 star rating   \n",
       "1   12/2/2016 Listed in Date Night: Austin, Ambia...   4.0 star rating   \n",
       "2   11/30/2016 1 check-in Listed in Brunch Spots ...   4.0 star rating   \n",
       "3   11/25/2016 Very cool decor! Good drinks Nice ...   2.0 star rating   \n",
       "4   12/3/2016 1 check-in They are located within ...   4.0 star rating   "
      ]
     },
     "execution_count": 4,
     "metadata": {},
     "output_type": "execute_result"
    }
   ],
   "source": [
    "import pandas as pd\n",
    "\n",
    "url = \"https://raw.githubusercontent.com/LambdaSchool/DS-Unit-4-Sprint-1-NLP/master/module1-text-data/data/yelp_coffeeshop_review_data.csv\"\n",
    "\n",
    "shops = pd.read_csv(url)\n",
    "shops.head()"
   ]
  },
  {
   "cell_type": "code",
   "execution_count": 5,
   "metadata": {},
   "outputs": [
    {
     "data": {
      "text/plain": [
       "Epoch Coffee                            400\n",
       "Halcyon                                 300\n",
       "The Factory - Cafe With a Soul          244\n",
       "Houndstooth Coffee                      200\n",
       "Venezia Italian Gelato                  200\n",
       "                                       ... \n",
       "Lucky Lab Coffee                         25\n",
       "Sister Coffee                            17\n",
       "Kowabunga Coffee                         16\n",
       "The Marvelous Vintage Tea Party Co.      10\n",
       "Lola Savannah Coffee Downtown             4\n",
       "Name: coffee_shop_name, Length: 79, dtype: int64"
      ]
     },
     "execution_count": 5,
     "metadata": {},
     "output_type": "execute_result"
    }
   ],
   "source": [
    "# checking if all reviews is from the same coffe shop\n",
    "\n",
    "shops['coffee_shop_name'].value_counts()"
   ]
  },
  {
   "cell_type": "code",
   "execution_count": 6,
   "metadata": {},
   "outputs": [
    {
     "data": {
      "text/html": [
       "<div>\n",
       "<style scoped>\n",
       "    .dataframe tbody tr th:only-of-type {\n",
       "        vertical-align: middle;\n",
       "    }\n",
       "\n",
       "    .dataframe tbody tr th {\n",
       "        vertical-align: top;\n",
       "    }\n",
       "\n",
       "    .dataframe thead th {\n",
       "        text-align: right;\n",
       "    }\n",
       "</style>\n",
       "<table border=\"1\" class=\"dataframe\">\n",
       "  <thead>\n",
       "    <tr style=\"text-align: right;\">\n",
       "      <th></th>\n",
       "      <th>coffee_shop_name</th>\n",
       "      <th>full_review_text</th>\n",
       "      <th>star_rating</th>\n",
       "    </tr>\n",
       "  </thead>\n",
       "  <tbody>\n",
       "    <tr>\n",
       "      <th>0</th>\n",
       "      <td>The Factory - Cafe With a Soul</td>\n",
       "      <td>11/25/2016 1 check-in Love love loved the atm...</td>\n",
       "      <td>5.0 star rating</td>\n",
       "    </tr>\n",
       "    <tr>\n",
       "      <th>1</th>\n",
       "      <td>The Factory - Cafe With a Soul</td>\n",
       "      <td>12/2/2016 Listed in Date Night: Austin, Ambia...</td>\n",
       "      <td>4.0 star rating</td>\n",
       "    </tr>\n",
       "    <tr>\n",
       "      <th>2</th>\n",
       "      <td>The Factory - Cafe With a Soul</td>\n",
       "      <td>11/30/2016 1 check-in Listed in Brunch Spots ...</td>\n",
       "      <td>4.0 star rating</td>\n",
       "    </tr>\n",
       "    <tr>\n",
       "      <th>3</th>\n",
       "      <td>The Factory - Cafe With a Soul</td>\n",
       "      <td>11/25/2016 Very cool decor! Good drinks Nice ...</td>\n",
       "      <td>2.0 star rating</td>\n",
       "    </tr>\n",
       "    <tr>\n",
       "      <th>4</th>\n",
       "      <td>The Factory - Cafe With a Soul</td>\n",
       "      <td>12/3/2016 1 check-in They are located within ...</td>\n",
       "      <td>4.0 star rating</td>\n",
       "    </tr>\n",
       "    <tr>\n",
       "      <th>5</th>\n",
       "      <td>The Factory - Cafe With a Soul</td>\n",
       "      <td>11/20/2016 1 check-in Very cute cafe! I think...</td>\n",
       "      <td>4.0 star rating</td>\n",
       "    </tr>\n",
       "    <tr>\n",
       "      <th>6</th>\n",
       "      <td>The Factory - Cafe With a Soul</td>\n",
       "      <td>10/27/2016 2 check-ins Listed in \"Nuptial Cof...</td>\n",
       "      <td>4.0 star rating</td>\n",
       "    </tr>\n",
       "    <tr>\n",
       "      <th>7</th>\n",
       "      <td>The Factory - Cafe With a Soul</td>\n",
       "      <td>11/2/2016 2 check-ins Love this place!  5 sta...</td>\n",
       "      <td>5.0 star rating</td>\n",
       "    </tr>\n",
       "    <tr>\n",
       "      <th>8</th>\n",
       "      <td>The Factory - Cafe With a Soul</td>\n",
       "      <td>10/25/2016 1 check-in Ok, let's try this appr...</td>\n",
       "      <td>3.0 star rating</td>\n",
       "    </tr>\n",
       "    <tr>\n",
       "      <th>9</th>\n",
       "      <td>The Factory - Cafe With a Soul</td>\n",
       "      <td>11/10/2016 3 check-ins This place has been sh...</td>\n",
       "      <td>5.0 star rating</td>\n",
       "    </tr>\n",
       "    <tr>\n",
       "      <th>10</th>\n",
       "      <td>The Factory - Cafe With a Soul</td>\n",
       "      <td>10/22/2016 1 check-in Listed in Americano Thi...</td>\n",
       "      <td>4.0 star rating</td>\n",
       "    </tr>\n",
       "    <tr>\n",
       "      <th>11</th>\n",
       "      <td>The Factory - Cafe With a Soul</td>\n",
       "      <td>11/20/2016 The store has A+ decoration, but h...</td>\n",
       "      <td>3.0 star rating</td>\n",
       "    </tr>\n",
       "    <tr>\n",
       "      <th>12</th>\n",
       "      <td>The Factory - Cafe With a Soul</td>\n",
       "      <td>11/17/2016 1 check-in Listed in 2016 - The Th...</td>\n",
       "      <td>3.0 star rating</td>\n",
       "    </tr>\n",
       "    <tr>\n",
       "      <th>13</th>\n",
       "      <td>The Factory - Cafe With a Soul</td>\n",
       "      <td>12/5/2016 This is such a cute little cafe! I'...</td>\n",
       "      <td>5.0 star rating</td>\n",
       "    </tr>\n",
       "    <tr>\n",
       "      <th>14</th>\n",
       "      <td>The Factory - Cafe With a Soul</td>\n",
       "      <td>11/13/2016 Beautiful eccentric coffee shop wi...</td>\n",
       "      <td>5.0 star rating</td>\n",
       "    </tr>\n",
       "    <tr>\n",
       "      <th>15</th>\n",
       "      <td>The Factory - Cafe With a Soul</td>\n",
       "      <td>11/9/2016 1 check-in Listed in In Search of F...</td>\n",
       "      <td>5.0 star rating</td>\n",
       "    </tr>\n",
       "    <tr>\n",
       "      <th>16</th>\n",
       "      <td>The Factory - Cafe With a Soul</td>\n",
       "      <td>11/6/2016 Really love the atmosphere here! I ...</td>\n",
       "      <td>5.0 star rating</td>\n",
       "    </tr>\n",
       "    <tr>\n",
       "      <th>17</th>\n",
       "      <td>The Factory - Cafe With a Soul</td>\n",
       "      <td>10/25/2016 1 check-in Check out this video fo...</td>\n",
       "      <td>4.0 star rating</td>\n",
       "    </tr>\n",
       "    <tr>\n",
       "      <th>18</th>\n",
       "      <td>The Factory - Cafe With a Soul</td>\n",
       "      <td>10/15/2016 1 check-in Note: Do not come here ...</td>\n",
       "      <td>4.0 star rating</td>\n",
       "    </tr>\n",
       "    <tr>\n",
       "      <th>19</th>\n",
       "      <td>The Factory - Cafe With a Soul</td>\n",
       "      <td>12/1/2016 So much aesthetic in this place. I ...</td>\n",
       "      <td>4.0 star rating</td>\n",
       "    </tr>\n",
       "  </tbody>\n",
       "</table>\n",
       "</div>"
      ],
      "text/plain": [
       "                   coffee_shop_name  \\\n",
       "0   The Factory - Cafe With a Soul    \n",
       "1   The Factory - Cafe With a Soul    \n",
       "2   The Factory - Cafe With a Soul    \n",
       "3   The Factory - Cafe With a Soul    \n",
       "4   The Factory - Cafe With a Soul    \n",
       "5   The Factory - Cafe With a Soul    \n",
       "6   The Factory - Cafe With a Soul    \n",
       "7   The Factory - Cafe With a Soul    \n",
       "8   The Factory - Cafe With a Soul    \n",
       "9   The Factory - Cafe With a Soul    \n",
       "10  The Factory - Cafe With a Soul    \n",
       "11  The Factory - Cafe With a Soul    \n",
       "12  The Factory - Cafe With a Soul    \n",
       "13  The Factory - Cafe With a Soul    \n",
       "14  The Factory - Cafe With a Soul    \n",
       "15  The Factory - Cafe With a Soul    \n",
       "16  The Factory - Cafe With a Soul    \n",
       "17  The Factory - Cafe With a Soul    \n",
       "18  The Factory - Cafe With a Soul    \n",
       "19  The Factory - Cafe With a Soul    \n",
       "\n",
       "                                     full_review_text        star_rating  \n",
       "0    11/25/2016 1 check-in Love love loved the atm...   5.0 star rating   \n",
       "1    12/2/2016 Listed in Date Night: Austin, Ambia...   4.0 star rating   \n",
       "2    11/30/2016 1 check-in Listed in Brunch Spots ...   4.0 star rating   \n",
       "3    11/25/2016 Very cool decor! Good drinks Nice ...   2.0 star rating   \n",
       "4    12/3/2016 1 check-in They are located within ...   4.0 star rating   \n",
       "5    11/20/2016 1 check-in Very cute cafe! I think...   4.0 star rating   \n",
       "6    10/27/2016 2 check-ins Listed in \"Nuptial Cof...   4.0 star rating   \n",
       "7    11/2/2016 2 check-ins Love this place!  5 sta...   5.0 star rating   \n",
       "8    10/25/2016 1 check-in Ok, let's try this appr...   3.0 star rating   \n",
       "9    11/10/2016 3 check-ins This place has been sh...   5.0 star rating   \n",
       "10   10/22/2016 1 check-in Listed in Americano Thi...   4.0 star rating   \n",
       "11   11/20/2016 The store has A+ decoration, but h...   3.0 star rating   \n",
       "12   11/17/2016 1 check-in Listed in 2016 - The Th...   3.0 star rating   \n",
       "13   12/5/2016 This is such a cute little cafe! I'...   5.0 star rating   \n",
       "14   11/13/2016 Beautiful eccentric coffee shop wi...   5.0 star rating   \n",
       "15   11/9/2016 1 check-in Listed in In Search of F...   5.0 star rating   \n",
       "16   11/6/2016 Really love the atmosphere here! I ...   5.0 star rating   \n",
       "17   10/25/2016 1 check-in Check out this video fo...   4.0 star rating   \n",
       "18   10/15/2016 1 check-in Note: Do not come here ...   4.0 star rating   \n",
       "19   12/1/2016 So much aesthetic in this place. I ...   4.0 star rating   "
      ]
     },
     "execution_count": 6,
     "metadata": {},
     "output_type": "execute_result"
    }
   ],
   "source": [
    "# Start here \n",
    "\n",
    "# remove dates from full_review_text.\n",
    "# Combine check-in with check-ins from full_review_text\n",
    "# remove the number that appears after dates\n",
    "# treat check-in as a stop word and remove it. \n",
    "\n",
    "shops.head(20)"
   ]
  },
  {
   "cell_type": "code",
   "execution_count": 7,
   "metadata": {},
   "outputs": [
    {
     "data": {
      "text/plain": [
       "0        11/25/2016 1 check-in Love love loved the atm...\n",
       "1        12/2/2016 Listed in Date Night: Austin, Ambia...\n",
       "2        11/30/2016 1 check-in Listed in Brunch Spots ...\n",
       "3        11/25/2016 Very cool decor! Good drinks Nice ...\n",
       "4        12/3/2016 1 check-in They are located within ...\n",
       "                              ...                        \n",
       "7611     2/19/2015 I actually step into this restauran...\n",
       "7612     1/21/2016 Ok, The Steeping Room IS awesome. H...\n",
       "7613     4/30/2015 Loved coming here for tea, and the ...\n",
       "7614     8/2/2015 The food is just average. The booths...\n",
       "7615     5/23/2015 I finally stopped in for lunch with...\n",
       "Name: full_review_text, Length: 7616, dtype: object"
      ]
     },
     "execution_count": 7,
     "metadata": {},
     "output_type": "execute_result"
    }
   ],
   "source": [
    "# preview of full_text_Review column\n",
    "shops['full_review_text']\n"
   ]
  },
  {
   "cell_type": "code",
   "execution_count": 8,
   "metadata": {},
   "outputs": [
    {
     "data": {
      "text/plain": [
       "coffee_shop_name    object\n",
       "full_review_text    object\n",
       "star_rating         object\n",
       "dtype: object"
      ]
     },
     "execution_count": 8,
     "metadata": {},
     "output_type": "execute_result"
    }
   ],
   "source": [
    "shops.dtypes"
   ]
  },
  {
   "cell_type": "code",
   "execution_count": 9,
   "metadata": {},
   "outputs": [
    {
     "data": {
      "text/plain": [
       " 5.0 star rating     3780\n",
       " 4.0 star rating     2360\n",
       " 3.0 star rating      738\n",
       " 2.0 star rating      460\n",
       " 1.0 star rating      278\n",
       "Name: star_rating, dtype: int64"
      ]
     },
     "execution_count": 9,
     "metadata": {},
     "output_type": "execute_result"
    }
   ],
   "source": [
    "# preview of star rating column\n",
    "\n",
    "shops['star_rating'].value_counts()"
   ]
  },
  {
   "cell_type": "code",
   "execution_count": 10,
   "metadata": {},
   "outputs": [
    {
     "data": {
      "text/plain": [
       "0        5.0 star rating \n",
       "1        4.0 star rating \n",
       "2        4.0 star rating \n",
       "3        2.0 star rating \n",
       "4        4.0 star rating \n",
       "              ...        \n",
       "7611     4.0 star rating \n",
       "7612     5.0 star rating \n",
       "7613     4.0 star rating \n",
       "7614     3.0 star rating \n",
       "7615     4.0 star rating \n",
       "Name: star_rating, Length: 7616, dtype: object"
      ]
     },
     "execution_count": 10,
     "metadata": {},
     "output_type": "execute_result"
    }
   ],
   "source": [
    "shops['star_rating']"
   ]
  },
  {
   "cell_type": "markdown",
   "metadata": {},
   "source": [
    "## **use regex to only keep text from full_text_review**\n",
    "\n",
    "## **use regex to only keep numbers from star_rating column**\n",
    " \n",
    "## **tokenize full_text_review**\n",
    "\n",
    "## **use lambda expression to combine check-in and check-ins**\n",
    " \n",
    "## **add check in to stop words to remove**\n",
    " \n",
    "## **make everything lower case**\n",
    " \n",
    "## **start analysis**"
   ]
  },
  {
   "cell_type": "code",
   "execution_count": 11,
   "metadata": {},
   "outputs": [],
   "source": [
    "import re"
   ]
  },
  {
   "cell_type": "code",
   "execution_count": 12,
   "metadata": {},
   "outputs": [
    {
     "data": {
      "text/plain": [
       "' 11/25/2016 1 check-in Love love loved the atmosphere! Every corner of the coffee shop had its own style, and there were swings!!! I ordered the matcha latte, and it was muy fantastico! Ordering and getting my drink were pretty streamlined. I ordered on an iPad, which included all beverage selections that ranged from coffee to wine, desired level of sweetness, and a checkout system. I got my latte within minutes!  I was hoping for a typical heart or feather on my latte, but found myself listing out all the possibilities of what the art may be. Any ideas? '"
      ]
     },
     "execution_count": 12,
     "metadata": {},
     "output_type": "execute_result"
    }
   ],
   "source": [
    "# creating a sample data. \n",
    "\n",
    "sample = shops['full_review_text'][0]\n",
    "sample"
   ]
  },
  {
   "cell_type": "code",
   "execution_count": 13,
   "metadata": {},
   "outputs": [
    {
     "data": {
      "text/plain": [
       "'   checkin Love love loved the atmosphere Every corner of the coffee shop had its own style and there were swings I ordered the matcha latte and it was muy fantastico Ordering and getting my drink were pretty streamlined I ordered on an iPad which included all beverage selections that ranged from coffee to wine desired level of sweetness and a checkout system I got my latte within minutes  I was hoping for a typical heart or feather on my latte but found myself listing out all the possibilities of what the art may be Any ideas '"
      ]
     },
     "execution_count": 13,
     "metadata": {},
     "output_type": "execute_result"
    }
   ],
   "source": [
    "# attempting to remove dates using regular expression. \n",
    "sample2 = re.sub('[^a-zA-Z ]', '', sample)\n",
    "sample2"
   ]
  },
  {
   "cell_type": "code",
   "execution_count": 14,
   "metadata": {},
   "outputs": [],
   "source": [
    "# import spacy\n",
    "import spacy\n",
    "from spacy.tokenizer import Tokenizer"
   ]
  },
  {
   "cell_type": "code",
   "execution_count": 15,
   "metadata": {},
   "outputs": [],
   "source": [
    "# attempting to tokenize the text using spacy\n",
    "\n",
    "# instantiating spacy. \n",
    "# en_core_web_lg = language spacy should use for tokenization\n",
    "\n",
    "nlp = spacy.load(\"en_core_web_lg\")\n",
    "tokenizer = Tokenizer(nlp.vocab)"
   ]
  },
  {
   "cell_type": "code",
   "execution_count": 16,
   "metadata": {},
   "outputs": [
    {
     "data": {
      "text/plain": [
       "['   ',\n",
       " 'checkin',\n",
       " 'Love',\n",
       " 'love',\n",
       " 'loved',\n",
       " 'the',\n",
       " 'atmosphere',\n",
       " 'Every',\n",
       " 'corner',\n",
       " 'of',\n",
       " 'the',\n",
       " 'coffee',\n",
       " 'shop',\n",
       " 'had',\n",
       " 'its',\n",
       " 'own',\n",
       " 'style',\n",
       " 'and',\n",
       " 'there',\n",
       " 'were',\n",
       " 'swings',\n",
       " 'I',\n",
       " 'ordered',\n",
       " 'the',\n",
       " 'matcha',\n",
       " 'latte',\n",
       " 'and',\n",
       " 'it',\n",
       " 'was',\n",
       " 'muy',\n",
       " 'fantastico',\n",
       " 'Ordering',\n",
       " 'and',\n",
       " 'getting',\n",
       " 'my',\n",
       " 'drink',\n",
       " 'were',\n",
       " 'pretty',\n",
       " 'streamlined',\n",
       " 'I',\n",
       " 'ordered',\n",
       " 'on',\n",
       " 'an',\n",
       " 'iPad',\n",
       " 'which',\n",
       " 'included',\n",
       " 'all',\n",
       " 'beverage',\n",
       " 'selections',\n",
       " 'that',\n",
       " 'ranged',\n",
       " 'from',\n",
       " 'coffee',\n",
       " 'to',\n",
       " 'wine',\n",
       " 'desired',\n",
       " 'level',\n",
       " 'of',\n",
       " 'sweetness',\n",
       " 'and',\n",
       " 'a',\n",
       " 'checkout',\n",
       " 'system',\n",
       " 'I',\n",
       " 'got',\n",
       " 'my',\n",
       " 'latte',\n",
       " 'within',\n",
       " 'minutes',\n",
       " ' ',\n",
       " 'I',\n",
       " 'was',\n",
       " 'hoping',\n",
       " 'for',\n",
       " 'a',\n",
       " 'typical',\n",
       " 'heart',\n",
       " 'or',\n",
       " 'feather',\n",
       " 'on',\n",
       " 'my',\n",
       " 'latte',\n",
       " 'but',\n",
       " 'found',\n",
       " 'myself',\n",
       " 'listing',\n",
       " 'out',\n",
       " 'all',\n",
       " 'the',\n",
       " 'possibilities',\n",
       " 'of',\n",
       " 'what',\n",
       " 'the',\n",
       " 'art',\n",
       " 'may',\n",
       " 'be',\n",
       " 'Any',\n",
       " 'ideas']"
      ]
     },
     "execution_count": 16,
     "metadata": {},
     "output_type": "execute_result"
    }
   ],
   "source": [
    "# tokenizing sample\n",
    "\n",
    "[token.text for token in tokenizer(sample2)]"
   ]
  },
  {
   "cell_type": "markdown",
   "metadata": {},
   "source": [
    "## How tokenization works. \n",
    "\n",
    "What is tokenization - https://spacy.io/usage/linguistic-features#tokenization\n",
    "\n",
    "What is a doc - https://spacy.io/api/doc\n",
    "\n",
    "What is a token - https://spacy.io/api/token\n",
    "\n",
    "What is a vocab - https://spacy.io/api/vocab"
   ]
  },
  {
   "cell_type": "code",
   "execution_count": 17,
   "metadata": {},
   "outputs": [
    {
     "data": {
      "text/plain": [
       "0    [ , 11/25/2016, 1, check-in, Love, love, loved...\n",
       "1    [ , 12/2/2016, Listed, in, Date, Night:, Austi...\n",
       "2    [ , 11/30/2016, 1, check-in, Listed, in, Brunc...\n",
       "3    [ , 11/25/2016, Very, cool, decor!, Good, drin...\n",
       "4    [ , 12/3/2016, 1, check-in, They, are, located...\n",
       "Name: review_tokens, dtype: object"
      ]
     },
     "execution_count": 17,
     "metadata": {},
     "output_type": "execute_result"
    }
   ],
   "source": [
    "# now apply this regex and tokenization to entire column of full_text_reviews. \n",
    "\n",
    "# a doc is a collection of tokens. each line is a doc. \n",
    "# a token is words, numbers, punctuation. \n",
    "\n",
    "result = []\n",
    "for doc in tokenizer.pipe(shops['full_review_text'], batch_size=500):\n",
    "    # tokenizing each doc. \n",
    "    doc_token = [token.text for token in doc]\n",
    "    result.append(doc_token)\n",
    "    \n",
    "\n",
    "shops['review_tokens'] = result\n",
    "shops['review_tokens'].head()"
   ]
  },
  {
   "cell_type": "code",
   "execution_count": 18,
   "metadata": {},
   "outputs": [
    {
     "data": {
      "text/plain": [
       "['11/25/2016']"
      ]
     },
     "execution_count": 18,
     "metadata": {},
     "output_type": "execute_result"
    }
   ],
   "source": [
    "# now use regex to find dates, numbers, dollar symbols and remove them. \n",
    "\n",
    "# how to use regex to find dates\n",
    "date_sample = shops['review_tokens'][0]\n",
    "re.findall(r'\\b[0-3]?[0-9]/[0-3]?[0-9]/(?:[0-9]{2})?[0-9]{2}\\b', sample)"
   ]
  },
  {
   "cell_type": "code",
   "execution_count": 19,
   "metadata": {},
   "outputs": [],
   "source": [
    "# see if I can repeat the regex above that removes dates, \n",
    "# but apply it to the entire column\n",
    "\n",
    "no_dates = [re.sub('[^a-zA-Z ]', '', text) for text in shops['full_review_text']]"
   ]
  },
  {
   "cell_type": "code",
   "execution_count": 20,
   "metadata": {},
   "outputs": [
    {
     "data": {
      "text/plain": [
       "0       checkin Love love loved the atmosphere Ever...\n",
       "1      Listed in Date Night Austin Ambiance in Aust...\n",
       "2       checkin Listed in Brunch Spots I loved the ...\n",
       "3      Very cool decor Good drinks Nice seating  Ho...\n",
       "4       checkin They are located within the Northcr...\n",
       "Name: no_dates, dtype: object"
      ]
     },
     "execution_count": 20,
     "metadata": {},
     "output_type": "execute_result"
    }
   ],
   "source": [
    "# now create a new column that has same \n",
    "# information as full_review_text but with no nates\n",
    "\n",
    "shops['no_dates'] = no_dates\n",
    "shops['no_dates'].head()"
   ]
  },
  {
   "cell_type": "code",
   "execution_count": 21,
   "metadata": {},
   "outputs": [
    {
     "data": {
      "text/plain": [
       "0    [   , checkin, Love, love, loved, the, atmosph...\n",
       "1    [  , Listed, in, Date, Night, Austin, Ambiance...\n",
       "2    [   , checkin, Listed, in, Brunch, Spots, I, l...\n",
       "3    [  , Very, cool, decor, Good, drinks, Nice, se...\n",
       "4    [   , checkin, They, are, located, within, the...\n",
       "Name: review_tokens2, dtype: object"
      ]
     },
     "execution_count": 21,
     "metadata": {},
     "output_type": "execute_result"
    }
   ],
   "source": [
    "# now repeat the tokenization step above and the result\n",
    "# should be what we want without the dates. Let's see\n",
    "\n",
    "result2 = []\n",
    "for doc in tokenizer.pipe(shops['no_dates'], batch_size=500):\n",
    "    # tokenizing each doc. \n",
    "    doc_token = [token.text for token in doc]\n",
    "    result2.append(doc_token)\n",
    "    \n",
    "\n",
    "shops['review_tokens2'] = result2\n",
    "shops['review_tokens2'].head()"
   ]
  },
  {
   "cell_type": "code",
   "execution_count": 22,
   "metadata": {},
   "outputs": [],
   "source": [
    "# add checkin and checkins to stop words\n",
    "\n",
    "stop_words = nlp.Defaults.stop_words.union(['shop','coffee', 'place','im','checkin', 'checkins', \"  \", \"   \", \"$\", ' '])"
   ]
  },
  {
   "cell_type": "markdown",
   "metadata": {},
   "source": [
    "## Apply tokenization to the column that has the dates removed, then remove stop words, then make it lower case, then create a new column to store that information. "
   ]
  },
  {
   "cell_type": "code",
   "execution_count": 23,
   "metadata": {},
   "outputs": [
    {
     "data": {
      "text/plain": [
       "0    [love, love, loved, atmosphere, corner, shop, ...\n",
       "1    [listed, date, night, austin, ambiance, austin...\n",
       "2    [listed, brunch, spots, loved, eclectic, homey...\n",
       "3    [cool, decor, good, drinks, nice, seating, ove...\n",
       "4    [located, northcross, mall, shopping, center, ...\n",
       "Name: review_tokens3, dtype: object"
      ]
     },
     "execution_count": 23,
     "metadata": {},
     "output_type": "execute_result"
    }
   ],
   "source": [
    "# to get rid of the white space in front, \n",
    "# i could remove the first index of everything in the list\n",
    "# or I could add double and tripple white spaces to stop words. \n",
    "# adding double and tripple white space to stop words might be the better version\n",
    "# because I don't know the information located on the first index of every\n",
    "# line/text/list of tokens. First index of every doc is unknown. \n",
    "\n",
    "# unpon further examination, putting spaces in stop words is the better option since\n",
    "# double and triple white spaces are located in other places within the doc. \n",
    "\n",
    "# no punction in review_tokens 2 because they where taken out by the regex substitution\n",
    "\n",
    "\n",
    "results3 = []\n",
    "\n",
    "for doc in tokenizer.pipe(shops['no_dates'], batch_size=500):\n",
    "    doc_tokens = [] \n",
    "    \n",
    "    for token in doc:\n",
    "        if token.text.lower() not in stop_words:\n",
    "            doc_tokens.append(token.text.lower())\n",
    "            \n",
    "    results3.append(doc_tokens)\n",
    "    \n",
    "shops['review_tokens3'] = results3\n",
    "shops['review_tokens3'].head()"
   ]
  },
  {
   "cell_type": "markdown",
   "metadata": {},
   "source": [
    "# now remove \"star rating\" from star rating column"
   ]
  },
  {
   "cell_type": "code",
   "execution_count": 24,
   "metadata": {},
   "outputs": [
    {
     "data": {
      "text/plain": [
       "' 5.0 star rating '"
      ]
     },
     "execution_count": 24,
     "metadata": {},
     "output_type": "execute_result"
    }
   ],
   "source": [
    "star_sample = shops['star_rating'][0]\n",
    "star_sample"
   ]
  },
  {
   "cell_type": "code",
   "execution_count": 25,
   "metadata": {},
   "outputs": [
    {
     "data": {
      "text/plain": [
       "'5'"
      ]
     },
     "execution_count": 25,
     "metadata": {},
     "output_type": "execute_result"
    }
   ],
   "source": [
    "# I can remove the star rating words as well as preceding and proceding spaces by \n",
    "# dropping them or I can just create a regex that only contains numbers\n",
    "\n",
    "re.sub('[^1-9]',\"\",star_sample)"
   ]
  },
  {
   "cell_type": "code",
   "execution_count": 26,
   "metadata": {},
   "outputs": [],
   "source": [
    "rating = [re.sub('[^1-9]',\"\",star_sample) for star_sample in shops['star_rating']]\n",
    "\n",
    "shops['rating'] = rating"
   ]
  },
  {
   "cell_type": "code",
   "execution_count": 27,
   "metadata": {},
   "outputs": [
    {
     "data": {
      "text/plain": [
       "0    5\n",
       "1    4\n",
       "2    4\n",
       "3    2\n",
       "4    4\n",
       "Name: rating, dtype: object"
      ]
     },
     "execution_count": 27,
     "metadata": {},
     "output_type": "execute_result"
    }
   ],
   "source": [
    "shops['rating'].head()"
   ]
  },
  {
   "cell_type": "code",
   "execution_count": 28,
   "metadata": {},
   "outputs": [
    {
     "data": {
      "text/plain": [
       "coffee_shop_name    object\n",
       "full_review_text    object\n",
       "star_rating         object\n",
       "review_tokens       object\n",
       "no_dates            object\n",
       "review_tokens2      object\n",
       "review_tokens3      object\n",
       "rating              object\n",
       "dtype: object"
      ]
     },
     "execution_count": 28,
     "metadata": {},
     "output_type": "execute_result"
    }
   ],
   "source": [
    "shops.dtypes\n",
    "\n",
    "# rating column is an object although I could cast it into an integer. \n"
   ]
  },
  {
   "cell_type": "markdown",
   "metadata": {},
   "source": [
    "## How do we want to analyze these coffee shop tokens? \n",
    "\n",
    "- Overall Word / Token Count\n",
    "- View Counts by Rating \n",
    "- *Hint:* a 'bad' coffee shops has a rating betweeen 1 & 3 based on the distribution of ratings. A 'good' coffee shop is a 4 or 5. "
   ]
  },
  {
   "cell_type": "code",
   "execution_count": 29,
   "metadata": {},
   "outputs": [
    {
     "data": {
      "text/plain": [
       "['love',\n",
       " 'love',\n",
       " 'loved',\n",
       " 'atmosphere',\n",
       " 'corner',\n",
       " 'shop',\n",
       " 'style',\n",
       " 'swings',\n",
       " 'ordered',\n",
       " 'matcha',\n",
       " 'latte',\n",
       " 'muy',\n",
       " 'fantastico',\n",
       " 'ordering',\n",
       " 'getting',\n",
       " 'drink',\n",
       " 'pretty',\n",
       " 'streamlined',\n",
       " 'ordered',\n",
       " 'ipad',\n",
       " 'included',\n",
       " 'beverage',\n",
       " 'selections',\n",
       " 'ranged',\n",
       " 'wine',\n",
       " 'desired',\n",
       " 'level',\n",
       " 'sweetness',\n",
       " 'checkout',\n",
       " 'system',\n",
       " 'got',\n",
       " 'latte',\n",
       " 'minutes',\n",
       " 'hoping',\n",
       " 'typical',\n",
       " 'heart',\n",
       " 'feather',\n",
       " 'latte',\n",
       " 'found',\n",
       " 'listing',\n",
       " 'possibilities',\n",
       " 'art',\n",
       " 'ideas']"
      ]
     },
     "execution_count": 29,
     "metadata": {},
     "output_type": "execute_result"
    }
   ],
   "source": [
    "shops['review_tokens3'][0]"
   ]
  },
  {
   "cell_type": "code",
   "execution_count": 30,
   "metadata": {},
   "outputs": [
    {
     "data": {
      "text/plain": [
       "Counter({'love': 2,\n",
       "         'loved': 1,\n",
       "         'atmosphere': 1,\n",
       "         'corner': 1,\n",
       "         'shop': 1,\n",
       "         'style': 1,\n",
       "         'swings': 1,\n",
       "         'ordered': 2,\n",
       "         'matcha': 1,\n",
       "         'latte': 3,\n",
       "         'muy': 1,\n",
       "         'fantastico': 1,\n",
       "         'ordering': 1,\n",
       "         'getting': 1,\n",
       "         'drink': 1,\n",
       "         'pretty': 1,\n",
       "         'streamlined': 1,\n",
       "         'ipad': 1,\n",
       "         'included': 1,\n",
       "         'beverage': 1,\n",
       "         'selections': 1,\n",
       "         'ranged': 1,\n",
       "         'wine': 1,\n",
       "         'desired': 1,\n",
       "         'level': 1,\n",
       "         'sweetness': 1,\n",
       "         'checkout': 1,\n",
       "         'system': 1,\n",
       "         'got': 1,\n",
       "         'minutes': 1,\n",
       "         'hoping': 1,\n",
       "         'typical': 1,\n",
       "         'heart': 1,\n",
       "         'feather': 1,\n",
       "         'found': 1,\n",
       "         'listing': 1,\n",
       "         'possibilities': 1,\n",
       "         'art': 1,\n",
       "         'ideas': 1})"
      ]
     },
     "execution_count": 30,
     "metadata": {},
     "output_type": "execute_result"
    }
   ],
   "source": [
    "# overall word count and token count\n",
    "\n",
    "# count the number of words in review_tokens3\n",
    "\n",
    "# count the number of words in review_tokens3 based on the number of ratings. \n",
    "\n",
    "#  A counter is a container that stores elements as dictionary keys, \n",
    "# and their counts are stored as dictionary values.\n",
    "\n",
    "# https://www.hackerrank.com/challenges/collections-counter/problem\n",
    "\n",
    "# word count in review_tokens3 for a single row\n",
    "\n",
    "count = Counter(shops['review_tokens3'][0])\n",
    "\n",
    "count"
   ]
  },
  {
   "cell_type": "code",
   "execution_count": 31,
   "metadata": {},
   "outputs": [
    {
     "data": {
      "text/plain": [
       "[('love', 2),\n",
       " ('loved', 1),\n",
       " ('atmosphere', 1),\n",
       " ('corner', 1),\n",
       " ('shop', 1),\n",
       " ('style', 1),\n",
       " ('swings', 1),\n",
       " ('ordered', 2),\n",
       " ('matcha', 1),\n",
       " ('latte', 3)]"
      ]
     },
     "execution_count": 31,
     "metadata": {},
     "output_type": "execute_result"
    }
   ],
   "source": [
    "# casting the \"count\" result into a dictionary\n",
    "a = dict(count)\n",
    "\n",
    "# casting the \"a\" into a list so that I can index it and obtain only\n",
    "# a subset of the data if needed\n",
    "\n",
    "b = list(a.items())\n",
    "\n",
    "b[:10]"
   ]
  },
  {
   "cell_type": "code",
   "execution_count": 32,
   "metadata": {},
   "outputs": [
    {
     "data": {
      "text/plain": [
       "[('good', 3973),\n",
       " ('great', 3919),\n",
       " ('like', 3088),\n",
       " ('austin', 2252),\n",
       " ('love', 1935),\n",
       " ('time', 1884),\n",
       " ('food', 1836),\n",
       " ('nice', 1741),\n",
       " ('shop', 1680),\n",
       " ('friendly', 1659)]"
      ]
     },
     "execution_count": 32,
     "metadata": {},
     "output_type": "execute_result"
    }
   ],
   "source": [
    "#  A counter is a container that stores elements as dictionary keys, \n",
    "# and their counts are stored as dictionary values.\n",
    "\n",
    "# word count in review_tokens3 for a single row\n",
    "\n",
    "# count = Counter(shops['review_tokens3'][0])\n",
    "\n",
    "# I figured out how to use counter for a single row\n",
    "# Now, I need to figure out how to use counter to \n",
    "# count each row in a column\n",
    "\n",
    "# instantiate the counter function\n",
    "review_count = Counter()\n",
    "\n",
    "# count each word(token) in each doc(list of tokens = each row) \n",
    "# in the review_tokens column\n",
    "# then update the counter above\n",
    "\n",
    "shops['review_tokens3'].apply(lambda tokens: review_count.update(tokens))\n",
    "\n",
    "# how to interprete the code above.\n",
    "# apply to shops['review_tokens3'] the following function\n",
    "# the function being used is a lambda function\n",
    "# tokens = argument for lambda function\n",
    "# tokens = individual words being counted from the shops['review_tokens3'] column\n",
    "# review_count.update(tokens) = the expression for the lambda function\n",
    "# update the number of counts stored in review_count\n",
    "\n",
    "review_count.most_common(10)\n"
   ]
  },
  {
   "cell_type": "code",
   "execution_count": 33,
   "metadata": {},
   "outputs": [
    {
     "data": {
      "text/plain": [
       "[('love', 1935),\n",
       " ('loved', 366),\n",
       " ('atmosphere', 969),\n",
       " ('corner', 163),\n",
       " ('shop', 1680),\n",
       " ('style', 101),\n",
       " ('swings', 65),\n",
       " ('ordered', 941),\n",
       " ('matcha', 189),\n",
       " ('latte', 1615)]"
      ]
     },
     "execution_count": 33,
     "metadata": {},
     "output_type": "execute_result"
    }
   ],
   "source": [
    "# casting the result of review_count into a dictionary\n",
    "c = dict(review_count)\n",
    "\n",
    "# casting the \"c\" into a list so that I can index it and obtain only\n",
    "# a subset of the data if needed\n",
    "\n",
    "d = list(c.items())\n",
    "\n",
    "d[:10]"
   ]
  },
  {
   "cell_type": "code",
   "execution_count": 34,
   "metadata": {},
   "outputs": [
    {
     "data": {
      "text/plain": [
       "Index(['coffee_shop_name', 'full_review_text', 'star_rating', 'review_tokens',\n",
       "       'no_dates', 'review_tokens2', 'review_tokens3', 'rating'],\n",
       "      dtype='object')"
      ]
     },
     "execution_count": 34,
     "metadata": {},
     "output_type": "execute_result"
    }
   ],
   "source": [
    "shops.columns"
   ]
  },
  {
   "cell_type": "code",
   "execution_count": 35,
   "metadata": {},
   "outputs": [
    {
     "data": {
      "text/plain": [
       "'\\nFailed Experiment\\n\\nif (shops[\\'rating\\'] == \"4\") | (shops[\\'rating\\'] == \"5\"):\\n    shops[\\'review_tokens3\\'].apply(lambda tokens: good_review_count.update(tokens))\\nelse:\\n    shops[\\'review_tokens3\\'].apply(lambda tokens: bad_review_count.update(tokens))'"
      ]
     },
     "execution_count": 35,
     "metadata": {},
     "output_type": "execute_result"
    }
   ],
   "source": [
    "\n",
    "\"\"\"\n",
    "Failed Experiment\n",
    "\n",
    "if (shops['rating'] == \"4\") | (shops['rating'] == \"5\"):\n",
    "    shops['review_tokens3'].apply(lambda tokens: good_review_count.update(tokens))\n",
    "else:\n",
    "    shops['review_tokens3'].apply(lambda tokens: bad_review_count.update(tokens))\"\"\""
   ]
  },
  {
   "cell_type": "code",
   "execution_count": 36,
   "metadata": {},
   "outputs": [],
   "source": [
    "# cast rating column into an integer to make it easier to use it as logic\n",
    "\n",
    "shops['rating'] = pd.to_numeric(shops['rating'])"
   ]
  },
  {
   "cell_type": "code",
   "execution_count": 37,
   "metadata": {},
   "outputs": [
    {
     "data": {
      "text/plain": [
       "coffee_shop_name    object\n",
       "full_review_text    object\n",
       "star_rating         object\n",
       "review_tokens       object\n",
       "no_dates            object\n",
       "review_tokens2      object\n",
       "review_tokens3      object\n",
       "rating               int64\n",
       "dtype: object"
      ]
     },
     "execution_count": 37,
     "metadata": {},
     "output_type": "execute_result"
    }
   ],
   "source": [
    "shops.dtypes"
   ]
  },
  {
   "cell_type": "code",
   "execution_count": 38,
   "metadata": {},
   "outputs": [],
   "source": [
    "# count the number of words in review_tokens3 based on the number of ratings. \n",
    "\n",
    "# create 2 results, one for words that appear for \"good review\" \n",
    "# and another for words that appear in  \"bad reveiws\"\n",
    "\n",
    "# create a new dataframe that just contains bad reviews\n",
    "\n",
    "# create a new dataframe that just contains good reviews\n",
    "\n",
    "# bad reviews dataframe\n",
    "bad_reviews = shops[shops['rating'] <= 3]\n",
    "\n",
    "# good reviews dataframe\n",
    "good_reviews = shops[shops['rating'] >= 4]"
   ]
  },
  {
   "cell_type": "code",
   "execution_count": 39,
   "metadata": {},
   "outputs": [
    {
     "data": {
      "text/plain": [
       "[('good', 877),\n",
       " ('like', 876),\n",
       " ('food', 484),\n",
       " ('time', 478),\n",
       " ('great', 466),\n",
       " ('dont', 449),\n",
       " ('service', 445),\n",
       " ('people', 375),\n",
       " ('pretty', 363),\n",
       " ('nice', 346)]"
      ]
     },
     "execution_count": 39,
     "metadata": {},
     "output_type": "execute_result"
    }
   ],
   "source": [
    "# bad review words\n",
    "bad_review_count = Counter()\n",
    "\n",
    "bad_reviews['review_tokens3'].apply(lambda tokens: bad_review_count.update(tokens))\n",
    "\n",
    "bad_review_count.most_common(10)"
   ]
  },
  {
   "cell_type": "code",
   "execution_count": 40,
   "metadata": {},
   "outputs": [
    {
     "data": {
      "text/plain": [
       "[('great', 3453),\n",
       " ('good', 3096),\n",
       " ('like', 2212),\n",
       " ('austin', 1969),\n",
       " ('love', 1725),\n",
       " ('friendly', 1462),\n",
       " ('time', 1406),\n",
       " ('nice', 1395),\n",
       " ('shop', 1370),\n",
       " ('food', 1352)]"
      ]
     },
     "execution_count": 40,
     "metadata": {},
     "output_type": "execute_result"
    }
   ],
   "source": [
    "# good review words. \n",
    "\n",
    "good_review_count = Counter()\n",
    "\n",
    "good_reviews['review_tokens3'].apply(lambda tokens: good_review_count.update(tokens))\n",
    "\n",
    "good_review_count.most_common(10)"
   ]
  },
  {
   "cell_type": "code",
   "execution_count": 41,
   "metadata": {},
   "outputs": [],
   "source": [
    "# create a new dataframe that has \n",
    "\n",
    "# good review words and their count\n",
    "\n",
    "# bad review words and their count\n",
    "\n",
    "# good review words and their percentage of total\n",
    "\n",
    "# bad review workds and their percentage of total. "
   ]
  },
  {
   "cell_type": "markdown",
   "metadata": {},
   "source": [
    "## Can visualize the words with the greatest difference in counts between 'good' & 'bad'?\n",
    "\n",
    "Couple Notes: \n",
    "- Rel. freq. instead of absolute counts b/c of different numbers of reviews\n",
    "- Only look at the top 5-10 words with the greatest differences\n"
   ]
  },
  {
   "cell_type": "code",
   "execution_count": 42,
   "metadata": {},
   "outputs": [
    {
     "data": {
      "text/html": [
       "<div>\n",
       "<style scoped>\n",
       "    .dataframe tbody tr th:only-of-type {\n",
       "        vertical-align: middle;\n",
       "    }\n",
       "\n",
       "    .dataframe tbody tr th {\n",
       "        vertical-align: top;\n",
       "    }\n",
       "\n",
       "    .dataframe thead th {\n",
       "        text-align: right;\n",
       "    }\n",
       "</style>\n",
       "<table border=\"1\" class=\"dataframe\">\n",
       "  <thead>\n",
       "    <tr style=\"text-align: right;\">\n",
       "      <th></th>\n",
       "      <th>good_reviews</th>\n",
       "      <th>good_count</th>\n",
       "    </tr>\n",
       "  </thead>\n",
       "  <tbody>\n",
       "    <tr>\n",
       "      <th>0</th>\n",
       "      <td>love</td>\n",
       "      <td>1725</td>\n",
       "    </tr>\n",
       "    <tr>\n",
       "      <th>1</th>\n",
       "      <td>loved</td>\n",
       "      <td>330</td>\n",
       "    </tr>\n",
       "    <tr>\n",
       "      <th>2</th>\n",
       "      <td>atmosphere</td>\n",
       "      <td>810</td>\n",
       "    </tr>\n",
       "    <tr>\n",
       "      <th>3</th>\n",
       "      <td>corner</td>\n",
       "      <td>131</td>\n",
       "    </tr>\n",
       "    <tr>\n",
       "      <th>4</th>\n",
       "      <td>shop</td>\n",
       "      <td>1370</td>\n",
       "    </tr>\n",
       "  </tbody>\n",
       "</table>\n",
       "</div>"
      ],
      "text/plain": [
       "  good_reviews  good_count\n",
       "0         love        1725\n",
       "1        loved         330\n",
       "2   atmosphere         810\n",
       "3       corner         131\n",
       "4         shop        1370"
      ]
     },
     "execution_count": 42,
     "metadata": {},
     "output_type": "execute_result"
    }
   ],
   "source": [
    "# a dataframe that puts good words review count in dataframe\n",
    "\n",
    "gd = zip(good_review_count.keys(), good_review_count.values())\n",
    "\n",
    "good = pd.DataFrame(gd, columns = [\"good_reviews\", \"good_count\"])\n",
    "\n",
    "good.head()"
   ]
  },
  {
   "cell_type": "code",
   "execution_count": 43,
   "metadata": {},
   "outputs": [
    {
     "data": {
      "text/html": [
       "<div>\n",
       "<style scoped>\n",
       "    .dataframe tbody tr th:only-of-type {\n",
       "        vertical-align: middle;\n",
       "    }\n",
       "\n",
       "    .dataframe tbody tr th {\n",
       "        vertical-align: top;\n",
       "    }\n",
       "\n",
       "    .dataframe thead th {\n",
       "        text-align: right;\n",
       "    }\n",
       "</style>\n",
       "<table border=\"1\" class=\"dataframe\">\n",
       "  <thead>\n",
       "    <tr style=\"text-align: right;\">\n",
       "      <th></th>\n",
       "      <th>bad_reviews</th>\n",
       "      <th>bad_count</th>\n",
       "    </tr>\n",
       "  </thead>\n",
       "  <tbody>\n",
       "    <tr>\n",
       "      <th>0</th>\n",
       "      <td>cool</td>\n",
       "      <td>165</td>\n",
       "    </tr>\n",
       "    <tr>\n",
       "      <th>1</th>\n",
       "      <td>decor</td>\n",
       "      <td>64</td>\n",
       "    </tr>\n",
       "    <tr>\n",
       "      <th>2</th>\n",
       "      <td>good</td>\n",
       "      <td>877</td>\n",
       "    </tr>\n",
       "    <tr>\n",
       "      <th>3</th>\n",
       "      <td>drinks</td>\n",
       "      <td>263</td>\n",
       "    </tr>\n",
       "    <tr>\n",
       "      <th>4</th>\n",
       "      <td>nice</td>\n",
       "      <td>346</td>\n",
       "    </tr>\n",
       "  </tbody>\n",
       "</table>\n",
       "</div>"
      ],
      "text/plain": [
       "  bad_reviews  bad_count\n",
       "0        cool        165\n",
       "1       decor         64\n",
       "2        good        877\n",
       "3      drinks        263\n",
       "4        nice        346"
      ]
     },
     "execution_count": 43,
     "metadata": {},
     "output_type": "execute_result"
    }
   ],
   "source": [
    "# a dataframe that puts good words review count in dataframe\n",
    "\n",
    "bd = zip(bad_review_count.keys(), bad_review_count.values())\n",
    "\n",
    "bad = pd.DataFrame(bd, columns = [\"bad_reviews\", \"bad_count\"])\n",
    "\n",
    "bad.head()"
   ]
  },
  {
   "cell_type": "code",
   "execution_count": 44,
   "metadata": {},
   "outputs": [
    {
     "name": "stdout",
     "output_type": "stream",
     "text": [
      "(6243, 3)\n"
     ]
    },
    {
     "data": {
      "text/html": [
       "<div>\n",
       "<style scoped>\n",
       "    .dataframe tbody tr th:only-of-type {\n",
       "        vertical-align: middle;\n",
       "    }\n",
       "\n",
       "    .dataframe tbody tr th {\n",
       "        vertical-align: top;\n",
       "    }\n",
       "\n",
       "    .dataframe thead th {\n",
       "        text-align: right;\n",
       "    }\n",
       "</style>\n",
       "<table border=\"1\" class=\"dataframe\">\n",
       "  <thead>\n",
       "    <tr style=\"text-align: right;\">\n",
       "      <th></th>\n",
       "      <th>good_reviews</th>\n",
       "      <th>good_count</th>\n",
       "      <th>bad_count</th>\n",
       "    </tr>\n",
       "  </thead>\n",
       "  <tbody>\n",
       "    <tr>\n",
       "      <th>0</th>\n",
       "      <td>love</td>\n",
       "      <td>1725</td>\n",
       "      <td>210</td>\n",
       "    </tr>\n",
       "    <tr>\n",
       "      <th>1</th>\n",
       "      <td>loved</td>\n",
       "      <td>330</td>\n",
       "      <td>36</td>\n",
       "    </tr>\n",
       "    <tr>\n",
       "      <th>2</th>\n",
       "      <td>atmosphere</td>\n",
       "      <td>810</td>\n",
       "      <td>159</td>\n",
       "    </tr>\n",
       "    <tr>\n",
       "      <th>3</th>\n",
       "      <td>corner</td>\n",
       "      <td>131</td>\n",
       "      <td>32</td>\n",
       "    </tr>\n",
       "    <tr>\n",
       "      <th>4</th>\n",
       "      <td>shop</td>\n",
       "      <td>1370</td>\n",
       "      <td>310</td>\n",
       "    </tr>\n",
       "  </tbody>\n",
       "</table>\n",
       "</div>"
      ],
      "text/plain": [
       "  good_reviews  good_count  bad_count\n",
       "0         love        1725        210\n",
       "1        loved         330         36\n",
       "2   atmosphere         810        159\n",
       "3       corner         131         32\n",
       "4         shop        1370        310"
      ]
     },
     "execution_count": 44,
     "metadata": {},
     "output_type": "execute_result"
    }
   ],
   "source": [
    "# merge good and bad dataframes\n",
    "\n",
    "goodVbad = pd.merge(good, bad, left_on = \"good_reviews\", \n",
    "                    right_on = \"bad_reviews\").drop(columns = \"bad_reviews\")\n",
    "\n",
    "print(goodVbad.shape)\n",
    "goodVbad.head()"
   ]
  },
  {
   "cell_type": "code",
   "execution_count": 55,
   "metadata": {},
   "outputs": [
    {
     "data": {
      "text/html": [
       "<div>\n",
       "<style scoped>\n",
       "    .dataframe tbody tr th:only-of-type {\n",
       "        vertical-align: middle;\n",
       "    }\n",
       "\n",
       "    .dataframe tbody tr th {\n",
       "        vertical-align: top;\n",
       "    }\n",
       "\n",
       "    .dataframe thead th {\n",
       "        text-align: right;\n",
       "    }\n",
       "</style>\n",
       "<table border=\"1\" class=\"dataframe\">\n",
       "  <thead>\n",
       "    <tr style=\"text-align: right;\">\n",
       "      <th></th>\n",
       "      <th>words</th>\n",
       "      <th>count</th>\n",
       "      <th>word_rank</th>\n",
       "      <th>total_pct</th>\n",
       "      <th>cumulative_pct</th>\n",
       "      <th>doc_appear_cnt</th>\n",
       "      <th>appear_pct</th>\n",
       "    </tr>\n",
       "  </thead>\n",
       "  <tbody>\n",
       "    <tr>\n",
       "      <th>141</th>\n",
       "      <td>good</td>\n",
       "      <td>3973</td>\n",
       "      <td>1.0</td>\n",
       "      <td>0.011677</td>\n",
       "      <td>0.157233</td>\n",
       "      <td>2788</td>\n",
       "      <td>0.366071</td>\n",
       "    </tr>\n",
       "    <tr>\n",
       "      <th>127</th>\n",
       "      <td>great</td>\n",
       "      <td>3919</td>\n",
       "      <td>2.0</td>\n",
       "      <td>0.011518</td>\n",
       "      <td>0.137488</td>\n",
       "      <td>2836</td>\n",
       "      <td>0.372374</td>\n",
       "    </tr>\n",
       "    <tr>\n",
       "      <th>164</th>\n",
       "      <td>like</td>\n",
       "      <td>3088</td>\n",
       "      <td>3.0</td>\n",
       "      <td>0.009076</td>\n",
       "      <td>0.188340</td>\n",
       "      <td>2124</td>\n",
       "      <td>0.278887</td>\n",
       "    </tr>\n",
       "    <tr>\n",
       "      <th>42</th>\n",
       "      <td>austin</td>\n",
       "      <td>2252</td>\n",
       "      <td>4.0</td>\n",
       "      <td>0.006619</td>\n",
       "      <td>0.052321</td>\n",
       "      <td>1788</td>\n",
       "      <td>0.234769</td>\n",
       "    </tr>\n",
       "    <tr>\n",
       "      <th>0</th>\n",
       "      <td>love</td>\n",
       "      <td>1935</td>\n",
       "      <td>5.0</td>\n",
       "      <td>0.005687</td>\n",
       "      <td>0.005687</td>\n",
       "      <td>1500</td>\n",
       "      <td>0.196954</td>\n",
       "    </tr>\n",
       "    <tr>\n",
       "      <th>489</th>\n",
       "      <td>time</td>\n",
       "      <td>1884</td>\n",
       "      <td>6.0</td>\n",
       "      <td>0.005537</td>\n",
       "      <td>0.383477</td>\n",
       "      <td>1469</td>\n",
       "      <td>0.192883</td>\n",
       "    </tr>\n",
       "    <tr>\n",
       "      <th>365</th>\n",
       "      <td>food</td>\n",
       "      <td>1836</td>\n",
       "      <td>7.0</td>\n",
       "      <td>0.005396</td>\n",
       "      <td>0.311315</td>\n",
       "      <td>1365</td>\n",
       "      <td>0.179228</td>\n",
       "    </tr>\n",
       "    <tr>\n",
       "      <th>57</th>\n",
       "      <td>nice</td>\n",
       "      <td>1741</td>\n",
       "      <td>8.0</td>\n",
       "      <td>0.005117</td>\n",
       "      <td>0.066058</td>\n",
       "      <td>1463</td>\n",
       "      <td>0.192096</td>\n",
       "    </tr>\n",
       "    <tr>\n",
       "      <th>4</th>\n",
       "      <td>shop</td>\n",
       "      <td>1680</td>\n",
       "      <td>9.0</td>\n",
       "      <td>0.004938</td>\n",
       "      <td>0.015027</td>\n",
       "      <td>1331</td>\n",
       "      <td>0.174764</td>\n",
       "    </tr>\n",
       "    <tr>\n",
       "      <th>180</th>\n",
       "      <td>friendly</td>\n",
       "      <td>1659</td>\n",
       "      <td>10.0</td>\n",
       "      <td>0.004876</td>\n",
       "      <td>0.197377</td>\n",
       "      <td>1577</td>\n",
       "      <td>0.207064</td>\n",
       "    </tr>\n",
       "  </tbody>\n",
       "</table>\n",
       "</div>"
      ],
      "text/plain": [
       "        words  count  word_rank  total_pct  cumulative_pct  doc_appear_cnt  \\\n",
       "141      good   3973        1.0   0.011677        0.157233            2788   \n",
       "127     great   3919        2.0   0.011518        0.137488            2836   \n",
       "164      like   3088        3.0   0.009076        0.188340            2124   \n",
       "42     austin   2252        4.0   0.006619        0.052321            1788   \n",
       "0        love   1935        5.0   0.005687        0.005687            1500   \n",
       "489      time   1884        6.0   0.005537        0.383477            1469   \n",
       "365      food   1836        7.0   0.005396        0.311315            1365   \n",
       "57       nice   1741        8.0   0.005117        0.066058            1463   \n",
       "4        shop   1680        9.0   0.004938        0.015027            1331   \n",
       "180  friendly   1659       10.0   0.004876        0.197377            1577   \n",
       "\n",
       "     appear_pct  \n",
       "141    0.366071  \n",
       "127    0.372374  \n",
       "164    0.278887  \n",
       "42     0.234769  \n",
       "0      0.196954  \n",
       "489    0.192883  \n",
       "365    0.179228  \n",
       "57     0.192096  \n",
       "4      0.174764  \n",
       "180    0.207064  "
      ]
     },
     "execution_count": 55,
     "metadata": {},
     "output_type": "execute_result"
    }
   ],
   "source": [
    "# what percent of these words appeared in good reviews\n",
    "\n",
    "# what percent of these words appeard in bad reviews\n",
    "\n",
    "# doc_appear_count= how many documents/reviews does each word appear in\n",
    "    \n",
    "# all_docs = list of all of the tokens in our reviews\n",
    "    \n",
    "# each_review = each individual review\n",
    "    \n",
    "# rank shows you what is it the most common, least common, e.t.c\n",
    "    \n",
    "# total_pct = what percentage of the document set does this word\n",
    "# represent. \n",
    "\n",
    "# set(doc/each_review) = the entire document set as opposed to \n",
    "# individual documents\n",
    "\n",
    "\"\"\"# building a dataframe that shows the count of this word, the\n",
    "# percentage of this word in the entire document, and the \n",
    "# cumulative percentage of this word. And also doing the same\n",
    "# frequency calculations for how many times the word appears \n",
    "# in the document set. \n",
    "\"\"\"\n",
    "\n",
    "word_count = Counter()\n",
    "\n",
    "doc_appear = Counter()\n",
    "\n",
    "for each_review in shops['review_tokens3']:\n",
    "    word_count.update(each_review)\n",
    "    doc_appear.update(set(each_review))\n",
    "    \n",
    "combo = zip(word_count.keys(), word_count.values())\n",
    "\n",
    "df = pd.DataFrame(combo, columns = ['words', 'count'])\n",
    "\n",
    "df['word_rank'] = df['count'].rank(method='first', ascending=False)\n",
    "\n",
    "total = df['count'].sum()\n",
    "\n",
    "df[\"total_pct\"] = df['count'].apply(lambda x: x/total)\n",
    "\n",
    "df['cumulative_pct'] = df['total_pct'].cumsum()\n",
    "\n",
    "# how many times does each word appear in the entire document as \n",
    "# opposed to individual reviews\n",
    "\n",
    "appear = pd.DataFrame(zip(doc_appear.keys(), doc_appear.values()), \n",
    "                      columns = ['words', 'doc_appear_cnt'])\n",
    "\n",
    "total_docs = len(shops['review_tokens3'])\n",
    "\n",
    "appear['appear_pct'] = appear['doc_appear_cnt'].apply(lambda x : x/total_docs)\n",
    "\n",
    "df = df.merge(appear, on='words')\n",
    "\n",
    "df = df.sort_values(by='word_rank')\n",
    "\n",
    "df.head(10)"
   ]
  },
  {
   "cell_type": "code",
   "execution_count": 56,
   "metadata": {},
   "outputs": [],
   "source": [
    "# turn the code above into a function so that I can use it for \n",
    "# good reviews and bad reviews. \n",
    "\n",
    "def word_frequency(doc_column):\n",
    "    # what percent of these words appeared in good reviews\n",
    "\n",
    "    # what percent of these words appeard in bad reviews\n",
    "\n",
    "    # doc_appear_count= how many documents/reviews does each word appear in\n",
    "\n",
    "    # all_docs = list of all of the tokens in our reviews\n",
    "\n",
    "    # each_review = each individual review\n",
    "\n",
    "    # rank shows you what is it the most common, least common, e.t.c\n",
    "\n",
    "    # total_pct = what percentage of the document set does this word\n",
    "    # represent. \n",
    "\n",
    "    # set(doc/each_review) = the entire document set as opposed to \n",
    "    # individual documents\n",
    "\n",
    "    \"\"\"# building a dataframe that shows the count of this word, the\n",
    "    # percentage of this word in the entire document, and the \n",
    "    # cumulative percentage of this word. And also doing the same\n",
    "    # frequency calculations for how many times the word appears \n",
    "    # in the document set. \n",
    "    \"\"\"\n",
    "\n",
    "    word_count = Counter()\n",
    "\n",
    "    doc_appear = Counter()\n",
    "\n",
    "    for each_review in doc_column:\n",
    "        word_count.update(each_review)\n",
    "        doc_appear.update(set(each_review))\n",
    "\n",
    "    combo = zip(word_count.keys(), word_count.values())\n",
    "\n",
    "    df = pd.DataFrame(combo, columns = ['words', 'count'])\n",
    "\n",
    "    df['word_rank'] = df['count'].rank(method='first', ascending=False)\n",
    "\n",
    "    total = df['count'].sum()\n",
    "\n",
    "    df[\"total_pct\"] = df['count'].apply(lambda x: x/total)\n",
    "\n",
    "    df['cumulative_pct'] = df['total_pct'].cumsum()\n",
    "\n",
    "    # how many times does each word appear in the entire document as \n",
    "    # opposed to individual reviews\n",
    "\n",
    "    appear = pd.DataFrame(zip(doc_appear.keys(), doc_appear.values()), \n",
    "                          columns = ['words', 'doc_appear_cnt'])\n",
    "\n",
    "    total_docs = len(doc_column)\n",
    "\n",
    "    appear['appear_pct'] = appear['doc_appear_cnt'].apply(lambda x : x/total_docs)\n",
    "\n",
    "    df = df.merge(appear, on='words')\n",
    "\n",
    "    df = df.sort_values(by='word_rank')\n",
    "\n",
    "    return df"
   ]
  },
  {
   "cell_type": "code",
   "execution_count": 58,
   "metadata": {},
   "outputs": [
    {
     "data": {
      "text/html": [
       "<div>\n",
       "<style scoped>\n",
       "    .dataframe tbody tr th:only-of-type {\n",
       "        vertical-align: middle;\n",
       "    }\n",
       "\n",
       "    .dataframe tbody tr th {\n",
       "        vertical-align: top;\n",
       "    }\n",
       "\n",
       "    .dataframe thead th {\n",
       "        text-align: right;\n",
       "    }\n",
       "</style>\n",
       "<table border=\"1\" class=\"dataframe\">\n",
       "  <thead>\n",
       "    <tr style=\"text-align: right;\">\n",
       "      <th></th>\n",
       "      <th>words</th>\n",
       "      <th>count</th>\n",
       "      <th>word_rank</th>\n",
       "      <th>total_pct</th>\n",
       "      <th>cumulative_pct</th>\n",
       "      <th>doc_appear_cnt</th>\n",
       "      <th>appear_pct</th>\n",
       "    </tr>\n",
       "  </thead>\n",
       "  <tbody>\n",
       "    <tr>\n",
       "      <th>141</th>\n",
       "      <td>good</td>\n",
       "      <td>3973</td>\n",
       "      <td>1.0</td>\n",
       "      <td>0.011677</td>\n",
       "      <td>0.157233</td>\n",
       "      <td>2788</td>\n",
       "      <td>0.366071</td>\n",
       "    </tr>\n",
       "    <tr>\n",
       "      <th>127</th>\n",
       "      <td>great</td>\n",
       "      <td>3919</td>\n",
       "      <td>2.0</td>\n",
       "      <td>0.011518</td>\n",
       "      <td>0.137488</td>\n",
       "      <td>2836</td>\n",
       "      <td>0.372374</td>\n",
       "    </tr>\n",
       "    <tr>\n",
       "      <th>164</th>\n",
       "      <td>like</td>\n",
       "      <td>3088</td>\n",
       "      <td>3.0</td>\n",
       "      <td>0.009076</td>\n",
       "      <td>0.188340</td>\n",
       "      <td>2124</td>\n",
       "      <td>0.278887</td>\n",
       "    </tr>\n",
       "    <tr>\n",
       "      <th>42</th>\n",
       "      <td>austin</td>\n",
       "      <td>2252</td>\n",
       "      <td>4.0</td>\n",
       "      <td>0.006619</td>\n",
       "      <td>0.052321</td>\n",
       "      <td>1788</td>\n",
       "      <td>0.234769</td>\n",
       "    </tr>\n",
       "    <tr>\n",
       "      <th>0</th>\n",
       "      <td>love</td>\n",
       "      <td>1935</td>\n",
       "      <td>5.0</td>\n",
       "      <td>0.005687</td>\n",
       "      <td>0.005687</td>\n",
       "      <td>1500</td>\n",
       "      <td>0.196954</td>\n",
       "    </tr>\n",
       "  </tbody>\n",
       "</table>\n",
       "</div>"
      ],
      "text/plain": [
       "      words  count  word_rank  total_pct  cumulative_pct  doc_appear_cnt  \\\n",
       "141    good   3973        1.0   0.011677        0.157233            2788   \n",
       "127   great   3919        2.0   0.011518        0.137488            2836   \n",
       "164    like   3088        3.0   0.009076        0.188340            2124   \n",
       "42   austin   2252        4.0   0.006619        0.052321            1788   \n",
       "0      love   1935        5.0   0.005687        0.005687            1500   \n",
       "\n",
       "     appear_pct  \n",
       "141    0.366071  \n",
       "127    0.372374  \n",
       "164    0.278887  \n",
       "42     0.234769  \n",
       "0      0.196954  "
      ]
     },
     "execution_count": 58,
     "metadata": {},
     "output_type": "execute_result"
    }
   ],
   "source": [
    "# word frequency analysis for all reviews\n",
    "\n",
    "all_reviews = word_frequency(shops['review_tokens3'])\n",
    "\n",
    "all_reviews.head()"
   ]
  },
  {
   "cell_type": "code",
   "execution_count": 59,
   "metadata": {},
   "outputs": [
    {
     "data": {
      "text/html": [
       "<div>\n",
       "<style scoped>\n",
       "    .dataframe tbody tr th:only-of-type {\n",
       "        vertical-align: middle;\n",
       "    }\n",
       "\n",
       "    .dataframe tbody tr th {\n",
       "        vertical-align: top;\n",
       "    }\n",
       "\n",
       "    .dataframe thead th {\n",
       "        text-align: right;\n",
       "    }\n",
       "</style>\n",
       "<table border=\"1\" class=\"dataframe\">\n",
       "  <thead>\n",
       "    <tr style=\"text-align: right;\">\n",
       "      <th></th>\n",
       "      <th>words</th>\n",
       "      <th>count</th>\n",
       "      <th>word_rank</th>\n",
       "      <th>total_pct</th>\n",
       "      <th>cumulative_pct</th>\n",
       "      <th>doc_appear_cnt</th>\n",
       "      <th>appear_pct</th>\n",
       "    </tr>\n",
       "  </thead>\n",
       "  <tbody>\n",
       "    <tr>\n",
       "      <th>127</th>\n",
       "      <td>great</td>\n",
       "      <td>3453</td>\n",
       "      <td>1.0</td>\n",
       "      <td>0.013024</td>\n",
       "      <td>0.142513</td>\n",
       "      <td>2492</td>\n",
       "      <td>0.405863</td>\n",
       "    </tr>\n",
       "    <tr>\n",
       "      <th>193</th>\n",
       "      <td>good</td>\n",
       "      <td>3096</td>\n",
       "      <td>2.0</td>\n",
       "      <td>0.011677</td>\n",
       "      <td>0.205395</td>\n",
       "      <td>2192</td>\n",
       "      <td>0.357003</td>\n",
       "    </tr>\n",
       "    <tr>\n",
       "      <th>200</th>\n",
       "      <td>like</td>\n",
       "      <td>2212</td>\n",
       "      <td>3.0</td>\n",
       "      <td>0.008343</td>\n",
       "      <td>0.219339</td>\n",
       "      <td>1559</td>\n",
       "      <td>0.253909</td>\n",
       "    </tr>\n",
       "    <tr>\n",
       "      <th>42</th>\n",
       "      <td>austin</td>\n",
       "      <td>1969</td>\n",
       "      <td>4.0</td>\n",
       "      <td>0.007426</td>\n",
       "      <td>0.053811</td>\n",
       "      <td>1547</td>\n",
       "      <td>0.251954</td>\n",
       "    </tr>\n",
       "    <tr>\n",
       "      <th>0</th>\n",
       "      <td>love</td>\n",
       "      <td>1725</td>\n",
       "      <td>5.0</td>\n",
       "      <td>0.006506</td>\n",
       "      <td>0.006506</td>\n",
       "      <td>1322</td>\n",
       "      <td>0.215309</td>\n",
       "    </tr>\n",
       "  </tbody>\n",
       "</table>\n",
       "</div>"
      ],
      "text/plain": [
       "      words  count  word_rank  total_pct  cumulative_pct  doc_appear_cnt  \\\n",
       "127   great   3453        1.0   0.013024        0.142513            2492   \n",
       "193    good   3096        2.0   0.011677        0.205395            2192   \n",
       "200    like   2212        3.0   0.008343        0.219339            1559   \n",
       "42   austin   1969        4.0   0.007426        0.053811            1547   \n",
       "0      love   1725        5.0   0.006506        0.006506            1322   \n",
       "\n",
       "     appear_pct  \n",
       "127    0.405863  \n",
       "193    0.357003  \n",
       "200    0.253909  \n",
       "42     0.251954  \n",
       "0      0.215309  "
      ]
     },
     "execution_count": 59,
     "metadata": {},
     "output_type": "execute_result"
    }
   ],
   "source": [
    "# word frequency analysis for good reviews\n",
    "\n",
    "good_freq = word_frequency(good_reviews['review_tokens3'])\n",
    "\n",
    "good_freq.head()"
   ]
  },
  {
   "cell_type": "code",
   "execution_count": 60,
   "metadata": {},
   "outputs": [
    {
     "data": {
      "text/html": [
       "<div>\n",
       "<style scoped>\n",
       "    .dataframe tbody tr th:only-of-type {\n",
       "        vertical-align: middle;\n",
       "    }\n",
       "\n",
       "    .dataframe tbody tr th {\n",
       "        vertical-align: top;\n",
       "    }\n",
       "\n",
       "    .dataframe thead th {\n",
       "        text-align: right;\n",
       "    }\n",
       "</style>\n",
       "<table border=\"1\" class=\"dataframe\">\n",
       "  <thead>\n",
       "    <tr style=\"text-align: right;\">\n",
       "      <th></th>\n",
       "      <th>words</th>\n",
       "      <th>count</th>\n",
       "      <th>word_rank</th>\n",
       "      <th>total_pct</th>\n",
       "      <th>cumulative_pct</th>\n",
       "      <th>doc_appear_cnt</th>\n",
       "      <th>appear_pct</th>\n",
       "    </tr>\n",
       "  </thead>\n",
       "  <tbody>\n",
       "    <tr>\n",
       "      <th>2</th>\n",
       "      <td>good</td>\n",
       "      <td>877</td>\n",
       "      <td>1.0</td>\n",
       "      <td>0.011676</td>\n",
       "      <td>0.014724</td>\n",
       "      <td>596</td>\n",
       "      <td>0.403794</td>\n",
       "    </tr>\n",
       "    <tr>\n",
       "      <th>29</th>\n",
       "      <td>like</td>\n",
       "      <td>876</td>\n",
       "      <td>2.0</td>\n",
       "      <td>0.011662</td>\n",
       "      <td>0.065168</td>\n",
       "      <td>565</td>\n",
       "      <td>0.382791</td>\n",
       "    </tr>\n",
       "    <tr>\n",
       "      <th>51</th>\n",
       "      <td>food</td>\n",
       "      <td>484</td>\n",
       "      <td>3.0</td>\n",
       "      <td>0.006444</td>\n",
       "      <td>0.087334</td>\n",
       "      <td>310</td>\n",
       "      <td>0.210027</td>\n",
       "    </tr>\n",
       "    <tr>\n",
       "      <th>183</th>\n",
       "      <td>time</td>\n",
       "      <td>478</td>\n",
       "      <td>4.0</td>\n",
       "      <td>0.006364</td>\n",
       "      <td>0.205488</td>\n",
       "      <td>353</td>\n",
       "      <td>0.239160</td>\n",
       "    </tr>\n",
       "    <tr>\n",
       "      <th>61</th>\n",
       "      <td>great</td>\n",
       "      <td>466</td>\n",
       "      <td>5.0</td>\n",
       "      <td>0.006204</td>\n",
       "      <td>0.105413</td>\n",
       "      <td>344</td>\n",
       "      <td>0.233062</td>\n",
       "    </tr>\n",
       "  </tbody>\n",
       "</table>\n",
       "</div>"
      ],
      "text/plain": [
       "     words  count  word_rank  total_pct  cumulative_pct  doc_appear_cnt  \\\n",
       "2     good    877        1.0   0.011676        0.014724             596   \n",
       "29    like    876        2.0   0.011662        0.065168             565   \n",
       "51    food    484        3.0   0.006444        0.087334             310   \n",
       "183   time    478        4.0   0.006364        0.205488             353   \n",
       "61   great    466        5.0   0.006204        0.105413             344   \n",
       "\n",
       "     appear_pct  \n",
       "2      0.403794  \n",
       "29     0.382791  \n",
       "51     0.210027  \n",
       "183    0.239160  \n",
       "61     0.233062  "
      ]
     },
     "execution_count": 60,
     "metadata": {},
     "output_type": "execute_result"
    }
   ],
   "source": [
    "# word frequency analysis for bad reviews\n",
    "\n",
    "bad_freq = word_frequency(bad_reviews['review_tokens3'])\n",
    "\n",
    "bad_freq.head()"
   ]
  },
  {
   "cell_type": "markdown",
   "metadata": {
    "colab_type": "text",
    "id": "1dCb1q8XphcP",
    "toc-hr-collapsed": true
   },
   "source": [
    "## Stretch Goals\n",
    "\n",
    "* Analyze another corpus of documents - such as Indeed.com job listings ;).\n",
    "* Play with the Spacy API to\n",
    " - Extract Named Entities\n",
    " - Extracting 'noun chunks'\n",
    " - Attempt Document Classification with just Spacy\n",
    " - *Note:* This [course](https://course.spacy.io/) will be of interesting in helping you with these stretch goals. \n",
    "* Try to build a plotly dash app with your text data \n",
    "\n"
   ]
  }
 ],
 "metadata": {
  "colab": {
   "collapsed_sections": [],
   "name": "LS_DS_421_Text_Data_Assignment.ipynb",
   "provenance": [],
   "version": "0.3.2"
  },
  "kernelspec": {
   "display_name": "Unit4-NLP (Python3)",
   "language": "python",
   "name": "unit4-nlp"
  },
  "language_info": {
   "codemirror_mode": {
    "name": "ipython",
    "version": 3
   },
   "file_extension": ".py",
   "mimetype": "text/x-python",
   "name": "python",
   "nbconvert_exporter": "python",
   "pygments_lexer": "ipython3",
   "version": "3.7.0"
  },
  "toc-autonumbering": false
 },
 "nbformat": 4,
 "nbformat_minor": 4
}
