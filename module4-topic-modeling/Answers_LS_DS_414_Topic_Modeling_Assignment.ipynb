{
 "cells": [
  {
   "cell_type": "markdown",
   "metadata": {},
   "source": [
    "<img align=\"left\" src=\"https://lever-client-logos.s3.amazonaws.com/864372b1-534c-480e-acd5-9711f850815c-1524247202159.png\" width=200>\n",
    "<br></br>\n",
    "<br></br>\n",
    "\n",
    "# Topic Modeling\n",
    "## *Data Science Unit 4 Sprint 1 Assignment 4*\n",
    "\n",
    "Analyze a corpus of Amazon reviews from Unit 4 Sprint 1 Module 1's lecture using topic modeling: \n",
    "\n",
    "- Fit a Gensim LDA topic model on Amazon Reviews\n",
    "- Select appropriate number of topics\n",
    "- Create some dope visualization of the topics\n",
    "- Write a few bullets on your findings in markdown at the end\n",
    "- **Note**: You don't *have* to use generators for this assignment"
   ]
  },
  {
   "cell_type": "code",
   "execution_count": 10,
   "metadata": {},
   "outputs": [
    {
     "name": "stderr",
     "output_type": "stream",
     "text": [
      "C:\\Users\\Samsung\\Anaconda3\\envs\\unit4-NLP\\lib\\site-packages\\tqdm\\std.py:668: FutureWarning: The Panel class is removed from pandas. Accessing it from the top-level namespace will also be removed in the next version\n",
      "  from pandas import Panel\n"
     ]
    }
   ],
   "source": [
    "import numpy as np\n",
    "import gensim\n",
    "import os\n",
    "import re\n",
    "\n",
    "from gensim.utils import simple_preprocess\n",
    "from gensim.parsing.preprocessing import STOPWORDS\n",
    "from gensim import corpora\n",
    "\n",
    "from gensim.models.ldamulticore import LdaMulticore\n",
    "\n",
    "import pandas as pd\n",
    "from tqdm import tqdm\n",
    "tqdm.pandas()"
   ]
  },
  {
   "cell_type": "code",
   "execution_count": 4,
   "metadata": {},
   "outputs": [
    {
     "name": "stdout",
     "output_type": "stream",
     "text": [
      "(28332, 24)\n"
     ]
    },
    {
     "data": {
      "text/html": [
       "<div>\n",
       "<style scoped>\n",
       "    .dataframe tbody tr th:only-of-type {\n",
       "        vertical-align: middle;\n",
       "    }\n",
       "\n",
       "    .dataframe tbody tr th {\n",
       "        vertical-align: top;\n",
       "    }\n",
       "\n",
       "    .dataframe thead th {\n",
       "        text-align: right;\n",
       "    }\n",
       "</style>\n",
       "<table border=\"1\" class=\"dataframe\">\n",
       "  <thead>\n",
       "    <tr style=\"text-align: right;\">\n",
       "      <th></th>\n",
       "      <th>id</th>\n",
       "      <th>dateAdded</th>\n",
       "      <th>dateUpdated</th>\n",
       "      <th>name</th>\n",
       "      <th>asins</th>\n",
       "      <th>brand</th>\n",
       "      <th>categories</th>\n",
       "      <th>primaryCategories</th>\n",
       "      <th>imageURLs</th>\n",
       "      <th>keys</th>\n",
       "      <th>...</th>\n",
       "      <th>reviews.didPurchase</th>\n",
       "      <th>reviews.doRecommend</th>\n",
       "      <th>reviews.id</th>\n",
       "      <th>reviews.numHelpful</th>\n",
       "      <th>reviews.rating</th>\n",
       "      <th>reviews.sourceURLs</th>\n",
       "      <th>reviews.text</th>\n",
       "      <th>reviews.title</th>\n",
       "      <th>reviews.username</th>\n",
       "      <th>sourceURLs</th>\n",
       "    </tr>\n",
       "  </thead>\n",
       "  <tbody>\n",
       "    <tr>\n",
       "      <th>0</th>\n",
       "      <td>AVpgNzjwLJeJML43Kpxn</td>\n",
       "      <td>2015-10-30T08:59:32Z</td>\n",
       "      <td>2019-04-25T09:08:16Z</td>\n",
       "      <td>AmazonBasics AAA Performance Alkaline Batterie...</td>\n",
       "      <td>B00QWO9P0O,B00LH3DMUO</td>\n",
       "      <td>Amazonbasics</td>\n",
       "      <td>AA,AAA,Health,Electronics,Health &amp; Household,C...</td>\n",
       "      <td>Health &amp; Beauty</td>\n",
       "      <td>https://images-na.ssl-images-amazon.com/images...</td>\n",
       "      <td>amazonbasics/hl002619,amazonbasicsaaaperforman...</td>\n",
       "      <td>...</td>\n",
       "      <td>NaN</td>\n",
       "      <td>NaN</td>\n",
       "      <td>NaN</td>\n",
       "      <td>NaN</td>\n",
       "      <td>3</td>\n",
       "      <td>https://www.amazon.com/product-reviews/B00QWO9...</td>\n",
       "      <td>I order 3 of them and one of the item is bad q...</td>\n",
       "      <td>... 3 of them and one of the item is bad quali...</td>\n",
       "      <td>Byger yang</td>\n",
       "      <td>https://www.barcodable.com/upc/841710106442,ht...</td>\n",
       "    </tr>\n",
       "    <tr>\n",
       "      <th>1</th>\n",
       "      <td>AVpgNzjwLJeJML43Kpxn</td>\n",
       "      <td>2015-10-30T08:59:32Z</td>\n",
       "      <td>2019-04-25T09:08:16Z</td>\n",
       "      <td>AmazonBasics AAA Performance Alkaline Batterie...</td>\n",
       "      <td>B00QWO9P0O,B00LH3DMUO</td>\n",
       "      <td>Amazonbasics</td>\n",
       "      <td>AA,AAA,Health,Electronics,Health &amp; Household,C...</td>\n",
       "      <td>Health &amp; Beauty</td>\n",
       "      <td>https://images-na.ssl-images-amazon.com/images...</td>\n",
       "      <td>amazonbasics/hl002619,amazonbasicsaaaperforman...</td>\n",
       "      <td>...</td>\n",
       "      <td>NaN</td>\n",
       "      <td>NaN</td>\n",
       "      <td>NaN</td>\n",
       "      <td>NaN</td>\n",
       "      <td>4</td>\n",
       "      <td>https://www.amazon.com/product-reviews/B00QWO9...</td>\n",
       "      <td>Bulk is always the less expensive way to go fo...</td>\n",
       "      <td>... always the less expensive way to go for pr...</td>\n",
       "      <td>ByMG</td>\n",
       "      <td>https://www.barcodable.com/upc/841710106442,ht...</td>\n",
       "    </tr>\n",
       "    <tr>\n",
       "      <th>2</th>\n",
       "      <td>AVpgNzjwLJeJML43Kpxn</td>\n",
       "      <td>2015-10-30T08:59:32Z</td>\n",
       "      <td>2019-04-25T09:08:16Z</td>\n",
       "      <td>AmazonBasics AAA Performance Alkaline Batterie...</td>\n",
       "      <td>B00QWO9P0O,B00LH3DMUO</td>\n",
       "      <td>Amazonbasics</td>\n",
       "      <td>AA,AAA,Health,Electronics,Health &amp; Household,C...</td>\n",
       "      <td>Health &amp; Beauty</td>\n",
       "      <td>https://images-na.ssl-images-amazon.com/images...</td>\n",
       "      <td>amazonbasics/hl002619,amazonbasicsaaaperforman...</td>\n",
       "      <td>...</td>\n",
       "      <td>NaN</td>\n",
       "      <td>NaN</td>\n",
       "      <td>NaN</td>\n",
       "      <td>NaN</td>\n",
       "      <td>5</td>\n",
       "      <td>https://www.amazon.com/product-reviews/B00QWO9...</td>\n",
       "      <td>Well they are not Duracell but for the price i...</td>\n",
       "      <td>... are not Duracell but for the price i am ha...</td>\n",
       "      <td>BySharon Lambert</td>\n",
       "      <td>https://www.barcodable.com/upc/841710106442,ht...</td>\n",
       "    </tr>\n",
       "    <tr>\n",
       "      <th>3</th>\n",
       "      <td>AVpgNzjwLJeJML43Kpxn</td>\n",
       "      <td>2015-10-30T08:59:32Z</td>\n",
       "      <td>2019-04-25T09:08:16Z</td>\n",
       "      <td>AmazonBasics AAA Performance Alkaline Batterie...</td>\n",
       "      <td>B00QWO9P0O,B00LH3DMUO</td>\n",
       "      <td>Amazonbasics</td>\n",
       "      <td>AA,AAA,Health,Electronics,Health &amp; Household,C...</td>\n",
       "      <td>Health &amp; Beauty</td>\n",
       "      <td>https://images-na.ssl-images-amazon.com/images...</td>\n",
       "      <td>amazonbasics/hl002619,amazonbasicsaaaperforman...</td>\n",
       "      <td>...</td>\n",
       "      <td>NaN</td>\n",
       "      <td>NaN</td>\n",
       "      <td>NaN</td>\n",
       "      <td>NaN</td>\n",
       "      <td>5</td>\n",
       "      <td>https://www.amazon.com/product-reviews/B00QWO9...</td>\n",
       "      <td>Seem to work as well as name brand batteries a...</td>\n",
       "      <td>... as well as name brand batteries at a much ...</td>\n",
       "      <td>Bymark sexson</td>\n",
       "      <td>https://www.barcodable.com/upc/841710106442,ht...</td>\n",
       "    </tr>\n",
       "    <tr>\n",
       "      <th>4</th>\n",
       "      <td>AVpgNzjwLJeJML43Kpxn</td>\n",
       "      <td>2015-10-30T08:59:32Z</td>\n",
       "      <td>2019-04-25T09:08:16Z</td>\n",
       "      <td>AmazonBasics AAA Performance Alkaline Batterie...</td>\n",
       "      <td>B00QWO9P0O,B00LH3DMUO</td>\n",
       "      <td>Amazonbasics</td>\n",
       "      <td>AA,AAA,Health,Electronics,Health &amp; Household,C...</td>\n",
       "      <td>Health &amp; Beauty</td>\n",
       "      <td>https://images-na.ssl-images-amazon.com/images...</td>\n",
       "      <td>amazonbasics/hl002619,amazonbasicsaaaperforman...</td>\n",
       "      <td>...</td>\n",
       "      <td>NaN</td>\n",
       "      <td>NaN</td>\n",
       "      <td>NaN</td>\n",
       "      <td>NaN</td>\n",
       "      <td>5</td>\n",
       "      <td>https://www.amazon.com/product-reviews/B00QWO9...</td>\n",
       "      <td>These batteries are very long lasting the pric...</td>\n",
       "      <td>... batteries are very long lasting the price ...</td>\n",
       "      <td>Bylinda</td>\n",
       "      <td>https://www.barcodable.com/upc/841710106442,ht...</td>\n",
       "    </tr>\n",
       "  </tbody>\n",
       "</table>\n",
       "<p>5 rows × 24 columns</p>\n",
       "</div>"
      ],
      "text/plain": [
       "                     id             dateAdded           dateUpdated  \\\n",
       "0  AVpgNzjwLJeJML43Kpxn  2015-10-30T08:59:32Z  2019-04-25T09:08:16Z   \n",
       "1  AVpgNzjwLJeJML43Kpxn  2015-10-30T08:59:32Z  2019-04-25T09:08:16Z   \n",
       "2  AVpgNzjwLJeJML43Kpxn  2015-10-30T08:59:32Z  2019-04-25T09:08:16Z   \n",
       "3  AVpgNzjwLJeJML43Kpxn  2015-10-30T08:59:32Z  2019-04-25T09:08:16Z   \n",
       "4  AVpgNzjwLJeJML43Kpxn  2015-10-30T08:59:32Z  2019-04-25T09:08:16Z   \n",
       "\n",
       "                                                name                  asins  \\\n",
       "0  AmazonBasics AAA Performance Alkaline Batterie...  B00QWO9P0O,B00LH3DMUO   \n",
       "1  AmazonBasics AAA Performance Alkaline Batterie...  B00QWO9P0O,B00LH3DMUO   \n",
       "2  AmazonBasics AAA Performance Alkaline Batterie...  B00QWO9P0O,B00LH3DMUO   \n",
       "3  AmazonBasics AAA Performance Alkaline Batterie...  B00QWO9P0O,B00LH3DMUO   \n",
       "4  AmazonBasics AAA Performance Alkaline Batterie...  B00QWO9P0O,B00LH3DMUO   \n",
       "\n",
       "          brand                                         categories  \\\n",
       "0  Amazonbasics  AA,AAA,Health,Electronics,Health & Household,C...   \n",
       "1  Amazonbasics  AA,AAA,Health,Electronics,Health & Household,C...   \n",
       "2  Amazonbasics  AA,AAA,Health,Electronics,Health & Household,C...   \n",
       "3  Amazonbasics  AA,AAA,Health,Electronics,Health & Household,C...   \n",
       "4  Amazonbasics  AA,AAA,Health,Electronics,Health & Household,C...   \n",
       "\n",
       "  primaryCategories                                          imageURLs  \\\n",
       "0   Health & Beauty  https://images-na.ssl-images-amazon.com/images...   \n",
       "1   Health & Beauty  https://images-na.ssl-images-amazon.com/images...   \n",
       "2   Health & Beauty  https://images-na.ssl-images-amazon.com/images...   \n",
       "3   Health & Beauty  https://images-na.ssl-images-amazon.com/images...   \n",
       "4   Health & Beauty  https://images-na.ssl-images-amazon.com/images...   \n",
       "\n",
       "                                                keys  ... reviews.didPurchase  \\\n",
       "0  amazonbasics/hl002619,amazonbasicsaaaperforman...  ...                 NaN   \n",
       "1  amazonbasics/hl002619,amazonbasicsaaaperforman...  ...                 NaN   \n",
       "2  amazonbasics/hl002619,amazonbasicsaaaperforman...  ...                 NaN   \n",
       "3  amazonbasics/hl002619,amazonbasicsaaaperforman...  ...                 NaN   \n",
       "4  amazonbasics/hl002619,amazonbasicsaaaperforman...  ...                 NaN   \n",
       "\n",
       "  reviews.doRecommend reviews.id reviews.numHelpful reviews.rating  \\\n",
       "0                 NaN        NaN                NaN              3   \n",
       "1                 NaN        NaN                NaN              4   \n",
       "2                 NaN        NaN                NaN              5   \n",
       "3                 NaN        NaN                NaN              5   \n",
       "4                 NaN        NaN                NaN              5   \n",
       "\n",
       "                                  reviews.sourceURLs  \\\n",
       "0  https://www.amazon.com/product-reviews/B00QWO9...   \n",
       "1  https://www.amazon.com/product-reviews/B00QWO9...   \n",
       "2  https://www.amazon.com/product-reviews/B00QWO9...   \n",
       "3  https://www.amazon.com/product-reviews/B00QWO9...   \n",
       "4  https://www.amazon.com/product-reviews/B00QWO9...   \n",
       "\n",
       "                                        reviews.text  \\\n",
       "0  I order 3 of them and one of the item is bad q...   \n",
       "1  Bulk is always the less expensive way to go fo...   \n",
       "2  Well they are not Duracell but for the price i...   \n",
       "3  Seem to work as well as name brand batteries a...   \n",
       "4  These batteries are very long lasting the pric...   \n",
       "\n",
       "                                       reviews.title  reviews.username  \\\n",
       "0  ... 3 of them and one of the item is bad quali...        Byger yang   \n",
       "1  ... always the less expensive way to go for pr...              ByMG   \n",
       "2  ... are not Duracell but for the price i am ha...  BySharon Lambert   \n",
       "3  ... as well as name brand batteries at a much ...     Bymark sexson   \n",
       "4  ... batteries are very long lasting the price ...           Bylinda   \n",
       "\n",
       "                                          sourceURLs  \n",
       "0  https://www.barcodable.com/upc/841710106442,ht...  \n",
       "1  https://www.barcodable.com/upc/841710106442,ht...  \n",
       "2  https://www.barcodable.com/upc/841710106442,ht...  \n",
       "3  https://www.barcodable.com/upc/841710106442,ht...  \n",
       "4  https://www.barcodable.com/upc/841710106442,ht...  \n",
       "\n",
       "[5 rows x 24 columns]"
      ]
     },
     "execution_count": 4,
     "metadata": {},
     "output_type": "execute_result"
    }
   ],
   "source": [
    "df = pd.read_csv('./Datafiniti_Amazon_Consumer_Reviews_of_Amazon_Products_May19.csv')\n",
    "print(df.shape)\n",
    "df.head()\n",
    "\n",
    "#Start Here"
   ]
  },
  {
   "cell_type": "markdown",
   "metadata": {},
   "source": [
    "## Gensim LDA topic Modeling"
   ]
  },
  {
   "cell_type": "code",
   "execution_count": 7,
   "metadata": {},
   "outputs": [],
   "source": []
  },
  {
   "cell_type": "code",
   "execution_count": 8,
   "metadata": {},
   "outputs": [],
   "source": [
    "# slight data cleaning and tokenization. \n",
    "\n",
    "def tokenize(text):\n",
    "    \"\"\"Parses a string into a list of semantic units (words)\n",
    "\n",
    "    Args:\n",
    "        text (str): The string that the function will tokenize.\n",
    "\n",
    "    Returns:\n",
    "        list: tokens parsed out by the mechanics of your choice\n",
    "    \"\"\"\n",
    "    \n",
    "    tokens = re.sub('[^a-zA-Z 0-9]', '', text)\n",
    "    tokens = tokens.lower().split()\n",
    "    \n",
    "    return tokens"
   ]
  },
  {
   "cell_type": "code",
   "execution_count": 11,
   "metadata": {},
   "outputs": [
    {
     "name": "stderr",
     "output_type": "stream",
     "text": [
      "100%|████████████████████████████████████████████████████████████████████████| 28332/28332 [00:00<00:00, 104548.00it/s]\n"
     ]
    }
   ],
   "source": [
    "df['tokens'] = df['reviews.text'].progress_apply(tokenize)"
   ]
  },
  {
   "cell_type": "code",
   "execution_count": 12,
   "metadata": {},
   "outputs": [
    {
     "data": {
      "text/plain": [
       "0    [i, order, 3, of, them, and, one, of, the, ite...\n",
       "1    [bulk, is, always, the, less, expensive, way, ...\n",
       "2    [well, they, are, not, duracell, but, for, the...\n",
       "3    [seem, to, work, as, well, as, name, brand, ba...\n",
       "4    [these, batteries, are, very, long, lasting, t...\n",
       "Name: tokens, dtype: object"
      ]
     },
     "execution_count": 12,
     "metadata": {},
     "output_type": "execute_result"
    }
   ],
   "source": [
    "df['tokens'].head()"
   ]
  },
  {
   "cell_type": "code",
   "execution_count": 13,
   "metadata": {},
   "outputs": [],
   "source": [
    "# A Dictionary Representation of all the words in our corpus\n",
    "\n",
    "id2word = corpora.Dictionary(df['tokens'])"
   ]
  },
  {
   "cell_type": "code",
   "execution_count": 29,
   "metadata": {},
   "outputs": [
    {
     "data": {
      "text/plain": [
       "[(0, '3'),\n",
       " (1, 'a'),\n",
       " (2, 'aluminum'),\n",
       " (3, 'and'),\n",
       " (4, 'backup'),\n",
       " (5, 'bad'),\n",
       " (6, 'battery'),\n",
       " (7, 'have'),\n",
       " (8, 'i'),\n",
       " (9, 'is')]"
      ]
     },
     "execution_count": 29,
     "metadata": {},
     "output_type": "execute_result"
    }
   ],
   "source": [
    "items = [(keys, values) for keys, values in id2word.items()]\n",
    "\n",
    "items[:10]"
   ]
  },
  {
   "cell_type": "code",
   "execution_count": 32,
   "metadata": {},
   "outputs": [
    {
     "data": {
      "text/plain": [
       "[(24, 1),\n",
       " (31, 1),\n",
       " (41, 1),\n",
       " (46, 1),\n",
       " (52, 49),\n",
       " (69, 60),\n",
       " (85, 1),\n",
       " (95, 5),\n",
       " (165, 1),\n",
       " (174, 3)]"
      ]
     },
     "execution_count": 32,
     "metadata": {},
     "output_type": "execute_result"
    }
   ],
   "source": [
    "# document to bag of words\n",
    "\n",
    "bagofwords = id2word.doc2bow(df['reviews.text'])\n",
    "\n",
    "bagofwords[:10]"
   ]
  },
  {
   "cell_type": "code",
   "execution_count": 42,
   "metadata": {},
   "outputs": [
    {
     "data": {
      "text/plain": [
       "[(21, 1),\n",
       " (28, 1),\n",
       " (38, 1),\n",
       " (43, 1),\n",
       " (49, 49),\n",
       " (66, 60),\n",
       " (82, 1),\n",
       " (90, 5),\n",
       " (156, 1),\n",
       " (164, 3)]"
      ]
     },
     "execution_count": 42,
     "metadata": {},
     "output_type": "execute_result"
    }
   ],
   "source": [
    "id2word.doc2bow(df['reviews.text'])[:10]"
   ]
  },
  {
   "cell_type": "code",
   "execution_count": 43,
   "metadata": {},
   "outputs": [
    {
     "data": {
      "text/plain": [
       "2174"
      ]
     },
     "execution_count": 43,
     "metadata": {},
     "output_type": "execute_result"
    }
   ],
   "source": [
    "len(id2word.keys())"
   ]
  },
  {
   "cell_type": "code",
   "execution_count": 34,
   "metadata": {},
   "outputs": [],
   "source": [
    "# removing extreme values\n",
    "\n",
    "filtered = id2word.filter_extremes(no_below = 15, no_above=0.90)"
   ]
  },
  {
   "cell_type": "code",
   "execution_count": 37,
   "metadata": {},
   "outputs": [],
   "source": [
    "id2word.filter_extremes(no_below = 15, no_above=0.90)"
   ]
  },
  {
   "cell_type": "code",
   "execution_count": 38,
   "metadata": {},
   "outputs": [
    {
     "data": {
      "text/plain": [
       "2174"
      ]
     },
     "execution_count": 38,
     "metadata": {},
     "output_type": "execute_result"
    }
   ],
   "source": [
    "len(id2word.keys())"
   ]
  },
  {
   "cell_type": "code",
   "execution_count": 48,
   "metadata": {},
   "outputs": [
    {
     "data": {
      "text/plain": [
       "[(0, 1),\n",
       " (1, 1),\n",
       " (2, 1),\n",
       " (3, 1),\n",
       " (4, 1),\n",
       " (5, 1),\n",
       " (6, 1),\n",
       " (7, 2),\n",
       " (8, 2),\n",
       " (9, 1),\n",
       " (10, 1),\n",
       " (11, 1),\n",
       " (12, 3),\n",
       " (13, 1),\n",
       " (14, 1),\n",
       " (15, 1),\n",
       " (16, 1),\n",
       " (17, 1),\n",
       " (18, 2),\n",
       " (19, 1),\n",
       " (20, 2),\n",
       " (21, 1)]"
      ]
     },
     "execution_count": 48,
     "metadata": {},
     "output_type": "execute_result"
    }
   ],
   "source": [
    "# a bag of words(bow) representation of our corpus\n",
    "corpus = [id2word.doc2bow(text) for text in df['tokens']]\n",
    "corpus[0]"
   ]
  },
  {
   "cell_type": "code",
   "execution_count": 50,
   "metadata": {},
   "outputs": [],
   "source": [
    "# LDA documentation \n",
    "# https://radimrehurek.com/gensim/models/ldamulticore.html\n",
    "\n",
    "lda = LdaMulticore(corpus=corpus,\n",
    "                  id2word = id2word,\n",
    "                  random_state = 42,\n",
    "                  num_topics=5,\n",
    "                  passes=10)"
   ]
  },
  {
   "cell_type": "code",
   "execution_count": 51,
   "metadata": {},
   "outputs": [
    {
     "data": {
      "text/plain": [
       "[(0,\n",
       "  '0.043*\"the\" + 0.042*\"i\" + 0.042*\"it\" + 0.031*\"to\" + 0.029*\"and\" + 0.029*\"a\" + 0.024*\"for\" + 0.023*\"is\" + 0.019*\"this\" + 0.018*\"my\"'),\n",
       " (1,\n",
       "  '0.049*\"for\" + 0.044*\"and\" + 0.038*\"it\" + 0.033*\"to\" + 0.031*\"my\" + 0.028*\"the\" + 0.026*\"this\" + 0.024*\"tablet\" + 0.021*\"a\" + 0.021*\"is\"'),\n",
       " (2,\n",
       "  '0.065*\"the\" + 0.032*\"as\" + 0.025*\"a\" + 0.025*\"and\" + 0.023*\"to\" + 0.023*\"great\" + 0.020*\"is\" + 0.017*\"you\" + 0.016*\"for\" + 0.015*\"amazon\"'),\n",
       " (3,\n",
       "  '0.057*\"the\" + 0.045*\"i\" + 0.030*\"to\" + 0.028*\"and\" + 0.024*\"a\" + 0.018*\"of\" + 0.017*\"in\" + 0.015*\"have\" + 0.012*\"is\" + 0.012*\"it\"'),\n",
       " (4,\n",
       "  '0.047*\"batteries\" + 0.029*\"they\" + 0.027*\"great\" + 0.027*\"and\" + 0.026*\"a\" + 0.026*\"good\" + 0.024*\"these\" + 0.024*\"the\" + 0.024*\"i\" + 0.024*\"as\"')]"
      ]
     },
     "execution_count": 51,
     "metadata": {},
     "output_type": "execute_result"
    }
   ],
   "source": [
    "lda.print_topics()"
   ]
  },
  {
   "cell_type": "code",
   "execution_count": 52,
   "metadata": {},
   "outputs": [
    {
     "name": "stdout",
     "output_type": "stream",
     "text": [
      "------ Topic 0 ------\n",
      "the i it to and\n",
      "\n",
      "------ Topic 1 ------\n",
      "for and it to my\n",
      "\n",
      "------ Topic 2 ------\n",
      "the as a and to\n",
      "\n",
      "------ Topic 3 ------\n",
      "the i to and a\n",
      "\n",
      "------ Topic 4 ------\n",
      "batteries they great and a\n",
      "\n"
     ]
    }
   ],
   "source": [
    "words = [re.findall(r'\"([^\"]*)\"',t[1]) for t in lda.print_topics()]\n",
    "topics = [' '.join(t[0:5]) for t in words]\n",
    "\n",
    "for id, t in enumerate(topics): \n",
    "    print(f\"------ Topic {id} ------\")\n",
    "    print(t, end=\"\\n\\n\")"
   ]
  },
  {
   "cell_type": "markdown",
   "metadata": {},
   "source": [
    "## Creat Visual Interpretation for LDA topics"
   ]
  },
  {
   "cell_type": "code",
   "execution_count": 54,
   "metadata": {},
   "outputs": [],
   "source": [
    "import pyLDAvis.gensim\n",
    "\n",
    "pyLDAvis.enable_notebook()"
   ]
  },
  {
   "cell_type": "code",
   "execution_count": 55,
   "metadata": {},
   "outputs": [
    {
     "data": {
      "text/html": [
       "\n",
       "<link rel=\"stylesheet\" type=\"text/css\" href=\"https://cdn.rawgit.com/bmabey/pyLDAvis/files/ldavis.v1.0.0.css\">\n",
       "\n",
       "\n",
       "<div id=\"ldavis_el1673222264755190962424188244\"></div>\n",
       "<script type=\"text/javascript\">\n",
       "\n",
       "var ldavis_el1673222264755190962424188244_data = {\"mdsDat\": {\"x\": [-0.07915945029453134, -0.14114254826133357, 0.031417339023070194, 0.1522963246970756, 0.03658833483571913], \"y\": [-0.030796771186879526, 0.04432900367557159, -0.08968367240551497, 0.0332753254651552, 0.042876114451667724], \"topics\": [1, 2, 3, 4, 5], \"cluster\": [1, 1, 1, 1, 1], \"Freq\": [25.933425903320312, 23.499601364135742, 20.71822166442871, 18.817520141601562, 11.031230926513672]}, \"tinfo\": {\"Term\": [\"batteries\", \"as\", \"the\", \"it\", \"great\", \"they\", \"these\", \"price\", \"tablet\", \"good\", \"she\", \"last\", \"loves\", \"for\", \"you\", \"long\", \"her\", \"is\", \"works\", \"work\", \"kids\", \"amazon\", \"this\", \"i\", \"well\", \"easy\", \"my\", \"old\", \"them\", \"are\", \"menu\", \"teenage\", \"friday\", \"glare\", \"lacks\", \"smartphone\", \"strain\", \"responds\", \"touching\", \"documents\", \"vacation\", \"60\", \"net\", \"fee\", \"font\", \"versatility\", \"browser\", \"swipe\", \"silk\", \"plane\", \"backlight\", \"sensitive\", \"pockets\", \"black\", \"purse\", \"cons\", \"sun\", \"text\", \"turns\", \"windows\", \"travel\", \"his\", \"screen\", \"eyes\", \"bigger\", \"clarity\", \"bag\", \"book\", \"phone\", \"larger\", \"does\", \"wanted\", \"reading\", \"weight\", \"kindle\", \"reader\", \"read\", \"size\", \"ereader\", \"it\", \"myself\", \"light\", \"version\", \"fits\", \"he\", \"books\", \"i\", \"google\", \"ipad\", \"is\", \"was\", \"everything\", \"this\", \"on\", \"the\", \"to\", \"a\", \"what\", \"you\", \"can\", \"but\", \"my\", \"and\", \"for\", \"its\", \"that\", \"tablet\", \"like\", \"fire\", \"of\", \"with\", \"use\", \"so\", \"have\", \"great\", \"not\", \"one\", \"love\", \"daughter\", \"shes\", \"niece\", \"granddaughter\", \"her\", \"she\", \"grand\", \"ages\", \"educational\", \"parental\", \"occupied\", \"entertained\", \"grandaughter\", \"starter\", \"parent\", \"olds\", \"teach\", \"law\", \"engaged\", \"teaching\", \"granddaughters\", \"mother\", \"disney\", \"friendly\", \"siblings\", \"yr\", \"mom\", \"indestructible\", \"assistance\", \"kiddos\", \"kid\", \"loves\", \"age\", \"appropriate\", \"child\", \"grandkids\", \"grandchildren\", \"year\", \"learning\", \"enjoys\", \"navigate\", \"games\", \"kids\", \"old\", \"gift\", \"durable\", \"easy\", \"christmas\", \"wife\", \"tablet\", \"children\", \"for\", \"my\", \"bought\", \"it\", \"this\", \"love\", \"and\", \"use\", \"to\", \"is\", \"very\", \"has\", \"great\", \"a\", \"the\", \"with\", \"apps\", \"i\", \"of\", \"on\", \"so\", \"good\", \"leaked\", \"refund\", \"acid\", \"2015\", \"removed\", \"failed\", \"ruined\", \"contacted\", \"2016\", \"warning\", \"owning\", \"measured\", \"defective\", \"2017\", \"dead\", \"quit\", \"powering\", \"sent\", \"waited\", \"wore\", \"called\", \"october\", \"indonesia\", \"convinced\", \"stopped\", \"drained\", \"charging\", \"complained\", \"positive\", \"oasis\", \"usb\", \"leaking\", \"port\", \"weeks\", \"switched\", \"days\", \"cable\", \"return\", \"keyboard\", \"generation\", \"left\", \"charge\", \"after\", \"months\", \"within\", \"ago\", \"had\", \"issue\", \"went\", \"minutes\", \"tried\", \"plug\", \"customer\", \"did\", \"were\", \"in\", \"out\", \"week\", \"i\", \"the\", \"have\", \"before\", \"not\", \"one\", \"of\", \"back\", \"few\", \"to\", \"that\", \"them\", \"a\", \"and\", \"was\", \"only\", \"on\", \"when\", \"with\", \"but\", \"ive\", \"so\", \"is\", \"my\", \"batteries\", \"amazon\", \"these\", \"it\", \"this\", \"are\", \"for\", \"they\", \"buy\", \"all\", \"lasting\", \"batterys\", \"cars\", \"names\", \"batts\", \"span\", \"rc\", \"shrink\", \"packaged\", \"cents\", \"quantity\", \"supply\", \"controllers\", \"delivery\", \"flameless\", \"club\", \"energizer\", \"last\", \"stocked\", \"alkaline\", \"duracel\", \"tests\", \"leading\", \"lithium\", \"duracell\", \"toys\", \"neatly\", \"seem\", \"remotes\", \"sizes\", \"theyre\", \"xbox\", \"batteries\", \"long\", \"value\", \"aa\", \"flashlights\", \"brand\", \"these\", \"name\", \"they\", \"work\", \"aaa\", \"good\", \"deal\", \"price\", \"brands\", \"cheap\", \"again\", \"amazonbasics\", \"are\", \"as\", \"them\", \"great\", \"quality\", \"dont\", \"buy\", \"a\", \"and\", \"in\", \"i\", \"for\", \"will\", \"the\", \"of\", \"so\", \"to\", \"at\", \"just\", \"battery\", \"have\", \"but\", \"very\", \"not\", \"dot\", \"described\", \"fingertips\", \"invested\", \"echo\", \"national\", \"commands\", \"voice\", \"drains\", \"par\", \"bose\", \"wonderfully\", \"superb\", \"performs\", \"bank\", \"tap\", \"ecosystem\", \"provided\", \"bunny\", \"backup\", \"portability\", \"costs\", \"apple\", \"command\", \"absolute\", \"shipping\", \"reasonably\", \"speaker\", \"services\", \"guys\", \"beat\", \"sound\", \"works\", \"major\", \"alexa\", \"prime\", \"complaints\", \"priced\", \"fraction\", \"bluetooth\", \"as\", \"well\", \"market\", \"amazon\", \"you\", \"issues\", \"expected\", \"the\", \"store\", \"cant\", \"item\", \"great\", \"android\", \"other\", \"price\", \"any\", \"quality\", \"better\", \"no\", \"is\", \"just\", \"a\", \"of\", \"product\", \"to\", \"and\", \"with\", \"have\", \"for\", \"good\", \"if\", \"or\", \"this\", \"i\", \"its\", \"at\", \"it\", \"tablet\", \"are\", \"but\", \"on\", \"in\"], \"Freq\": [7908.0, 7625.0, 28953.0, 16541.0, 9354.0, 5579.0, 4565.0, 5232.0, 6526.0, 5939.0, 2358.0, 2340.0, 2122.0, 17668.0, 4445.0, 2489.0, 1424.0, 11403.0, 1511.0, 2346.0, 2465.0, 3721.0, 10289.0, 20630.0, 2444.0, 2795.0, 10929.0, 2011.0, 3165.0, 4624.0, 36.84819793701172, 23.06985092163086, 203.80943298339844, 32.73689651489258, 31.41236686706543, 25.515289306640625, 22.851947784423828, 15.842123985290527, 15.030386924743652, 18.327980041503906, 27.283098220825195, 29.502880096435547, 26.133163452148438, 15.318747520446777, 35.724918365478516, 14.668187141418457, 59.85988235473633, 28.372312545776367, 28.29367446899414, 31.87211799621582, 39.740482330322266, 21.269550323486328, 21.636899948120117, 255.8931427001953, 76.66625213623047, 27.47650909423828, 18.062387466430664, 59.477943420410156, 36.417110443115234, 19.158451080322266, 149.49603271484375, 547.6219482421875, 1229.3463134765625, 109.96238708496094, 155.55947875976562, 57.62643814086914, 51.492164611816406, 255.42373657226562, 241.72579956054688, 149.5438690185547, 642.1095581054688, 389.2114562988281, 798.6365966796875, 143.9686279296875, 1741.9666748046875, 265.9498291015625, 736.266357421875, 628.7847900390625, 153.6685333251953, 7580.892578125, 161.73863220214844, 436.3943176269531, 214.83102416992188, 112.62171173095703, 860.7762451171875, 758.7445678710938, 7602.00439453125, 307.4854736328125, 455.6676940917969, 4140.869140625, 1781.9490966796875, 398.5173034667969, 3540.70361328125, 2171.620361328125, 7835.87255859375, 5689.22998046875, 5196.30908203125, 751.2990112304688, 1747.8173828125, 1263.0872802734375, 1837.6019287109375, 3191.816162109375, 5272.494140625, 4407.5517578125, 1230.635498046875, 1904.6212158203125, 1940.9925537109375, 989.8818359375, 912.1574096679688, 1851.3271484375, 1398.5220947265625, 1169.379150390625, 1148.0972900390625, 1216.8448486328125, 1413.2447509765625, 1095.0460205078125, 945.2630615234375, 940.3005981445312, 852.7886962890625, 96.0666732788086, 153.46507263183594, 384.4078369140625, 1392.465087890625, 2303.559814453125, 142.76312255859375, 82.13306427001953, 221.19715881347656, 375.82769775390625, 36.141414642333984, 106.14034271240234, 19.92688751220703, 55.494911193847656, 74.43574523925781, 25.37227439880371, 17.344160079956055, 51.28739929199219, 17.323387145996094, 17.27964210510254, 27.574201583862305, 132.63494873046875, 17.028593063354492, 324.36590576171875, 14.418429374694824, 203.95010375976562, 225.63072204589844, 17.097274780273438, 15.658844947814941, 15.8390474319458, 382.98382568359375, 1914.4078369140625, 202.65948486328125, 107.75487518310547, 368.4689636230469, 157.87454223632812, 60.362770080566406, 1395.1143798828125, 369.44329833984375, 139.38328552246094, 218.69952392578125, 1314.3826904296875, 1974.8525390625, 1577.7752685546875, 807.6979370117188, 285.35784912109375, 1958.9957275390625, 653.8187255859375, 317.5743713378906, 3903.556640625, 309.7902526855469, 8016.7080078125, 5082.6962890625, 1675.0643310546875, 6294.89599609375, 4285.52978515625, 1720.719482421875, 7300.333984375, 1950.4581298828125, 5371.9072265625, 3467.51220703125, 1577.3643798828125, 1115.277587890625, 2488.855224609375, 3492.617431640625, 4565.95556640625, 1735.9932861328125, 862.0440673828125, 2423.577880859375, 1249.1824951171875, 1029.7379150390625, 990.3222045898438, 969.1937866210938, 61.08515548706055, 22.187732696533203, 39.32841110229492, 21.513370513916016, 27.9930477142334, 36.152610778808594, 20.307647705078125, 19.305057525634766, 26.853742599487305, 19.65692901611328, 20.658554077148438, 15.377435684204102, 32.08800506591797, 21.334667205810547, 159.50282287597656, 27.747608184814453, 13.782633781433105, 40.838172912597656, 14.880008697509766, 22.954137802124023, 32.15504837036133, 15.204651832580566, 13.659737586975098, 14.715019226074219, 65.22502899169922, 15.44070053100586, 238.04214477539062, 15.970870018005371, 21.717527389526367, 142.54238891601562, 52.62989044189453, 47.80839920043945, 95.28271484375, 183.2185516357422, 32.49028396606445, 266.320556640625, 72.53443145751953, 108.7069091796875, 143.13475036621094, 103.5721435546875, 83.67975616455078, 411.02294921875, 501.26251220703125, 255.45391845703125, 97.3714828491211, 130.24879455566406, 1278.5670166015625, 142.8536376953125, 174.6304473876953, 97.01013946533203, 193.09738159179688, 79.5354232788086, 85.30998229980469, 348.23583984375, 511.6363220214844, 2445.969482421875, 732.9735107421875, 157.56869506835938, 6505.77392578125, 8302.8271484375, 2190.395751953125, 275.9443664550781, 1625.1129150390625, 1118.0220947265625, 2579.184326171875, 284.960205078125, 302.35272216796875, 4391.7333984375, 1758.0838623046875, 1059.711181640625, 3469.18798828125, 4030.9384765625, 1189.27685546875, 607.2627563476562, 1364.5958251953125, 635.8917236328125, 1389.800048828125, 1222.4371337890625, 388.4522399902344, 1089.2159423828125, 1776.442626953125, 1691.9237060546875, 1366.8826904296875, 901.5189819335938, 953.9773559570312, 1766.0869140625, 1293.5338134765625, 834.6595458984375, 1107.0462646484375, 825.2074584960938, 655.6842041015625, 658.4010620117188, 316.59161376953125, 30.936046600341797, 21.924880981445312, 50.738101959228516, 21.35671043395996, 36.10313415527344, 15.624008178710938, 27.101821899414062, 142.56234741210938, 26.90500831604004, 71.87481689453125, 33.44007873535156, 127.4128646850586, 81.50828552246094, 14.704427719116211, 15.511674880981445, 279.45330810546875, 2029.876708984375, 18.83246421813965, 193.27076721191406, 21.391096115112305, 13.644930839538574, 31.782825469970703, 20.004411697387695, 508.97003173828125, 331.451416015625, 14.088106155395508, 753.2698974609375, 192.07606506347656, 65.44921112060547, 279.3094177246094, 143.08273315429688, 6200.7373046875, 1990.0938720703125, 914.5836791992188, 368.87823486328125, 102.70744323730469, 967.3652954101562, 3224.1279296875, 840.7646484375, 3792.95458984375, 1579.6610107421875, 265.904541015625, 3486.533447265625, 612.837890625, 2987.867431640625, 573.4627075195312, 387.3071594238281, 548.0960693359375, 223.5032958984375, 2148.81689453125, 3134.820556640625, 1504.378662109375, 3565.8017578125, 678.9483032226562, 707.737548828125, 944.6318359375, 3488.912841796875, 3562.309814453125, 1565.3289794921875, 3190.871826171875, 2876.954345703125, 810.6784057617188, 3196.900390625, 1599.95556640625, 1186.5528564453125, 2168.442138671875, 886.56201171875, 889.6998901367188, 796.1084594726562, 982.583251953125, 945.872314453125, 875.0980834960938, 847.78173828125, 53.81987762451172, 143.38768005371094, 16.727874755859375, 17.06015396118164, 231.05381774902344, 22.907018661499023, 28.910062789916992, 73.85936737060547, 14.870811462402344, 23.613306045532227, 12.356340408325195, 14.682676315307617, 19.769412994384766, 37.274993896484375, 14.790657997131348, 212.72300720214844, 28.64617156982422, 15.830130577087402, 19.521329879760742, 26.036094665527344, 41.9155158996582, 18.43105697631836, 131.66358947753906, 12.02364444732666, 14.104004859924316, 98.81302642822266, 31.659284591674805, 167.02359008789062, 41.94180679321289, 14.623406410217285, 325.377197265625, 250.84634399414062, 915.9757080078125, 78.51478576660156, 188.4280548095703, 267.63641357421875, 113.0158920288086, 86.7343521118164, 68.19425964355469, 83.47144317626953, 2508.1865234375, 922.078369140625, 69.32633209228516, 1160.6890869140625, 1334.1611328125, 183.19619750976562, 180.41917419433594, 5052.35400390625, 374.12567138671875, 369.16949462890625, 176.32411193847656, 1776.959716796875, 142.10650634765625, 519.625732421875, 1076.8499755859375, 405.0681457519531, 413.7716064453125, 411.5897521972656, 451.4126892089844, 1567.3079833984375, 623.1910400390625, 1940.5625, 1137.8951416015625, 494.0438232421875, 1793.0360107421875, 1925.1385498046875, 905.9502563476562, 836.9517211914062, 1260.3792724609375, 752.1439208984375, 455.9842224121094, 474.4551086425781, 849.5135498046875, 908.6441650390625, 509.806640625, 481.343017578125, 760.6598510742188, 579.5743408203125, 526.7797241210938, 523.28271484375, 518.5314331054688, 497.9906921386719], \"Total\": [7908.0, 7625.0, 28953.0, 16541.0, 9354.0, 5579.0, 4565.0, 5232.0, 6526.0, 5939.0, 2358.0, 2340.0, 2122.0, 17668.0, 4445.0, 2489.0, 1424.0, 11403.0, 1511.0, 2346.0, 2465.0, 3721.0, 10289.0, 20630.0, 2444.0, 2795.0, 10929.0, 2011.0, 3165.0, 4624.0, 38.0142707824707, 24.07830238342285, 213.15679931640625, 34.375423431396484, 33.092132568359375, 27.01671600341797, 24.22590446472168, 16.833202362060547, 15.977733612060547, 19.509952545166016, 29.15902328491211, 31.64723777770996, 28.134193420410156, 16.51877212524414, 38.84944534301758, 15.960885047912598, 65.3320541381836, 31.009374618530273, 30.968358993530273, 34.91423416137695, 43.666412353515625, 23.40304183959961, 23.88378143310547, 283.6926574707031, 85.625, 30.720157623291016, 20.305082321166992, 66.87010192871094, 41.003662109375, 21.734182357788086, 170.12591552734375, 668.898681640625, 1547.42333984375, 128.5078582763672, 187.55624389648438, 66.48189544677734, 59.15310287475586, 323.7974853515625, 306.0725402832031, 185.7098388671875, 895.06787109375, 521.9768676757812, 1140.459716796875, 182.876953125, 2884.92138671875, 360.31298828125, 1139.3211669921875, 960.0420532226562, 201.49148559570312, 16541.078125, 216.832763671875, 682.6292114257812, 305.24755859375, 145.09194946289062, 1579.845947265625, 1367.86669921875, 20630.87109375, 476.1506042480469, 773.0365600585938, 11403.2041015625, 4186.0146484375, 663.2859497070312, 10289.0517578125, 5616.28076171875, 28953.91015625, 19414.34765625, 17587.58984375, 1486.2337646484375, 4445.533203125, 2958.853271484375, 4908.77294921875, 10929.9453125, 22091.21484375, 17668.638671875, 2995.357421875, 5664.333984375, 6526.72265625, 2479.161865234375, 2221.3154296875, 8417.544921875, 5995.572265625, 4327.7841796875, 4685.111328125, 5688.78662109375, 9354.10546875, 4411.89697265625, 2821.912841796875, 3428.99853515625, 868.78173828125, 98.01827239990234, 156.68600463867188, 393.0235595703125, 1424.052978515625, 2358.486328125, 146.4309844970703, 84.64320373535156, 230.04501342773438, 391.5721435546875, 37.66044235229492, 110.66653442382812, 20.87505531311035, 58.251609802246094, 78.19129943847656, 26.72522735595703, 18.33713722229004, 54.25236129760742, 18.339750289916992, 18.336727142333984, 29.266508102416992, 141.5554656982422, 18.176971435546875, 347.4394836425781, 15.45368480682373, 218.6062774658203, 242.30859375, 18.37049674987793, 16.85232925415039, 17.05939292907715, 417.26995849609375, 2122.47119140625, 221.21112060546875, 117.17211151123047, 408.0347900390625, 172.67874145507812, 65.54407501220703, 1650.8387451171875, 420.6784973144531, 154.4592742919922, 247.00320434570312, 1607.9931640625, 2465.81494140625, 2011.8011474609375, 1005.5044555664062, 334.3367919921875, 2795.537841796875, 863.304443359375, 386.77740478515625, 6526.72265625, 379.5182800292969, 17668.638671875, 10929.9453125, 3106.39404296875, 16541.078125, 10289.0517578125, 3428.99853515625, 22091.21484375, 4327.7841796875, 19414.34765625, 11403.2041015625, 3720.224365234375, 2372.48779296875, 9354.10546875, 17587.58984375, 28953.91015625, 5995.572265625, 1746.233642578125, 20630.87109375, 8417.544921875, 5616.28076171875, 4685.111328125, 5939.7763671875, 63.46194839477539, 23.080991744995117, 41.055206298828125, 22.62632942199707, 29.45138168334961, 38.09189224243164, 21.466413497924805, 20.461669921875, 28.51668357849121, 20.925046920776367, 22.015546798706055, 16.41787338256836, 34.39935302734375, 22.908021926879883, 172.44451904296875, 30.0428524017334, 14.945456504821777, 44.319339752197266, 16.164915084838867, 25.001691818237305, 35.07582473754883, 16.65799331665039, 14.970605850219727, 16.15341567993164, 71.81300354003906, 17.055917739868164, 263.5204162597656, 17.699499130249023, 24.080568313598633, 158.06723022460938, 58.41730499267578, 53.368431091308594, 107.22770690917969, 211.66380310058594, 36.35212707519531, 323.1982421875, 83.80729675292969, 128.47349548339844, 172.7510223388672, 124.97201538085938, 99.76069641113281, 569.6030883789062, 718.7504272460938, 345.4833984375, 119.97692108154297, 167.3435516357422, 2136.388427734375, 185.70608520507812, 235.7004852294922, 121.45245361328125, 268.5181579589844, 98.46223449707031, 106.92008972167969, 558.645263671875, 895.252685546875, 5872.2265625, 1410.7528076171875, 222.33029174804688, 20630.87109375, 28953.91015625, 5688.78662109375, 451.9864501953125, 4411.89697265625, 2821.912841796875, 8417.544921875, 481.7232360839844, 529.1891479492188, 19414.34765625, 5664.333984375, 3165.26611328125, 17587.58984375, 22091.21484375, 4186.0146484375, 1560.8603515625, 5616.28076171875, 1707.6749267578125, 5995.572265625, 4908.77294921875, 802.9415893554688, 4685.111328125, 11403.2041015625, 10929.9453125, 7908.3642578125, 3721.34765625, 4565.48388671875, 16541.078125, 10289.0517578125, 4624.08056640625, 17668.638671875, 5579.14990234375, 2312.217041015625, 2635.703125, 332.5227355957031, 32.83738708496094, 23.29193115234375, 54.291080474853516, 22.889284133911133, 38.76757049560547, 16.905376434326172, 29.76799964904785, 156.98892211914062, 29.778322219848633, 80.22553253173828, 37.637603759765625, 144.49771118164062, 92.6362075805664, 16.843656539916992, 17.81470489501953, 321.2737731933594, 2340.04833984375, 21.778663635253906, 223.55496215820312, 24.743511199951172, 15.834747314453125, 37.49042892456055, 23.674009323120117, 603.9338989257812, 393.8407287597656, 16.80030632019043, 903.93212890625, 230.7018280029297, 79.03689575195312, 339.7624816894531, 173.65940856933594, 7908.3642578125, 2489.91845703125, 1142.0972900390625, 463.9686584472656, 124.25349426269531, 1271.6484375, 4565.48388671875, 1130.9388427734375, 5579.14990234375, 2346.34619140625, 350.5611572265625, 5939.7763671875, 899.8447875976562, 5232.11474609375, 879.6068115234375, 578.9899291992188, 875.1771240234375, 309.3109130859375, 4624.08056640625, 7625.04296875, 3165.26611328125, 9354.10546875, 1371.4583740234375, 1518.658447265625, 2312.217041015625, 17587.58984375, 22091.21484375, 5872.2265625, 20630.87109375, 17668.638671875, 1962.6966552734375, 28953.91015625, 8417.544921875, 4685.111328125, 19414.34765625, 2575.302001953125, 2785.6650390625, 2079.02880859375, 5688.78662109375, 4908.77294921875, 3720.224365234375, 4411.89697265625, 56.18457794189453, 149.7524871826172, 17.60096549987793, 18.100933074951172, 254.32150268554688, 25.719552993774414, 33.02699661254883, 84.77745819091797, 17.090742111206055, 27.519710540771484, 14.854987144470215, 17.764646530151367, 24.079259872436523, 45.504241943359375, 18.155990600585938, 270.66973876953125, 36.8160400390625, 20.486713409423828, 25.803173065185547, 34.42571258544922, 55.53683853149414, 25.203887939453125, 181.8544158935547, 16.612735748291016, 19.54057502746582, 137.2860565185547, 44.00986099243164, 233.31773376464844, 59.723453521728516, 20.918964385986328, 471.3150329589844, 389.0155029296875, 1511.1485595703125, 123.04850006103516, 325.2193603515625, 483.1964111328125, 185.8890838623047, 139.07254028320312, 107.5473861694336, 136.89346313476562, 7625.04296875, 2444.75634765625, 112.78582763671875, 3721.34765625, 4445.533203125, 374.575927734375, 377.3123474121094, 28953.91015625, 1004.4581909179688, 1016.6279907226562, 394.6818542480469, 9354.10546875, 297.1521301269531, 1826.25634765625, 5232.11474609375, 1310.7977294921875, 1371.4583740234375, 1442.6239013671875, 1660.4886474609375, 11403.2041015625, 2785.6650390625, 17587.58984375, 8417.544921875, 2074.63134765625, 19414.34765625, 22091.21484375, 5995.572265625, 5688.78662109375, 17668.638671875, 5939.7763671875, 1886.349609375, 2113.89111328125, 10289.0517578125, 20630.87109375, 2995.357421875, 2575.302001953125, 16541.078125, 6526.72265625, 4624.08056640625, 4908.77294921875, 5616.28076171875, 5872.2265625], \"Category\": [\"Default\", \"Default\", \"Default\", \"Default\", \"Default\", \"Default\", \"Default\", \"Default\", \"Default\", \"Default\", \"Default\", \"Default\", \"Default\", \"Default\", \"Default\", \"Default\", \"Default\", \"Default\", \"Default\", \"Default\", \"Default\", \"Default\", \"Default\", \"Default\", \"Default\", \"Default\", \"Default\", \"Default\", \"Default\", \"Default\", \"Topic1\", \"Topic1\", \"Topic1\", \"Topic1\", \"Topic1\", \"Topic1\", \"Topic1\", \"Topic1\", \"Topic1\", \"Topic1\", \"Topic1\", \"Topic1\", \"Topic1\", \"Topic1\", \"Topic1\", \"Topic1\", \"Topic1\", \"Topic1\", \"Topic1\", \"Topic1\", \"Topic1\", \"Topic1\", \"Topic1\", \"Topic1\", \"Topic1\", \"Topic1\", \"Topic1\", \"Topic1\", \"Topic1\", \"Topic1\", \"Topic1\", \"Topic1\", \"Topic1\", \"Topic1\", \"Topic1\", \"Topic1\", \"Topic1\", \"Topic1\", \"Topic1\", \"Topic1\", \"Topic1\", \"Topic1\", \"Topic1\", \"Topic1\", \"Topic1\", \"Topic1\", \"Topic1\", \"Topic1\", \"Topic1\", \"Topic1\", \"Topic1\", \"Topic1\", \"Topic1\", \"Topic1\", \"Topic1\", \"Topic1\", \"Topic1\", \"Topic1\", \"Topic1\", \"Topic1\", \"Topic1\", \"Topic1\", \"Topic1\", \"Topic1\", \"Topic1\", \"Topic1\", \"Topic1\", \"Topic1\", \"Topic1\", \"Topic1\", \"Topic1\", \"Topic1\", \"Topic1\", \"Topic1\", \"Topic1\", \"Topic1\", \"Topic1\", \"Topic1\", \"Topic1\", \"Topic1\", \"Topic1\", \"Topic1\", \"Topic1\", \"Topic1\", \"Topic1\", \"Topic1\", \"Topic1\", \"Topic1\", \"Topic2\", \"Topic2\", \"Topic2\", \"Topic2\", \"Topic2\", \"Topic2\", \"Topic2\", \"Topic2\", \"Topic2\", \"Topic2\", \"Topic2\", \"Topic2\", \"Topic2\", \"Topic2\", \"Topic2\", \"Topic2\", \"Topic2\", \"Topic2\", \"Topic2\", \"Topic2\", \"Topic2\", \"Topic2\", \"Topic2\", \"Topic2\", \"Topic2\", \"Topic2\", \"Topic2\", \"Topic2\", \"Topic2\", \"Topic2\", \"Topic2\", \"Topic2\", \"Topic2\", \"Topic2\", \"Topic2\", \"Topic2\", \"Topic2\", \"Topic2\", \"Topic2\", \"Topic2\", \"Topic2\", \"Topic2\", \"Topic2\", \"Topic2\", \"Topic2\", \"Topic2\", \"Topic2\", \"Topic2\", \"Topic2\", \"Topic2\", \"Topic2\", \"Topic2\", \"Topic2\", \"Topic2\", \"Topic2\", \"Topic2\", \"Topic2\", \"Topic2\", \"Topic2\", \"Topic2\", \"Topic2\", \"Topic2\", \"Topic2\", \"Topic2\", \"Topic2\", \"Topic2\", \"Topic2\", \"Topic2\", \"Topic2\", \"Topic2\", \"Topic2\", \"Topic2\", \"Topic2\", \"Topic3\", \"Topic3\", \"Topic3\", \"Topic3\", \"Topic3\", \"Topic3\", \"Topic3\", \"Topic3\", \"Topic3\", \"Topic3\", \"Topic3\", \"Topic3\", \"Topic3\", \"Topic3\", \"Topic3\", \"Topic3\", \"Topic3\", \"Topic3\", \"Topic3\", \"Topic3\", \"Topic3\", \"Topic3\", \"Topic3\", \"Topic3\", \"Topic3\", \"Topic3\", \"Topic3\", \"Topic3\", \"Topic3\", \"Topic3\", \"Topic3\", \"Topic3\", \"Topic3\", \"Topic3\", \"Topic3\", \"Topic3\", \"Topic3\", \"Topic3\", \"Topic3\", \"Topic3\", \"Topic3\", \"Topic3\", \"Topic3\", \"Topic3\", \"Topic3\", \"Topic3\", \"Topic3\", \"Topic3\", \"Topic3\", \"Topic3\", \"Topic3\", \"Topic3\", \"Topic3\", \"Topic3\", \"Topic3\", \"Topic3\", \"Topic3\", \"Topic3\", \"Topic3\", \"Topic3\", \"Topic3\", \"Topic3\", \"Topic3\", \"Topic3\", \"Topic3\", \"Topic3\", \"Topic3\", \"Topic3\", \"Topic3\", \"Topic3\", \"Topic3\", \"Topic3\", \"Topic3\", \"Topic3\", \"Topic3\", \"Topic3\", \"Topic3\", \"Topic3\", \"Topic3\", \"Topic3\", \"Topic3\", \"Topic3\", \"Topic3\", \"Topic3\", \"Topic3\", \"Topic3\", \"Topic3\", \"Topic3\", \"Topic3\", \"Topic3\", \"Topic3\", \"Topic3\", \"Topic4\", \"Topic4\", \"Topic4\", \"Topic4\", \"Topic4\", \"Topic4\", \"Topic4\", \"Topic4\", \"Topic4\", \"Topic4\", \"Topic4\", \"Topic4\", \"Topic4\", \"Topic4\", \"Topic4\", \"Topic4\", \"Topic4\", \"Topic4\", \"Topic4\", \"Topic4\", \"Topic4\", \"Topic4\", \"Topic4\", \"Topic4\", \"Topic4\", \"Topic4\", \"Topic4\", \"Topic4\", \"Topic4\", \"Topic4\", \"Topic4\", \"Topic4\", \"Topic4\", \"Topic4\", \"Topic4\", \"Topic4\", \"Topic4\", \"Topic4\", \"Topic4\", \"Topic4\", \"Topic4\", \"Topic4\", \"Topic4\", \"Topic4\", \"Topic4\", \"Topic4\", \"Topic4\", \"Topic4\", \"Topic4\", \"Topic4\", \"Topic4\", \"Topic4\", \"Topic4\", \"Topic4\", \"Topic4\", \"Topic4\", \"Topic4\", \"Topic4\", \"Topic4\", \"Topic4\", \"Topic4\", \"Topic4\", \"Topic4\", \"Topic4\", \"Topic4\", \"Topic4\", \"Topic4\", \"Topic4\", \"Topic4\", \"Topic4\", \"Topic4\", \"Topic4\", \"Topic4\", \"Topic4\", \"Topic5\", \"Topic5\", \"Topic5\", \"Topic5\", \"Topic5\", \"Topic5\", \"Topic5\", \"Topic5\", \"Topic5\", \"Topic5\", \"Topic5\", \"Topic5\", \"Topic5\", \"Topic5\", \"Topic5\", \"Topic5\", \"Topic5\", \"Topic5\", \"Topic5\", \"Topic5\", \"Topic5\", \"Topic5\", \"Topic5\", \"Topic5\", \"Topic5\", \"Topic5\", \"Topic5\", \"Topic5\", \"Topic5\", \"Topic5\", \"Topic5\", \"Topic5\", \"Topic5\", \"Topic5\", \"Topic5\", \"Topic5\", \"Topic5\", \"Topic5\", \"Topic5\", \"Topic5\", \"Topic5\", \"Topic5\", \"Topic5\", \"Topic5\", \"Topic5\", \"Topic5\", \"Topic5\", \"Topic5\", \"Topic5\", \"Topic5\", \"Topic5\", \"Topic5\", \"Topic5\", \"Topic5\", \"Topic5\", \"Topic5\", \"Topic5\", \"Topic5\", \"Topic5\", \"Topic5\", \"Topic5\", \"Topic5\", \"Topic5\", \"Topic5\", \"Topic5\", \"Topic5\", \"Topic5\", \"Topic5\", \"Topic5\", \"Topic5\", \"Topic5\", \"Topic5\", \"Topic5\", \"Topic5\", \"Topic5\", \"Topic5\", \"Topic5\", \"Topic5\", \"Topic5\", \"Topic5\", \"Topic5\", \"Topic5\"], \"logprob\": [30.0, 29.0, 28.0, 27.0, 26.0, 25.0, 24.0, 23.0, 22.0, 21.0, 20.0, 19.0, 18.0, 17.0, 16.0, 15.0, 14.0, 13.0, 12.0, 11.0, 10.0, 9.0, 8.0, 7.0, 6.0, 5.0, 4.0, 3.0, 2.0, 1.0, -8.50409984588623, -8.972399711608887, -6.793700218200684, -8.622400283813477, -8.663700103759766, -8.871600151062012, -8.981800079345703, -9.348199844360352, -9.400799751281738, -9.202400207519531, -8.80459976196289, -8.726400375366211, -8.847700119018555, -9.381799697875977, -8.53499984741211, -9.425200462341309, -8.018899917602539, -8.76550006866455, -8.768199920654297, -8.649100303649902, -8.428500175476074, -9.053600311279297, -9.036499977111816, -6.566100120544434, -7.771399974822998, -8.797499656677246, -9.217000007629395, -8.025300025939941, -8.515800476074219, -9.158100128173828, -7.103600025177002, -5.805300235748291, -4.996600151062012, -7.410699844360352, -7.063899993896484, -8.056900024414062, -8.169400215148926, -6.567999839782715, -6.6230998039245605, -7.103300094604492, -5.646100044250488, -6.1468000411987305, -5.427999973297119, -7.141300201416016, -4.648099899291992, -6.527599811553955, -5.509300231933594, -5.667099952697754, -7.076099872589111, -3.177500009536743, -7.024899959564209, -6.032299995422363, -6.741000175476074, -7.3867998123168945, -5.353000164031982, -5.4791998863220215, -3.1747000217437744, -6.382500171661377, -5.989099979400635, -3.7822000980377197, -4.625400066375732, -6.1230998039245605, -3.938800096511841, -4.427599906921387, -3.144399881362915, -3.4644999504089355, -3.5552000999450684, -5.489099979400635, -4.644800186157227, -4.969600200653076, -4.594699859619141, -4.042500019073486, -3.540600061416626, -3.7197999954223633, -4.99560022354126, -4.558800220489502, -4.539899826049805, -5.2133002281188965, -5.295100212097168, -4.587200164794922, -4.867700099945068, -5.0467000007629395, -5.065000057220459, -5.006899833679199, -4.8572001457214355, -5.112299919128418, -5.259399890899658, -5.264699935913086, -5.263800144195557, -7.447299957275391, -6.978899955749512, -6.0605998039245605, -4.773499965667725, -4.270100116729736, -7.05109977722168, -7.604000091552734, -6.61329984664917, -6.083199977874756, -8.42490005493164, -7.347599983215332, -9.020299911499023, -7.995999813079834, -7.702400207519531, -8.77869987487793, -9.159099578857422, -8.074899673461914, -9.160300254821777, -9.162799835205078, -8.69540023803711, -7.12470006942749, -9.177399635314941, -6.230500221252441, -9.343799591064453, -6.694499969482422, -6.593400001525879, -9.173399925231934, -9.261300086975098, -9.249899864196777, -6.064300060272217, -4.4552001953125, -6.700799942016602, -7.332499980926514, -6.103000164031982, -6.950500011444092, -7.9120001792907715, -4.771599769592285, -6.100299835205078, -7.075099945068359, -6.624599933624268, -4.831200122833252, -4.424099922180176, -4.648600101470947, -5.3180999755859375, -6.35860013961792, -4.43209981918335, -5.5295000076293945, -6.2515997886657715, -3.7427000999450684, -6.276400089263916, -3.0230000019073486, -3.4786999225616455, -4.588699817657471, -3.2648000717163086, -3.6493000984191895, -4.561800003051758, -3.1166999340057373, -4.436500072479248, -3.4233999252319336, -3.8610999584198, -4.648799896240234, -4.995500087738037, -4.192800045013428, -3.8538999557495117, -3.585900068283081, -4.552999973297119, -5.252999782562256, -4.219299793243408, -4.8821001052856445, -5.075300216674805, -5.114299774169922, -5.135900020599365, -7.774099826812744, -8.786800384521484, -8.214400291442871, -8.817700386047363, -8.554400444030762, -8.298600196838379, -8.875399589538574, -8.925999641418457, -8.595999717712402, -8.907899856567383, -8.858200073242188, -9.153499603271484, -8.417900085449219, -8.826000213623047, -6.814300060272217, -8.563199996948242, -9.262999534606934, -8.1766996383667, -9.186300277709961, -8.752900123596191, -8.415800094604492, -9.164799690246582, -9.271900177001953, -9.197500228881836, -7.708499908447266, -9.149399757385254, -6.413899898529053, -9.115599632263184, -8.808199882507324, -6.926700115203857, -7.923099994659424, -8.019200325012207, -7.329500198364258, -6.6757001876831055, -8.405400276184082, -6.301700115203857, -7.60230016708374, -7.197700023651123, -6.922599792480469, -7.246099948883057, -7.459400177001953, -5.867700099945068, -5.6691999435424805, -6.343299865722656, -7.307799816131592, -7.016900062561035, -4.732900142669678, -6.924499988555908, -6.723700046539307, -7.311500072479248, -6.623199939727783, -7.510200023651123, -7.440100193023682, -6.0335001945495605, -5.64870023727417, -4.084199905395508, -5.2891998291015625, -6.826499938964844, -3.1059000492095947, -2.861999988555908, -4.194499969482422, -6.266200065612793, -4.493000030517578, -4.867000102996826, -4.031099796295166, -6.234000205993652, -6.174799919128418, -3.4988999366760254, -4.414400100708008, -4.920599937438965, -3.7346999645233154, -3.5845999717712402, -4.805300235748291, -5.477399826049805, -4.667699813842773, -5.431300163269043, -4.649400234222412, -4.7778000831604, -5.924200057983398, -4.893099784851074, -4.4039998054504395, -4.452700138092041, -4.666100025177002, -5.082300186157227, -5.025700092315674, -4.409800052642822, -4.721199989318848, -5.159299850463867, -4.8769001960754395, -5.1707000732421875, -5.400700092315674, -5.396500110626221, -6.03249979019165, -8.358200073242188, -8.702500343322754, -7.863500118255615, -8.728799819946289, -8.203800201416016, -9.041299819946289, -8.490500450134277, -6.830399990081787, -8.49779987335205, -7.515200138092041, -8.280400276184082, -6.942699909210205, -7.389400005340576, -9.10200023651123, -9.048500061035156, -6.157299995422363, -4.1743998527526855, -8.854599952697754, -6.526000022888184, -8.72719955444336, -9.176799774169922, -8.331199645996094, -8.79419994354248, -5.557700157165527, -5.986700057983398, -9.144800186157227, -5.1656999588012695, -6.532199859619141, -7.60890007019043, -6.157800197601318, -6.826700210571289, -3.0576999187469482, -4.194200038909912, -4.971700191497803, -5.879700183868408, -7.158199787139893, -4.915599822998047, -3.711699962615967, -5.055799961090088, -3.5492000579833984, -4.42519998550415, -6.206999778747559, -3.633500099182129, -5.372000217437744, -3.7878000736236572, -5.438399791717529, -5.830900192260742, -5.483699798583984, -6.38070011138916, -4.117499828338623, -3.739799976348877, -4.473999977111816, -3.6110000610351562, -5.269599914550781, -5.228099822998047, -4.939300060272217, -3.6328001022338867, -3.611999988555908, -4.434299945831299, -3.722100019454956, -3.8255999088287354, -5.092299938201904, -3.7202000617980957, -4.412399768829346, -4.711299896240234, -4.108399868011475, -5.002799987792969, -4.999199867248535, -5.110400199890137, -4.899899959564209, -4.938000202178955, -5.0157999992370605, -5.047500133514404, -7.270400047302246, -6.290500164031982, -8.439000129699707, -8.419300079345703, -5.813399791717529, -8.124600410461426, -7.891900062561035, -6.95389986038208, -8.556699752807617, -8.094300270080566, -8.741900444030762, -8.5693998336792, -8.271900177001953, -7.637800216674805, -8.562100410461426, -5.896100044250488, -7.901100158691406, -8.494199752807617, -8.284600257873535, -7.996600151062012, -7.520400047302246, -8.342000007629395, -6.375800132751465, -8.769200325012207, -8.609600067138672, -6.662799835205078, -7.801000118255615, -6.137899875640869, -7.519800186157227, -8.57349967956543, -5.471099853515625, -5.731200218200684, -4.436100006103516, -6.8927998542785645, -6.017399787902832, -5.666399955749512, -6.528500080108643, -6.7932000160217285, -7.033699989318848, -6.831600189208984, -3.428800106048584, -4.4293999671936035, -7.017300128936768, -4.1992998123168945, -4.059999942779541, -6.045499801635742, -6.060800075531006, -2.7284998893737793, -5.331500053405762, -5.344799995422363, -6.083799839019775, -3.773400068283081, -6.299499988555908, -5.002999782562256, -4.2743000984191895, -5.251999855041504, -5.230800151824951, -5.236000061035156, -5.143700122833252, -3.8989999294281006, -4.821199893951416, -3.68530011177063, -4.219099998474121, -5.053500175476074, -3.764400005340576, -3.6933000087738037, -4.4471001625061035, -4.526299953460693, -4.1168999671936035, -4.6331000328063965, -5.133600234985352, -5.093900203704834, -4.51140022277832, -4.4440999031066895, -5.021999835968018, -5.079500198364258, -4.6219000816345215, -4.893799781799316, -4.989299774169922, -4.995999813079834, -5.005099773406982, -5.045499801635742], \"loglift\": [30.0, 29.0, 28.0, 27.0, 26.0, 25.0, 24.0, 23.0, 22.0, 21.0, 20.0, 19.0, 18.0, 17.0, 16.0, 15.0, 14.0, 13.0, 12.0, 11.0, 10.0, 9.0, 8.0, 7.0, 6.0, 5.0, 4.0, 3.0, 2.0, 1.0, 1.31850004196167, 1.3069000244140625, 1.304800033569336, 1.3007999658584595, 1.2975000143051147, 1.2925000190734863, 1.2913000583648682, 1.2890000343322754, 1.2884999513626099, 1.2870999574661255, 1.2831000089645386, 1.2795000076293945, 1.2759000062942505, 1.2741999626159668, 1.2657999992370605, 1.2652000188827515, 1.2621999979019165, 1.2608000040054321, 1.2592999935150146, 1.2584999799728394, 1.2553999423980713, 1.253999948501587, 1.2508000135421753, 1.246500015258789, 1.2390999794006348, 1.2380000352859497, 1.2325999736785889, 1.2324999570846558, 1.2309999465942383, 1.2235000133514404, 1.2203999757766724, 1.1496000289916992, 1.1195000410079956, 1.1937999725341797, 1.162600040435791, 1.2066999673843384, 1.2108999490737915, 1.1124000549316406, 1.1136000156402588, 1.1330000162124634, 1.0175000429153442, 1.0561000108718872, 0.993399977684021, 1.1103999614715576, 0.8452000021934509, 1.0460000038146973, 0.9129999876022339, 0.9264000058174133, 1.0786999464035034, 0.5694000124931335, 1.05649995803833, 0.9021999835968018, 0.9983999729156494, 1.0963000059127808, 0.7423999905586243, 0.7602999806404114, 0.3513000011444092, 0.9122999906539917, 0.8210999965667725, 0.33660000562667847, 0.49559998512268066, 0.8402000069618225, 0.28290000557899475, 0.399399995803833, 0.04259999841451645, 0.12219999730587006, 0.13040000200271606, 0.6674000024795532, 0.41609999537467957, 0.4984000027179718, 0.3671000003814697, 0.11869999766349792, -0.08299999684095383, -0.03880000114440918, 0.460099995136261, 0.2597000002861023, 0.13689999282360077, 0.43149998784065247, 0.4596000015735626, -0.1648000031709671, -0.10599999874830246, 0.041099999099969864, -0.05660000070929527, -0.19259999692440033, -0.5403000116348267, -0.04390000179409981, 0.25589999556541443, 0.055799998342990875, 1.4296000003814697, 1.4280999898910522, 1.42739999294281, 1.4259999990463257, 1.4257999658584595, 1.4246000051498413, 1.4227999448776245, 1.4180999994277954, 1.409000039100647, 1.407099962234497, 1.406999945640564, 1.4063999652862549, 1.4017000198364258, 1.3997000455856323, 1.3990000486373901, 1.3961999416351318, 1.3925000429153442, 1.3919999599456787, 1.3911999464035034, 1.388800024986267, 1.3885999917984009, 1.3831000328063965, 1.3828999996185303, 1.3795000314712524, 1.3788000345230103, 1.3788000345230103, 1.3768999576568604, 1.3763999938964844, 1.3746999502182007, 1.3739999532699585, 1.3624000549316406, 1.3450000286102295, 1.3605999946594238, 1.364400029182434, 1.3461999893188477, 1.3586000204086304, 1.3658000230789185, 1.2798999547958374, 1.3183000087738037, 1.3454999923706055, 1.3265000581741333, 1.2466000318527222, 1.226199984550476, 1.205199956893921, 1.229099988937378, 1.2898000478744507, 1.0925999879837036, 1.170199990272522, 1.2510000467300415, 0.9341999888420105, 1.2452000379562378, 0.6578999757766724, 0.6825000047683716, 0.8306000232696533, 0.4821000099182129, 0.5723999738693237, 0.7587000131607056, 0.3409000039100647, 0.651199996471405, 0.16339999437332153, 0.25769999623298645, 0.5902000069618225, 0.6934000253677368, 0.1242000013589859, -0.16840000450611115, -0.39890000224113464, 0.2087000012397766, 0.7422999739646912, -0.6934000253677368, -0.4596000015735626, -0.24819999933242798, -0.10589999705553055, -0.36480000615119934, 1.5360000133514404, 1.5347000360488892, 1.5312000513076782, 1.5236999988555908, 1.5233999490737915, 1.5219000577926636, 1.5187000036239624, 1.5160000324249268, 1.5140999555587769, 1.5116000175476074, 1.5104999542236328, 1.5087000131607056, 1.5046000480651855, 1.503000020980835, 1.4960999488830566, 1.4946999549865723, 1.4931999444961548, 1.492400050163269, 1.4912999868392944, 1.488700032234192, 1.4872000217437744, 1.4829000234603882, 1.4824999570846558, 1.4809000492095947, 1.4779000282287598, 1.4746999740600586, 1.472499966621399, 1.4714000225067139, 1.470900058746338, 1.4708000421524048, 1.4697999954223633, 1.4641000032424927, 1.4560999870300293, 1.429800033569336, 1.4617999792099, 1.3805999755859375, 1.4297000169754028, 1.407099962234497, 1.3861000537872314, 1.386299967765808, 1.3983999490737915, 1.2479000091552734, 1.2137999534606934, 1.2723000049591064, 1.365399956703186, 1.3236000537872314, 1.0607999563217163, 1.3118000030517578, 1.2742999792099, 1.3494000434875488, 1.2444000244140625, 1.360700011253357, 1.3483999967575073, 1.1015000343322754, 1.0147000551223755, 0.6984000205993652, 0.9193999767303467, 1.2299000024795532, 0.42010000348091125, 0.32499998807907104, 0.619700014591217, 1.0807000398635864, 0.5753999948501587, 0.6482999920845032, 0.3912999927997589, 1.0491000413894653, 1.0144000053405762, 0.08789999783039093, 0.4041999876499176, 0.4799000024795532, -0.04910000041127205, -0.12700000405311584, 0.3158000111579895, 0.6301000118255615, 0.15929999947547913, 0.5863000154495239, 0.11230000108480453, 0.18400000035762787, 0.8479999899864197, 0.1151999980211258, -0.2851000130176544, -0.2915000021457672, -0.18119999766349792, 0.15639999508857727, 0.008500000461935997, -0.6628999710083008, -0.49950000643730164, -0.1378999948501587, -1.1958999633789062, -0.3370000123977661, 0.3138999938964844, 0.18709999322891235, 1.6212999820709229, 1.610700011253357, 1.6098999977111816, 1.6026999950408936, 1.601099967956543, 1.5992000102996826, 1.591599941253662, 1.5765000581741333, 1.5740000009536743, 1.5688999891281128, 1.5605000257492065, 1.5520999431610107, 1.544600009918213, 1.5424000024795532, 1.534600019454956, 1.531999945640564, 1.530900001525879, 1.5282000303268433, 1.524999976158142, 1.5247999429702759, 1.5247999429702759, 1.5214999914169312, 1.5052000284194946, 1.5019999742507935, 1.4993000030517578, 1.4979000091552734, 1.4943000078201294, 1.4881000518798828, 1.4871000051498413, 1.4816999435424805, 1.4744999408721924, 1.476699948310852, 1.4270999431610107, 1.4463000297546387, 1.448199987411499, 1.440999984741211, 1.4799000024795532, 1.3969000577926636, 1.3224999904632568, 1.373900055885315, 1.284500002861023, 1.2747000455856323, 1.3940000534057617, 1.1375999450683594, 1.2862999439239502, 1.1101000308990479, 1.2425999641418457, 1.2683000564575195, 1.2023999691009521, 1.3454999923706055, 0.9039999842643738, 0.781499981880188, 0.9265000224113464, 0.7059999704360962, 0.9672999978065491, 0.9068999886512756, 0.7752000093460083, 0.052799999713897705, -0.15440000593662262, 0.3481999933719635, -0.19609999656677246, -0.14470000565052032, 0.7861999869346619, -0.5331000089645386, 0.009999999776482582, 0.296999990940094, -0.5216000080108643, 0.6039999723434448, 0.5289999842643738, 0.7105000019073486, -0.08569999784231186, 0.02370000071823597, 0.2231999933719635, 0.020899999886751175, 2.161400079727173, 2.1610000133514404, 2.153599977493286, 2.14520001411438, 2.1085000038146973, 2.088599920272827, 2.0713000297546387, 2.0666000843048096, 2.0652999877929688, 2.051300048828125, 2.0202999114990234, 2.0139000415802, 2.007200002670288, 2.005000114440918, 1.999400019645691, 1.9635000228881836, 1.9535000324249268, 1.9465999603271484, 1.9254000186920166, 1.9250999689102173, 1.9229999780654907, 1.8914999961853027, 1.881500005722046, 1.881100058555603, 1.8783999681472778, 1.875599980354309, 1.875100016593933, 1.8702000379562378, 1.8509999513626099, 1.8464000225067139, 1.833899974822998, 1.7656999826431274, 1.7037999629974365, 1.7551000118255615, 1.6586999893188477, 1.6136000156402588, 1.7067999839782715, 1.732300043106079, 1.748900055885315, 1.7096999883651733, 1.0925999879837036, 1.2294000387191772, 1.7178000211715698, 1.0393999814987183, 1.0008000135421753, 1.4891999959945679, 1.466599941253662, 0.4586000144481659, 1.2167999744415283, 1.1914000511169434, 1.3986999988555908, 0.5435000061988831, 1.4667999744415283, 0.9474999904632568, 0.6237000226974487, 1.0300999879837036, 1.006100058555603, 0.9502000212669373, 0.9020000100135803, 0.2198999971151352, 0.707099974155426, 0.00019999999494757503, 0.20329999923706055, 0.7695000171661377, -0.1776999980211258, -0.23569999635219574, 0.31459999084472656, 0.2879999876022339, -0.4359000027179718, 0.1378999948501587, 0.784500002861023, 0.7103000283241272, -0.2897000014781952, -0.9182000160217285, 0.43369999527931213, 0.5273000001907349, -0.875, -0.21690000593662262, 0.03220000118017197, -0.03420000150799751, -0.17800000309944153, -0.2630000114440918]}, \"token.table\": {\"Topic\": [3, 1, 3, 5, 1, 3, 1, 3, 1, 2, 3, 4, 5, 1, 2, 3, 4, 5, 1, 3, 4, 5, 2, 3, 5, 3, 4, 5, 1, 2, 3, 4, 5, 1, 2, 3, 4, 5, 1, 2, 3, 4, 5, 2, 4, 5, 1, 2, 3, 4, 5, 1, 2, 3, 4, 5, 1, 3, 4, 5, 1, 2, 3, 4, 5, 1, 2, 3, 4, 5, 1, 3, 4, 5, 1, 2, 3, 4, 5, 1, 2, 3, 4, 5, 1, 2, 3, 4, 5, 1, 2, 3, 5, 1, 2, 3, 5, 1, 2, 3, 4, 5, 1, 2, 3, 4, 5, 1, 2, 3, 4, 5, 2, 1, 2, 3, 4, 5, 1, 2, 3, 4, 5, 1, 3, 2, 3, 5, 1, 3, 4, 1, 5, 1, 2, 3, 4, 5, 1, 2, 3, 4, 5, 3, 4, 4, 5, 1, 2, 3, 4, 5, 1, 2, 3, 4, 5, 1, 2, 3, 4, 5, 1, 2, 3, 4, 5, 1, 2, 3, 4, 5, 1, 2, 3, 4, 5, 1, 2, 3, 4, 5, 1, 2, 3, 4, 5, 1, 3, 5, 1, 2, 3, 4, 5, 1, 2, 3, 4, 5, 1, 2, 3, 4, 5, 1, 2, 3, 5, 3, 4, 5, 1, 2, 3, 4, 5, 1, 2, 3, 4, 5, 1, 2, 3, 4, 5, 2, 3, 4, 5, 1, 2, 3, 4, 5, 1, 2, 3, 4, 5, 4, 3, 4, 1, 2, 3, 4, 5, 1, 2, 3, 5, 1, 2, 3, 4, 5, 1, 2, 3, 4, 5, 1, 2, 3, 4, 5, 1, 2, 3, 4, 5, 1, 2, 3, 4, 5, 1, 5, 1, 2, 3, 5, 1, 3, 1, 2, 3, 4, 5, 1, 3, 4, 5, 3, 1, 2, 3, 4, 5, 1, 3, 3, 5, 1, 3, 4, 5, 1, 2, 3, 4, 5, 1, 2, 3, 4, 5, 1, 2, 3, 4, 5, 1, 2, 3, 4, 5, 1, 3, 4, 3, 4, 5, 1, 2, 3, 4, 5, 1, 2, 3, 4, 5, 2, 1, 3, 1, 2, 3, 4, 5, 1, 2, 3, 4, 5, 1, 2, 3, 5, 3, 4, 3, 5, 1, 2, 3, 4, 5, 3, 4, 5, 1, 2, 3, 4, 5, 1, 2, 3, 4, 5, 1, 2, 3, 5, 1, 2, 5, 1, 2, 3, 5, 1, 2, 3, 4, 5, 2, 1, 2, 5, 1, 2, 4, 5, 1, 2, 3, 4, 5, 1, 2, 3, 4, 5, 1, 2, 3, 4, 5, 1, 2, 3, 4, 5, 1, 3, 4, 1, 1, 2, 3, 4, 5, 5, 1, 2, 3, 4, 5, 1, 2, 3, 4, 5, 3, 4, 2, 3, 4, 5, 1, 3, 5, 1, 2, 3, 4, 5, 1, 4, 5, 1, 2, 3, 4, 5, 1, 2, 3, 4, 5, 1, 2, 3, 4, 5, 1, 2, 3, 5, 1, 2, 3, 4, 5, 1, 3, 1, 2, 3, 4, 5, 1, 2, 3, 4, 5, 1, 2, 3, 4, 5, 2, 2, 4, 1, 2, 3, 5, 1, 2, 1, 2, 3, 4, 5, 1, 2, 3, 4, 5, 4, 5, 1, 2, 3, 4, 5, 1, 2, 3, 4, 5, 1, 2, 3, 4, 5, 1, 2, 3, 4, 5, 1, 2, 3, 5, 1, 2, 3, 4, 5, 1, 2, 3, 4, 5, 1, 2, 3, 4, 5, 1, 2, 3, 4, 5, 2, 5, 3, 4, 5, 1, 2, 3, 4, 5, 1, 2, 3, 4, 5, 1, 2, 3, 4, 5, 1, 2, 3, 4, 5, 1, 2, 3, 4, 5, 1, 2, 3, 4, 5, 1, 2, 3, 4, 5, 1, 2, 3, 4, 5, 1, 2, 3, 4, 5, 1, 3, 4, 5, 1, 2, 3, 4, 5, 2, 3, 1, 2, 3, 4, 5, 1, 2, 3, 4, 5, 1, 3, 1, 2, 3, 4, 5, 1, 2, 3, 4, 5, 1, 2, 3, 4, 5, 1, 2, 3, 3, 4, 5, 3, 4, 3, 4, 5, 1, 2, 3, 4, 5, 1, 3, 4, 5, 1, 2, 3, 4, 5, 1, 2, 3, 4, 5, 3, 4, 5, 1, 2, 3, 4, 5, 1, 2, 3, 4, 5, 1, 2, 3, 4, 5, 1, 3, 4, 5, 1, 2, 3, 4, 5, 3, 1, 1, 2, 3, 4, 5, 1, 2, 3, 5, 1, 2, 3, 4, 5, 1, 2, 1, 2, 3, 4, 5, 1, 2, 3, 4, 5, 1, 2, 3, 4, 5, 1, 3, 4, 5, 3, 4, 5, 1, 2, 3, 5, 3, 4, 5, 1, 3, 1, 2, 5, 1, 2, 3, 4, 5, 1, 2, 3, 4, 5, 1, 3, 1, 2, 3, 4, 1, 2, 3, 4, 5, 1, 2, 3, 4, 5, 2, 4, 1, 2, 3, 4, 5, 1, 2, 3, 4, 5, 1, 2, 3, 4, 5, 1, 2, 3, 4, 5, 1, 2, 3, 4, 5, 1, 2, 3, 4, 5, 3, 5, 3, 4, 5, 3, 4, 5, 1, 2, 3, 4, 5, 1, 2, 3, 4, 5, 1, 2, 3, 4, 5, 1, 2, 3, 4, 5, 1, 3, 1, 2, 3, 5, 1, 3, 1, 2, 3, 5, 1, 2, 3, 5, 2, 3, 4, 5, 3, 1, 2, 3, 4, 5, 1, 2, 3, 4, 5, 1, 2, 3, 4, 5, 1, 2, 3, 4, 5, 2, 5, 1, 2, 3, 4, 1, 2, 3, 4, 5, 3, 4, 5, 1, 3, 4, 5, 1, 2, 3, 4, 5, 1, 2, 3, 4, 5, 1, 2, 3, 4, 5, 2, 4, 5, 3, 1, 2, 3, 4, 5, 1, 3, 1, 1, 2, 3, 4, 5, 3, 1, 2, 3, 4, 5, 1, 2, 3, 4, 5, 1, 3, 2, 3, 4, 1, 2, 3, 5, 1, 2, 3, 5, 1, 2, 1, 2, 3, 4, 5, 3, 4, 5, 2, 1, 2, 5, 1, 2, 3, 4, 5, 1, 3, 4, 5, 1, 2, 1, 2, 3, 4, 5, 1, 2, 3, 4, 5, 4, 5, 1, 2, 3, 4, 5, 1, 2, 5, 3, 4, 5, 1, 2, 3, 4, 5, 1, 2, 3, 4, 5, 1, 3, 1, 5, 1, 3, 5, 3, 4, 5, 1, 3, 5, 1, 3, 5, 1, 2, 3, 4, 5, 1, 2, 3, 5, 2, 2, 1, 3, 4, 5, 1, 2, 3, 5, 1, 2, 3, 4, 5, 1, 2, 3, 4, 5, 1, 2, 3, 4, 5, 1, 2, 3, 4, 5, 1, 2, 3, 4, 5, 1, 2, 3, 4, 5, 1, 2, 3, 4, 5, 1, 2, 3, 4, 5, 1, 1, 2, 3, 4, 5, 1, 2, 3, 5, 1, 2, 3, 4, 5, 1, 3, 5, 3, 5, 1, 2, 3, 4, 5, 1, 3, 5, 1, 2, 3, 4, 5, 1, 1, 2, 3, 4, 5, 1, 2, 3, 4, 5, 1, 2, 3, 5, 1, 3, 1, 2, 3, 4, 5, 3, 1, 2, 3, 4, 5, 1, 2, 3, 4, 5, 1, 2, 3, 4, 5, 1, 2, 3, 4, 5, 1, 2, 3, 4, 5, 1, 2, 3, 4, 5, 1, 2, 3, 4, 5, 1, 2, 3, 4, 5, 1, 2, 3, 4, 5, 1, 2, 3, 4, 5, 1, 2, 3, 4, 5, 1, 5, 1, 2, 3, 4, 5, 1, 2, 3, 4, 5, 1, 2, 5, 2, 3, 4, 1, 2, 3, 4, 5, 1, 2, 3, 4, 5, 1, 2, 3, 4, 5, 1, 2, 3, 4, 5, 1, 2, 3, 4, 5, 1, 2, 5], \"Freq\": [0.9723185300827026, 0.03506719321012497, 0.9468141794204712, 0.03506719321012497, 0.04365282878279686, 0.9167094230651855, 0.947950005531311, 0.03159833326935768, 0.2954355776309967, 0.1986059546470642, 0.19724135100841522, 0.1983785182237625, 0.11036191135644913, 0.0043106358498334885, 0.0021553179249167442, 0.1896679848432541, 0.7953123450279236, 0.010776589624583721, 0.005705138668417931, 0.21394269168376923, 0.7587834596633911, 0.019967984408140182, 0.1535266935825348, 0.10235113650560379, 0.7164579629898071, 0.9499404430389404, 0.024357447400689125, 0.024357447400689125, 0.20452161133289337, 0.0639999583363533, 0.6970430612564087, 0.012521731667220592, 0.02226085588335991, 0.023995142430067062, 0.02170989103615284, 0.23423829674720764, 0.6261589527130127, 0.09483794867992401, 0.049726251512765884, 0.9176753759384155, 0.0180822741240263, 0.004520568531006575, 0.00904113706201315, 0.9687724113464355, 0.011814297176897526, 0.011814297176897526, 0.10756315290927887, 0.08366023004055023, 0.7768449783325195, 0.01792719215154648, 0.01792719215154648, 0.36283203959465027, 0.02767363004386425, 0.02767363004386425, 0.0030748476274311543, 0.5780713558197021, 0.004473173059523106, 0.1163024976849556, 0.863322377204895, 0.013419519178569317, 0.24395766854286194, 0.23219610750675201, 0.24964874982833862, 0.19197914004325867, 0.0819515660405159, 0.16311295330524445, 0.13355377316474915, 0.24238531291484833, 0.14913952350616455, 0.31198376417160034, 0.0032329929526895285, 0.24894045293331146, 0.7241904139518738, 0.022630950435996056, 0.23864690959453583, 0.33044809103012085, 0.18247072398662567, 0.1612405627965927, 0.08713871240615845, 0.41392940282821655, 0.07403615117073059, 0.030287517234683037, 0.0033652796410024166, 0.4778696894645691, 0.11901149898767471, 0.04119628667831421, 0.18309460580348969, 0.3478797674179077, 0.30897215008735657, 0.17046603560447693, 0.03849232941865921, 0.06598684936761856, 0.7258553504943848, 0.017068907618522644, 0.9217210412025452, 0.04267226904630661, 0.025603361427783966, 0.38654622435569763, 0.49363383650779724, 0.01088055968284607, 0.0005726610543206334, 0.10823293775320053, 0.10704831033945084, 0.13386444747447968, 0.18057644367218018, 0.464741051197052, 0.11396860331296921, 0.103868268430233, 0.09914698451757431, 0.0569177120923996, 0.4111452102661133, 0.32891619205474854, 0.9494236707687378, 0.2271578311920166, 0.05669238045811653, 0.18483269214630127, 0.34442561864852905, 0.18677420914173126, 0.3279891610145569, 0.018682926893234253, 0.591625988483429, 0.051897019147872925, 0.010379403829574585, 0.9160358905792236, 0.06870269030332565, 0.0871441662311554, 0.14524027705192566, 0.7552494406700134, 0.8621695041656494, 0.0676211342215538, 0.0507158525288105, 0.11015647649765015, 0.8261736035346985, 0.002528968034312129, 0.0008851388120092452, 0.1728549599647522, 0.7841065526008606, 0.03957834839820862, 0.07695901393890381, 0.030302610248327255, 0.3116839826107025, 0.3828710913658142, 0.19865044951438904, 0.030453093349933624, 0.944045901298523, 0.9174599051475525, 0.043688565492630005, 0.07213858515024185, 0.036069292575120926, 0.014852061867713928, 0.1867116391658783, 0.6895599961280823, 0.20797084271907806, 0.05088648200035095, 0.6106377840042114, 0.08628576993942261, 0.046461571007966995, 0.30084070563316345, 0.04921587556600571, 0.15943171083927155, 0.20518168807029724, 0.2855907082557678, 0.8317505121231079, 0.042653873562812805, 0.037322137504816055, 0.042653873562812805, 0.04798560589551926, 0.9023849964141846, 0.017624707892537117, 0.05992400273680687, 0.010574824176728725, 0.010574824176728725, 0.16801387071609497, 0.021914852783083916, 0.1972336620092392, 0.00730495061725378, 0.6063109040260315, 0.7875292897224426, 0.10191555321216583, 0.09265050292015076, 0.006176700349897146, 0.012353400699794292, 0.5548786520957947, 0.4189004600048065, 0.012428111396729946, 0.0007310654036700726, 0.013890242204070091, 0.06731746345758438, 0.06731746345758438, 0.8078095316886902, 0.21922524273395538, 0.5392103791236877, 0.14808166027069092, 0.05215049907565117, 0.04088341444730759, 0.0047182850539684296, 0.0007863808423280716, 0.09987036883831024, 0.7604302763938904, 0.13368475437164307, 0.0034106147941201925, 0.0011368716368451715, 0.04320112243294716, 0.6514274477958679, 0.3001340925693512, 0.9183853268623352, 0.030612844973802567, 0.015306422486901283, 0.015306422486901283, 0.19377461075782776, 0.03875492513179779, 0.775098443031311, 0.37443166971206665, 0.07741241902112961, 0.2489420473575592, 0.19271618127822876, 0.10654393583536148, 0.06400783360004425, 0.10120157152414322, 0.28371039032936096, 0.4086986482143402, 0.14272016286849976, 0.011932135559618473, 0.011932135559618473, 0.8710458874702454, 0.011932135559618473, 0.09545708447694778, 0.02850966528058052, 0.9123092889785767, 0.02850966528058052, 0.02850966528058052, 0.42685455083847046, 0.2781482934951782, 0.0496814101934433, 0.10950188338756561, 0.13586343824863434, 0.26656752824783325, 0.08656066656112671, 0.09147889167070389, 0.19279421865940094, 0.3629646301269531, 0.944533109664917, 0.06716295331716537, 0.9066998362541199, 0.05442386120557785, 0.07900238037109375, 0.7215550541877747, 0.0298453439027071, 0.1158701553940773, 0.030358178541064262, 0.03415295109152794, 0.9031558036804199, 0.030358178541064262, 0.14162595570087433, 0.04317864403128624, 0.060450103133916855, 0.6684054136276245, 0.08808443695306778, 0.03431079909205437, 0.9018839001655579, 0.012253857217729092, 0.004901542793959379, 0.04656465724110603, 0.055333301424980164, 0.8168249726295471, 0.02634919248521328, 0.031619030982255936, 0.06850790232419968, 0.1007755696773529, 0.757554292678833, 0.06023367494344711, 0.07297541201114655, 0.009266719222068787, 0.8724179863929749, 0.09025013446807861, 0.03008337877690792, 0.8981344103813171, 0.05613340064883232, 0.24077913165092468, 0.7223373651504517, 0.03027825988829136, 0.03027825988829136, 0.06055651977658272, 0.8780695199966431, 0.05649877339601517, 0.9039803743362427, 0.04303641617298126, 0.08607283234596252, 0.016138656064867973, 0.24207983911037445, 0.6078893542289734, 0.8789017200469971, 0.03255191445350647, 0.03255191445350647, 0.03255191445350647, 0.9285654425621033, 0.006920524872839451, 0.006920524872839451, 0.08996682614088058, 0.8789066672325134, 0.020761573687195778, 0.06190641224384308, 0.9285961985588074, 0.23805850744247437, 0.7141755223274231, 0.009352779015898705, 0.7949862480163574, 0.08417501300573349, 0.1028805747628212, 0.012661407701671124, 0.9818346500396729, 0.0023020741064101458, 0.0011510370532050729, 0.0011510370532050729, 0.06497560441493988, 0.015470380894839764, 0.8230242729187012, 0.08354005962610245, 0.012376304715871811, 0.005798966623842716, 0.005798966623842716, 0.9278346300125122, 0.05798966437578201, 0.005798966623842716, 0.14780326187610626, 0.006667816545814276, 0.04667471721768379, 0.6812285780906677, 0.11890939623117447, 0.029070314019918442, 0.9302500486373901, 0.029070314019918442, 0.07556440681219101, 0.8851830363273621, 0.03238474577665329, 0.013355370610952377, 0.006677685305476189, 0.013355370610952377, 0.013355370610952377, 0.9549090266227722, 0.24881622195243835, 0.028640715405344963, 0.6229355335235596, 0.09308232367038727, 0.007160178851336241, 0.9352493286132812, 0.9226060509681702, 0.05125588923692703, 0.7172640562057495, 0.07820636034011841, 0.07820636034011841, 0.050275515764951706, 0.07597189396619797, 0.2324419915676117, 0.040825504809617996, 0.17120373249053955, 0.46620094776153564, 0.08955272287130356, 0.01779847778379917, 0.01779847778379917, 0.01779847778379917, 0.9611178636550903, 0.8794601559638977, 0.058630675077438354, 0.11702241748571396, 0.8776681423187256, 0.07477489858865738, 0.8524338603019714, 0.023927967995405197, 0.026918964460492134, 0.02093697153031826, 0.08082927018404007, 0.848707377910614, 0.040414635092020035, 0.0049674310721457005, 0.0016558103961870074, 0.11921834200620651, 0.8428074717521667, 0.03146039694547653, 0.2282208353281021, 0.7007595896720886, 0.017527932301163673, 0.008942822925746441, 0.04471411556005478, 0.05111640319228172, 0.007864061743021011, 0.031456246972084045, 0.9082991480827332, 0.16297245025634766, 0.02716207318007946, 0.7877001166343689, 0.030428826808929443, 0.9606815576553345, 0.00434697512537241, 0.00434697512537241, 0.006225220393389463, 0.0031126101966947317, 0.09026569128036499, 0.8684182167053223, 0.031126100569963455, 0.9269483089447021, 0.09063877910375595, 0.8999136090278625, 0.006474198307842016, 0.027108466252684593, 0.9578324556350708, 0.009036155417561531, 0.009036155417561531, 0.7643002867698669, 0.06948184221982956, 0.03970390930771828, 0.00992597732692957, 0.12407471984624863, 0.6015505194664001, 0.18996331095695496, 0.04975229874253273, 0.10101223737001419, 0.0587981715798378, 0.15636911988258362, 0.005300648044794798, 0.026503240689635277, 0.33129051327705383, 0.4770583212375641, 0.855978786945343, 0.08559788018465042, 0.046689752489328384, 0.007781625259667635, 0.007781625259667635, 0.026252305135130882, 0.9450830221176147, 0.026252305135130882, 0.9080578088760376, 0.15495404601097107, 0.08314607292413712, 0.5706844329833984, 0.13794688880443573, 0.051021452993154526, 0.96585613489151, 0.4105675220489502, 0.34439054131507874, 0.1886269748210907, 0.0013505511451512575, 0.05492241308093071, 0.7788164615631104, 0.0964905396103859, 0.05513744801282883, 0.006892181001603603, 0.06892181187868118, 0.0593695305287838, 0.8905429840087891, 0.008048063144087791, 0.1529131978750229, 0.8289505243301392, 0.008048063144087791, 0.9266541600227356, 0.05148078501224518, 0.02574039250612259, 0.24948158860206604, 0.45374181866645813, 0.06265338510274887, 0.1628308743238449, 0.0713127925992012, 0.009298226796090603, 0.35333260893821716, 0.6322794556617737, 0.9570419788360596, 0.01876552775502205, 0.009382763877511024, 0.009382763877511024, 0.009382763877511024, 0.0345383882522583, 0.9325364828109741, 0.01726919412612915, 0.005756398197263479, 0.011512796394526958, 0.15858276188373566, 0.8171676397323608, 0.00621893210336566, 0.001243786420673132, 0.016169222071766853, 0.12802866101264954, 0.04000895842909813, 0.8321862816810608, 0.008001791313290596, 0.14917884767055511, 0.8035767674446106, 0.0069616795517504215, 0.0029835770837962627, 0.03779197484254837, 0.9599881768226624, 0.029090551659464836, 0.07340344041585922, 0.16313745081424713, 0.049833524972200394, 0.5870591402053833, 0.1266040951013565, 0.6447539925575256, 0.1071089655160904, 0.010500879026949406, 0.0021001759450882673, 0.23521970212459564, 0.00682915560901165, 0.9765692949295044, 0.00682915560901165, 0.0136583112180233, 0.00682915560901165, 0.9580813050270081, 0.915414571762085, 0.061027634888887405, 0.015266260132193565, 0.9770406484603882, 0.005088753532618284, 0.002544376766309142, 0.034168750047683716, 0.956725001335144, 0.011582201346755028, 0.914993941783905, 0.005791100673377514, 0.06370210647583008, 0.005791100673377514, 0.1510566622018814, 0.2660863697528839, 0.011652637273073196, 0.38122299313545227, 0.18997006118297577, 0.2390175610780716, 0.717052698135376, 0.18910418450832367, 0.11467952281236649, 0.5986738801002502, 0.04774412512779236, 0.05008452385663986, 0.37471213936805725, 0.46997079253196716, 0.09441565722227097, 0.00885146763175726, 0.05226581171154976, 0.21392962336540222, 0.08121239393949509, 0.3849678635597229, 0.1727960705757141, 0.14713154733181, 0.544989824295044, 0.44814497232437134, 0.004430811852216721, 0.0012659461935982108, 0.0012659461935982108, 0.016151083633303642, 0.9774917364120483, 0.002106663305312395, 0.0035111054312437773, 0.8192570805549622, 0.15248946845531464, 0.02242492139339447, 0.002989989472553134, 0.002989989472553134, 0.368476927280426, 0.11749383062124252, 0.3153526484966278, 0.15467111766338348, 0.04406018555164337, 0.31807464361190796, 0.05778356269001961, 0.23166437447071075, 0.15108546614646912, 0.2417367398738861, 0.1570102870464325, 0.07509928196668625, 0.4165370762348175, 0.2665087878704071, 0.08480599522590637, 0.9253968596458435, 0.05443510785698891, 0.9351658821105957, 0.06679756194353104, 0.9391781091690063, 0.5898815393447876, 0.21344397962093353, 0.021991197019815445, 0.0025871996767818928, 0.17334237694740295, 0.36314353346824646, 0.304125040769577, 0.1557457000017166, 0.039550285786390305, 0.1374175101518631, 0.0861576497554779, 0.03769397363066673, 0.7700340151786804, 0.005384853109717369, 0.10231220722198486, 0.1361539661884308, 0.12013585865497589, 0.23760202527046204, 0.016018114984035492, 0.4885524809360504, 0.458313524723053, 0.3805676996707916, 0.10676450282335281, 0.008403321728110313, 0.04600667580962181, 0.07347690314054489, 0.33191290497779846, 0.13175168633460999, 0.015202118083834648, 0.44592878222465515, 0.4109693169593811, 0.2684153914451599, 0.09748419374227524, 0.053415995091199875, 0.17026348412036896, 0.08468860387802124, 0.048571404069662094, 0.48322319984436035, 0.31509140133857727, 0.06849813461303711, 0.24087604880332947, 0.06964225322008133, 0.14610514044761658, 0.31949281692504883, 0.22364498674869537, 0.08683016896247864, 0.8277809023857117, 0.052098099142313004, 0.028943389654159546, 0.050327129662036896, 0.9178709983825684, 0.01677571050822735, 0.004793060012161732, 0.009586120024323463, 0.9378997087478638, 0.058618731796741486, 0.045826636254787445, 0.8009522557258606, 0.009327544830739498, 0.0754314512014389, 0.06894272565841675, 0.6038292646408081, 0.168115496635437, 0.22045661509037018, 0.0017331495182588696, 0.00554607855156064, 0.9367785453796387, 0.030218662694096565, 0.807711660861969, 0.06461693346500397, 0.10231014341115952, 0.010769488289952278, 0.016154233366250992, 0.011965564452111721, 0.007264807354658842, 0.09273312985897064, 0.8675034642219543, 0.020512396469712257, 0.0030073132365942, 0.0030073132365942, 0.030073132365942, 0.9533182978630066, 0.0120292529463768, 0.0368647538125515, 0.940051257610321, 0.01843237690627575, 0.02667347528040409, 0.8535512089729309, 0.10669390112161636, 0.9612058997154236, 0.015757473185658455, 0.8994081020355225, 0.0749506726861, 0.018737668171525, 0.11172427237033844, 0.8771544098854065, 0.002377112163230777, 0.004754224326461554, 0.002377112163230777, 0.11026386171579361, 0.8420149683952332, 0.030071962624788284, 0.020047975704073906, 0.6387069225311279, 0.11426407843828201, 0.18311551213264465, 0.03808802738785744, 0.026368634775280952, 0.3993285000324249, 0.11899182945489883, 0.1286725252866745, 0.2460508942604065, 0.10729432851076126, 0.04224041476845741, 0.8448083400726318, 0.08448082953691483, 0.044579774141311646, 0.030523087829351425, 0.066267229616642, 0.7992229461669922, 0.05903807654976845, 0.27413251996040344, 0.5018957853317261, 0.05686791613698006, 0.08136486262083054, 0.08573932200670242, 0.09517207741737366, 0.9017789959907532, 0.0014134467346593738, 0.00047114890185184777, 0.0014134467346593738, 0.016253754496574402, 0.22755254805088043, 0.12190315127372742, 0.6420232653617859, 0.10639634728431702, 0.044331811368465424, 0.2305254191160202, 0.008866362273693085, 0.611778974533081, 0.9136384129524231, 0.9733186960220337, 0.09880409389734268, 0.06586939841508865, 0.7986664772033691, 0.02470102347433567, 0.008233674801886082, 0.03714272007346153, 0.9326949715614319, 0.020634843036532402, 0.012380906380712986, 0.02605045586824417, 0.09262384474277496, 0.7380962371826172, 0.13604126870632172, 0.005788990296423435, 0.05651494860649109, 0.9395610094070435, 0.29204171895980835, 0.46505263447761536, 0.154804065823555, 0.06715495884418488, 0.02104310691356659, 0.7471195459365845, 0.06456588953733444, 0.15219102799892426, 0.013835547491908073, 0.023059245198965073, 0.004421105608344078, 0.0017684422200545669, 0.03625306487083435, 0.7436299324035645, 0.21486572921276093, 0.018419232219457626, 0.018419232219457626, 0.9393808245658875, 0.018419232219457626, 0.07776185125112534, 0.03888092562556267, 0.8942612409591675, 0.10526179522275925, 0.8866281509399414, 0.004048530478030443, 0.004048530478030443, 0.1190454512834549, 0.8333181142807007, 0.05952272564172745, 0.9241423606872559, 0.03554393723607063, 0.012764382176101208, 0.9764752388000488, 0.006382191088050604, 0.19271434843540192, 0.13068442046642303, 0.2902759909629822, 0.11382191628217697, 0.27160680294036865, 0.24819256365299225, 0.09225057065486908, 0.3683222830295563, 0.19220757484436035, 0.0990503653883934, 0.0948963314294815, 0.9046783447265625, 0.026553060859441757, 0.9559101462364197, 0.9004685878753662, 0.060031238943338394, 0.21989785134792328, 0.1483805626630783, 0.30638387799263, 0.19007918238639832, 0.1351938098669052, 0.17248225212097168, 0.7843717336654663, 0.03827416151762009, 0.0014912011101841927, 0.0034794691018760204, 0.9354457259178162, 0.037417829036712646, 0.386732816696167, 0.1833953857421875, 0.24304340779781342, 0.0947246104478836, 0.09240990877151489, 0.33487921953201294, 0.2097867727279663, 0.39618515968322754, 0.014174782671034336, 0.04500493407249451, 0.30688202381134033, 0.1095549613237381, 0.38888809084892273, 0.10378891229629517, 0.09097547084093094, 0.2809983789920807, 0.07947429269552231, 0.24693797528743744, 0.1684098094701767, 0.2242310345172882, 0.13032124936580658, 0.053661689162254333, 0.21300405263900757, 0.31868472695350647, 0.2847355008125305, 0.10703504830598831, 0.11057925969362259, 0.5195807218551636, 0.1403505951166153, 0.12192071974277496, 0.9538713693618774, 0.045422445982694626, 0.06369876116514206, 0.9108923077583313, 0.019109629094600677, 0.0726751834154129, 0.03633759170770645, 0.8721022009849548, 0.012789146974682808, 0.9463968276977539, 0.012789146974682808, 0.012789146974682808, 0.025578293949365616, 0.028091885149478912, 0.9602317214012146, 0.0051076156087219715, 0.0025538078043609858, 0.0051076156087219715, 0.06592792272567749, 0.06592792272567749, 0.02197597362101078, 0.02197597362101078, 0.8131110072135925, 0.7906622290611267, 0.10128317773342133, 0.029404794797301292, 0.0032671992667019367, 0.07514558732509613, 0.9165316224098206, 0.057283226400613785, 0.121874138712883, 0.010156177915632725, 0.8124942779541016, 0.0609370693564415, 0.9211271405220032, 0.04186941683292389, 0.055955685675144196, 0.03730379045009613, 0.8859650492668152, 0.009325947612524033, 0.21607279777526855, 0.018006065860390663, 0.018006065860390663, 0.7562547922134399, 0.04152726009488106, 0.9135997295379639, 0.04152726009488106, 0.04152726009488106, 0.9367395639419556, 0.1142941266298294, 0.08524277806282043, 0.023699786514043808, 0.5710883736610413, 0.20584410429000854, 0.021571476012468338, 0.0575239360332489, 0.014380984008312225, 0.2876196801662445, 0.6255728006362915, 0.28559815883636475, 0.13659042119979858, 0.01448686234652996, 0.008278206922113895, 0.5546398758888245, 0.11761125922203064, 0.23377647995948792, 0.087244413793087, 0.3229489326477051, 0.238114595413208, 0.14643637835979462, 0.7809939980506897, 0.8992700576782227, 0.07007299363613129, 0.023357663303613663, 0.011678831651806831, 0.061248667538166046, 0.08603979647159576, 0.05541546270251274, 0.4950934052467346, 0.3018684387207031, 0.037394579499959946, 0.8974698781967163, 0.062324296683073044, 0.03328578919172287, 0.932002067565918, 0.9464444518089294, 0.05915277823805809, 0.6459987163543701, 0.26243698596954346, 0.08162755519151688, 0.0035108625888824463, 0.006144009530544281, 0.7382470369338989, 0.15819579362869263, 0.0693841204047203, 0.002775364788249135, 0.03052901290357113, 0.7005946636199951, 0.24463818967342377, 0.037704095244407654, 0.0061378758400678635, 0.011398912407457829, 0.09088872373104095, 0.1817774474620819, 0.7271097898483276, 0.9531652927398682, 0.004334599245339632, 0.004334599245339632, 0.1257033795118332, 0.8322430849075317, 0.034676793962717056, 0.03395426273345947, 0.95071941614151, 0.9505024552345276, 0.10897189378738403, 0.015567413531243801, 0.8484240174293518, 0.0077837067656219006, 0.023351119831204414, 0.9316880106925964, 0.7942234873771667, 0.11502993106842041, 0.05040637403726578, 0.0019387067295610905, 0.038127899169921875, 0.01106277760118246, 0.008850221522152424, 0.07522688806056976, 0.8330271244049072, 0.07190805673599243, 0.8973192572593689, 0.042729489505290985, 0.02256351336836815, 0.925104022026062, 0.0451270267367363, 0.08371920138597488, 0.03348768129944801, 0.16743840277194977, 0.7032412886619568, 0.019080033525824547, 0.9768977761268616, 0.002120003802701831, 0.002120003802701831, 0.010202179662883282, 0.9794092178344727, 0.007284061051905155, 0.007284061051905155, 0.05098842829465866, 0.21123777329921722, 0.7211220264434814, 0.03359312191605568, 0.9070142507553101, 0.06718624383211136, 0.9059327840805054, 0.9041486382484436, 0.032291024923324585, 0.032291024923324585, 0.6551796197891235, 0.19478313624858856, 0.06562212854623795, 0.024998905137181282, 0.06041401997208595, 0.025304637849330902, 0.11387086659669876, 0.8224007487297058, 0.025304637849330902, 0.9623671770095825, 0.03701411932706833, 0.24503153562545776, 0.21130767464637756, 0.23243844509124756, 0.2533557713031769, 0.057842809706926346, 0.2185002863407135, 0.07968834042549133, 0.05141183361411095, 0.0025705916341394186, 0.6452184915542603, 0.9286112189292908, 0.05158951133489609, 0.2528740465641022, 0.004286000970751047, 0.02143000438809395, 0.004286000970751047, 0.7157621383666992, 0.034333813935518265, 0.944179892539978, 0.017166906967759132, 0.09183300286531448, 0.8724135160446167, 0.04591650143265724, 0.027850110083818436, 0.05570022016763687, 0.905128538608551, 0.013925055041909218, 0.013925055041909218, 0.1553076058626175, 0.040818024426698685, 0.3076285421848297, 0.12344963848590851, 0.37234002351760864, 0.9493969678878784, 0.04127812758088112, 0.8864775896072388, 0.04924875497817993, 0.12458854913711548, 0.04152951389551163, 0.8305903077125549, 0.05313834547996521, 0.8767827153205872, 0.05313834547996521, 0.9029527306556702, 0.03224831074476242, 0.06449662148952484, 0.05501741170883179, 0.8802785873413086, 0.027508705854415894, 0.29739275574684143, 0.5981562733650208, 0.013942679390311241, 0.0016853788401931524, 0.08886542916297913, 0.15147611498832703, 0.007389078848063946, 0.05541808903217316, 0.78693687915802, 0.9270803928375244, 0.9271010756492615, 0.9552168250083923, 0.0631522536277771, 0.8841315507888794, 0.0631522536277771, 0.8823075890541077, 0.029908733442425728, 0.07477182894945145, 0.014954366721212864, 0.3363149166107178, 0.14423584938049316, 0.3103630542755127, 0.1260518878698349, 0.08297533541917801, 0.27063703536987305, 0.15769891440868378, 0.2867661118507385, 0.11041686683893204, 0.17448420822620392, 0.01927168108522892, 0.1270035356283188, 0.3348849415779114, 0.4751575291156769, 0.04391415789723396, 0.008980427868664265, 0.011827880516648293, 0.20895923674106598, 0.7061682939529419, 0.06417720764875412, 0.021150175482034683, 0.11507129669189453, 0.1478719860315323, 0.6798526644706726, 0.03602699562907219, 0.017659395933151245, 0.017659395933151245, 0.11184284090995789, 0.8211618661880493, 0.03237555921077728, 0.34415221214294434, 0.41655927896499634, 0.12576474249362946, 0.03110102005302906, 0.08261208236217499, 0.293030709028244, 0.2767025828361511, 0.22622443735599518, 0.11166998744010925, 0.09235437959432602, 0.9388064742088318, 0.007617292460054159, 0.012695487588644028, 0.08379022032022476, 0.8404412865638733, 0.053321048617362976, 0.8758218884468079, 0.09992598742246628, 0.011755998246371746, 0.005877999123185873, 0.05213800072669983, 0.011172428727149963, 0.7187595963478088, 0.17875885963439941, 0.040965571999549866, 0.8779703378677368, 0.0731641948223114, 0.024388065561652184, 0.9072654247283936, 0.08559107780456543, 0.2701151371002197, 0.4505769908428192, 0.11021806299686432, 0.12385090440511703, 0.04505769908428192, 0.9259569644927979, 0.03429470211267471, 0.03429470211267471, 0.06479308009147644, 0.03852561488747597, 0.011382567696273327, 0.8011576533317566, 0.08405588567256927, 0.9397975206375122, 0.7043463587760925, 0.042588382959365845, 0.13104118406772614, 0.0032760293688625097, 0.11793705821037292, 0.19756872951984406, 0.42389917373657227, 0.08924192935228348, 0.23520086705684662, 0.05402899906039238, 0.0943647101521492, 0.01179558876901865, 0.0235911775380373, 0.8728735446929932, 0.06186237186193466, 0.9279356002807617, 0.7452437281608582, 0.17050564289093018, 0.06896857172250748, 0.007663174998015165, 0.007663174998015165, 0.9557923674583435, 0.425703227519989, 0.21332940459251404, 0.28404104709625244, 0.048733703792095184, 0.028189104050397873, 0.07196500152349472, 0.026986876502633095, 0.7106543779373169, 0.15742343664169312, 0.0314846895635128, 0.009448946453630924, 0.009448946453630924, 0.8645786046981812, 0.09448947012424469, 0.023622367531061172, 0.7874146699905396, 0.09295868128538132, 0.07108604907989502, 0.03280894458293915, 0.016404472291469574, 0.10594102740287781, 0.1317104697227478, 0.07935351133346558, 0.3059609532356262, 0.37713369727134705, 0.17819225788116455, 0.06364008784294128, 0.7424677014350891, 0.004242672584950924, 0.012728017754852772, 0.06366917490959167, 0.07595621049404144, 0.5719055533409119, 0.25802770256996155, 0.03127608448266983, 0.5053040981292725, 0.06257427483797073, 0.05921006575226784, 0.33171093463897705, 0.041716184467077255, 0.32207533717155457, 0.09018109738826752, 0.3724362254142761, 0.14932584762573242, 0.06558625400066376, 0.15254251658916473, 0.822178304195404, 0.0155127989128232, 0.005170932970941067, 0.005170932970941067, 0.12279023975133896, 0.07438745349645615, 0.27666017413139343, 0.4132069945335388, 0.11361918598413467, 0.8741989731788635, 0.09202094376087189, 0.233338862657547, 0.28954699635505676, 0.23183774948120117, 0.09423620998859406, 0.15111151337623596, 0.05000961944460869, 0.05000961944460869, 0.8084888458251953, 0.03333974629640579, 0.05000961944460869, 0.05629158020019531, 0.05629158020019531, 0.8443737030029297, 0.039997294545173645, 0.9199377298355103, 0.039997294545173645, 0.035374149680137634, 0.037505123764276505, 0.08225554972887039, 0.6733874082565308, 0.17175641655921936, 0.1323496550321579, 0.1806572824716568, 0.010587972588837147, 0.06948357075452805, 0.6061614751815796, 0.011516796424984932, 0.04606718569993973, 0.10365116596221924, 0.8234509229660034, 0.017275193706154823, 0.05391198769211769, 0.8450250029563904, 0.08419962227344513, 0.012720806524157524, 0.0036345161497592926, 0.3932036757469177, 0.040040191262960434, 0.1104479432106018, 0.1563366949558258, 0.3000764846801758, 0.05489320680499077, 0.9331845641136169, 0.009148867800831795], \"Term\": [\"2015\", \"2016\", \"2016\", \"2016\", \"2017\", \"2017\", \"60\", \"60\", \"a\", \"a\", \"a\", \"a\", \"a\", \"aa\", \"aa\", \"aa\", \"aa\", \"aa\", \"aaa\", \"aaa\", \"aaa\", \"aaa\", \"absolute\", \"absolute\", \"absolute\", \"acid\", \"acid\", \"acid\", \"after\", \"after\", \"after\", \"after\", \"after\", \"again\", \"again\", \"again\", \"again\", \"again\", \"age\", \"age\", \"age\", \"age\", \"age\", \"ages\", \"ages\", \"ages\", \"ago\", \"ago\", \"ago\", \"ago\", \"ago\", \"alexa\", \"alexa\", \"alexa\", \"alexa\", \"alexa\", \"alkaline\", \"alkaline\", \"alkaline\", \"alkaline\", \"all\", \"all\", \"all\", \"all\", \"all\", \"amazon\", \"amazon\", \"amazon\", \"amazon\", \"amazon\", \"amazonbasics\", \"amazonbasics\", \"amazonbasics\", \"amazonbasics\", \"and\", \"and\", \"and\", \"and\", \"and\", \"android\", \"android\", \"android\", \"android\", \"android\", \"any\", \"any\", \"any\", \"any\", \"any\", \"apple\", \"apple\", \"apple\", \"apple\", \"appropriate\", \"appropriate\", \"appropriate\", \"appropriate\", \"apps\", \"apps\", \"apps\", \"apps\", \"apps\", \"are\", \"are\", \"are\", \"are\", \"are\", \"as\", \"as\", \"as\", \"as\", \"as\", \"assistance\", \"at\", \"at\", \"at\", \"at\", \"at\", \"back\", \"back\", \"back\", \"back\", \"back\", \"backlight\", \"backlight\", \"backup\", \"backup\", \"backup\", \"bag\", \"bag\", \"bag\", \"bank\", \"bank\", \"batteries\", \"batteries\", \"batteries\", \"batteries\", \"batteries\", \"battery\", \"battery\", \"battery\", \"battery\", \"battery\", \"batterys\", \"batterys\", \"batts\", \"batts\", \"beat\", \"beat\", \"beat\", \"beat\", \"beat\", \"before\", \"before\", \"before\", \"before\", \"before\", \"better\", \"better\", \"better\", \"better\", \"better\", \"bigger\", \"bigger\", \"bigger\", \"bigger\", \"bigger\", \"black\", \"black\", \"black\", \"black\", \"black\", \"bluetooth\", \"bluetooth\", \"bluetooth\", \"bluetooth\", \"bluetooth\", \"book\", \"book\", \"book\", \"book\", \"book\", \"books\", \"books\", \"books\", \"books\", \"books\", \"bose\", \"bose\", \"bose\", \"bought\", \"bought\", \"bought\", \"bought\", \"bought\", \"brand\", \"brand\", \"brand\", \"brand\", \"brand\", \"brands\", \"brands\", \"brands\", \"brands\", \"brands\", \"browser\", \"browser\", \"browser\", \"browser\", \"bunny\", \"bunny\", \"bunny\", \"but\", \"but\", \"but\", \"but\", \"but\", \"buy\", \"buy\", \"buy\", \"buy\", \"buy\", \"cable\", \"cable\", \"cable\", \"cable\", \"cable\", \"called\", \"called\", \"called\", \"called\", \"can\", \"can\", \"can\", \"can\", \"can\", \"cant\", \"cant\", \"cant\", \"cant\", \"cant\", \"cars\", \"cents\", \"cents\", \"charge\", \"charge\", \"charge\", \"charge\", \"charge\", \"charging\", \"charging\", \"charging\", \"charging\", \"cheap\", \"cheap\", \"cheap\", \"cheap\", \"cheap\", \"child\", \"child\", \"child\", \"child\", \"child\", \"children\", \"children\", \"children\", \"children\", \"children\", \"christmas\", \"christmas\", \"christmas\", \"christmas\", \"christmas\", \"clarity\", \"clarity\", \"clarity\", \"club\", \"club\", \"command\", \"command\", \"commands\", \"commands\", \"commands\", \"commands\", \"complained\", \"complained\", \"complaints\", \"complaints\", \"complaints\", \"complaints\", \"complaints\", \"cons\", \"cons\", \"cons\", \"cons\", \"contacted\", \"controllers\", \"controllers\", \"controllers\", \"controllers\", \"controllers\", \"convinced\", \"convinced\", \"costs\", \"costs\", \"customer\", \"customer\", \"customer\", \"customer\", \"daughter\", \"daughter\", \"daughter\", \"daughter\", \"daughter\", \"days\", \"days\", \"days\", \"days\", \"days\", \"dead\", \"dead\", \"dead\", \"dead\", \"dead\", \"deal\", \"deal\", \"deal\", \"deal\", \"deal\", \"defective\", \"defective\", \"defective\", \"delivery\", \"delivery\", \"delivery\", \"described\", \"described\", \"described\", \"described\", \"described\", \"did\", \"did\", \"did\", \"did\", \"did\", \"disney\", \"documents\", \"documents\", \"does\", \"does\", \"does\", \"does\", \"does\", \"dont\", \"dont\", \"dont\", \"dont\", \"dont\", \"dot\", \"dot\", \"dot\", \"dot\", \"drained\", \"drained\", \"drains\", \"drains\", \"durable\", \"durable\", \"durable\", \"durable\", \"durable\", \"duracel\", \"duracel\", \"duracel\", \"duracell\", \"duracell\", \"duracell\", \"duracell\", \"duracell\", \"easy\", \"easy\", \"easy\", \"easy\", \"easy\", \"echo\", \"echo\", \"echo\", \"echo\", \"ecosystem\", \"ecosystem\", \"ecosystem\", \"educational\", \"educational\", \"educational\", \"educational\", \"energizer\", \"energizer\", \"energizer\", \"energizer\", \"energizer\", \"engaged\", \"enjoys\", \"enjoys\", \"enjoys\", \"entertained\", \"entertained\", \"entertained\", \"entertained\", \"ereader\", \"ereader\", \"ereader\", \"ereader\", \"ereader\", \"everything\", \"everything\", \"everything\", \"everything\", \"everything\", \"expected\", \"expected\", \"expected\", \"expected\", \"expected\", \"eyes\", \"eyes\", \"eyes\", \"eyes\", \"eyes\", \"failed\", \"failed\", \"failed\", \"fee\", \"few\", \"few\", \"few\", \"few\", \"few\", \"fingertips\", \"fire\", \"fire\", \"fire\", \"fire\", \"fire\", \"fits\", \"fits\", \"fits\", \"fits\", \"fits\", \"flameless\", \"flameless\", \"flashlights\", \"flashlights\", \"flashlights\", \"flashlights\", \"font\", \"font\", \"font\", \"for\", \"for\", \"for\", \"for\", \"for\", \"fraction\", \"fraction\", \"fraction\", \"friday\", \"friday\", \"friday\", \"friday\", \"friday\", \"friendly\", \"friendly\", \"friendly\", \"friendly\", \"friendly\", \"games\", \"games\", \"games\", \"games\", \"games\", \"generation\", \"generation\", \"generation\", \"generation\", \"gift\", \"gift\", \"gift\", \"gift\", \"gift\", \"glare\", \"glare\", \"good\", \"good\", \"good\", \"good\", \"good\", \"google\", \"google\", \"google\", \"google\", \"google\", \"grand\", \"grand\", \"grand\", \"grand\", \"grand\", \"grandaughter\", \"grandchildren\", \"grandchildren\", \"granddaughter\", \"granddaughter\", \"granddaughter\", \"granddaughter\", \"granddaughters\", \"granddaughters\", \"grandkids\", \"grandkids\", \"grandkids\", \"grandkids\", \"grandkids\", \"great\", \"great\", \"great\", \"great\", \"great\", \"guys\", \"guys\", \"had\", \"had\", \"had\", \"had\", \"had\", \"has\", \"has\", \"has\", \"has\", \"has\", \"have\", \"have\", \"have\", \"have\", \"have\", \"he\", \"he\", \"he\", \"he\", \"he\", \"her\", \"her\", \"her\", \"her\", \"his\", \"his\", \"his\", \"his\", \"his\", \"i\", \"i\", \"i\", \"i\", \"i\", \"if\", \"if\", \"if\", \"if\", \"if\", \"in\", \"in\", \"in\", \"in\", \"in\", \"indestructible\", \"indestructible\", \"indonesia\", \"indonesia\", \"invested\", \"ipad\", \"ipad\", \"ipad\", \"ipad\", \"ipad\", \"is\", \"is\", \"is\", \"is\", \"is\", \"issue\", \"issue\", \"issue\", \"issue\", \"issue\", \"issues\", \"issues\", \"issues\", \"issues\", \"issues\", \"it\", \"it\", \"it\", \"it\", \"it\", \"item\", \"item\", \"item\", \"item\", \"item\", \"its\", \"its\", \"its\", \"its\", \"its\", \"ive\", \"ive\", \"ive\", \"ive\", \"ive\", \"just\", \"just\", \"just\", \"just\", \"just\", \"keyboard\", \"keyboard\", \"keyboard\", \"keyboard\", \"kid\", \"kid\", \"kid\", \"kid\", \"kid\", \"kiddos\", \"kiddos\", \"kids\", \"kids\", \"kids\", \"kids\", \"kids\", \"kindle\", \"kindle\", \"kindle\", \"kindle\", \"kindle\", \"lacks\", \"lacks\", \"larger\", \"larger\", \"larger\", \"larger\", \"larger\", \"last\", \"last\", \"last\", \"last\", \"last\", \"lasting\", \"lasting\", \"lasting\", \"lasting\", \"lasting\", \"law\", \"law\", \"law\", \"leading\", \"leading\", \"leading\", \"leaked\", \"leaked\", \"leaking\", \"leaking\", \"leaking\", \"learning\", \"learning\", \"learning\", \"learning\", \"learning\", \"left\", \"left\", \"left\", \"left\", \"light\", \"light\", \"light\", \"light\", \"light\", \"like\", \"like\", \"like\", \"like\", \"like\", \"lithium\", \"lithium\", \"lithium\", \"long\", \"long\", \"long\", \"long\", \"long\", \"love\", \"love\", \"love\", \"love\", \"love\", \"loves\", \"loves\", \"loves\", \"loves\", \"loves\", \"major\", \"major\", \"major\", \"major\", \"market\", \"market\", \"market\", \"market\", \"market\", \"measured\", \"menu\", \"minutes\", \"minutes\", \"minutes\", \"minutes\", \"minutes\", \"mom\", \"mom\", \"mom\", \"mom\", \"months\", \"months\", \"months\", \"months\", \"months\", \"mother\", \"mother\", \"my\", \"my\", \"my\", \"my\", \"my\", \"myself\", \"myself\", \"myself\", \"myself\", \"myself\", \"name\", \"name\", \"name\", \"name\", \"name\", \"names\", \"names\", \"names\", \"names\", \"national\", \"national\", \"national\", \"navigate\", \"navigate\", \"navigate\", \"navigate\", \"neatly\", \"neatly\", \"neatly\", \"net\", \"net\", \"niece\", \"niece\", \"niece\", \"no\", \"no\", \"no\", \"no\", \"no\", \"not\", \"not\", \"not\", \"not\", \"not\", \"oasis\", \"oasis\", \"occupied\", \"occupied\", \"october\", \"october\", \"of\", \"of\", \"of\", \"of\", \"of\", \"old\", \"old\", \"old\", \"old\", \"old\", \"olds\", \"olds\", \"on\", \"on\", \"on\", \"on\", \"on\", \"one\", \"one\", \"one\", \"one\", \"one\", \"only\", \"only\", \"only\", \"only\", \"only\", \"or\", \"or\", \"or\", \"or\", \"or\", \"other\", \"other\", \"other\", \"other\", \"other\", \"out\", \"out\", \"out\", \"out\", \"out\", \"owning\", \"owning\", \"packaged\", \"packaged\", \"packaged\", \"par\", \"par\", \"par\", \"parent\", \"parent\", \"parent\", \"parent\", \"parent\", \"parental\", \"parental\", \"parental\", \"parental\", \"parental\", \"performs\", \"performs\", \"performs\", \"performs\", \"performs\", \"phone\", \"phone\", \"phone\", \"phone\", \"phone\", \"plane\", \"plane\", \"plug\", \"plug\", \"plug\", \"plug\", \"pockets\", \"pockets\", \"port\", \"port\", \"port\", \"port\", \"portability\", \"portability\", \"portability\", \"portability\", \"positive\", \"positive\", \"positive\", \"positive\", \"powering\", \"price\", \"price\", \"price\", \"price\", \"price\", \"priced\", \"priced\", \"priced\", \"priced\", \"priced\", \"prime\", \"prime\", \"prime\", \"prime\", \"prime\", \"product\", \"product\", \"product\", \"product\", \"product\", \"provided\", \"provided\", \"purse\", \"purse\", \"purse\", \"purse\", \"quality\", \"quality\", \"quality\", \"quality\", \"quality\", \"quantity\", \"quantity\", \"quantity\", \"quit\", \"quit\", \"rc\", \"rc\", \"read\", \"read\", \"read\", \"read\", \"read\", \"reader\", \"reader\", \"reader\", \"reader\", \"reader\", \"reading\", \"reading\", \"reading\", \"reading\", \"reading\", \"reasonably\", \"reasonably\", \"reasonably\", \"refund\", \"remotes\", \"remotes\", \"remotes\", \"remotes\", \"remotes\", \"removed\", \"removed\", \"responds\", \"return\", \"return\", \"return\", \"return\", \"return\", \"ruined\", \"screen\", \"screen\", \"screen\", \"screen\", \"screen\", \"seem\", \"seem\", \"seem\", \"seem\", \"seem\", \"sensitive\", \"sensitive\", \"sent\", \"sent\", \"sent\", \"services\", \"services\", \"services\", \"services\", \"she\", \"she\", \"she\", \"she\", \"shes\", \"shes\", \"shipping\", \"shipping\", \"shipping\", \"shipping\", \"shipping\", \"shrink\", \"shrink\", \"shrink\", \"siblings\", \"silk\", \"silk\", \"silk\", \"size\", \"size\", \"size\", \"size\", \"size\", \"sizes\", \"sizes\", \"sizes\", \"sizes\", \"smartphone\", \"smartphone\", \"so\", \"so\", \"so\", \"so\", \"so\", \"sound\", \"sound\", \"sound\", \"sound\", \"sound\", \"span\", \"span\", \"speaker\", \"speaker\", \"speaker\", \"speaker\", \"speaker\", \"starter\", \"starter\", \"starter\", \"stocked\", \"stocked\", \"stocked\", \"stopped\", \"stopped\", \"stopped\", \"stopped\", \"stopped\", \"store\", \"store\", \"store\", \"store\", \"store\", \"strain\", \"strain\", \"sun\", \"sun\", \"superb\", \"superb\", \"superb\", \"supply\", \"supply\", \"supply\", \"swipe\", \"swipe\", \"swipe\", \"switched\", \"switched\", \"switched\", \"tablet\", \"tablet\", \"tablet\", \"tablet\", \"tablet\", \"tap\", \"tap\", \"tap\", \"tap\", \"teach\", \"teaching\", \"teenage\", \"tests\", \"tests\", \"tests\", \"text\", \"text\", \"text\", \"text\", \"that\", \"that\", \"that\", \"that\", \"that\", \"the\", \"the\", \"the\", \"the\", \"the\", \"them\", \"them\", \"them\", \"them\", \"them\", \"these\", \"these\", \"these\", \"these\", \"these\", \"they\", \"they\", \"they\", \"they\", \"they\", \"theyre\", \"theyre\", \"theyre\", \"theyre\", \"theyre\", \"this\", \"this\", \"this\", \"this\", \"this\", \"to\", \"to\", \"to\", \"to\", \"to\", \"touching\", \"toys\", \"toys\", \"toys\", \"toys\", \"toys\", \"travel\", \"travel\", \"travel\", \"travel\", \"tried\", \"tried\", \"tried\", \"tried\", \"tried\", \"turns\", \"turns\", \"turns\", \"usb\", \"usb\", \"use\", \"use\", \"use\", \"use\", \"use\", \"vacation\", \"vacation\", \"vacation\", \"value\", \"value\", \"value\", \"value\", \"value\", \"versatility\", \"version\", \"version\", \"version\", \"version\", \"version\", \"very\", \"very\", \"very\", \"very\", \"very\", \"voice\", \"voice\", \"voice\", \"voice\", \"waited\", \"waited\", \"wanted\", \"wanted\", \"wanted\", \"wanted\", \"wanted\", \"warning\", \"was\", \"was\", \"was\", \"was\", \"was\", \"week\", \"week\", \"week\", \"week\", \"week\", \"weeks\", \"weeks\", \"weeks\", \"weeks\", \"weeks\", \"weight\", \"weight\", \"weight\", \"weight\", \"weight\", \"well\", \"well\", \"well\", \"well\", \"well\", \"went\", \"went\", \"went\", \"went\", \"went\", \"were\", \"were\", \"were\", \"were\", \"were\", \"what\", \"what\", \"what\", \"what\", \"what\", \"when\", \"when\", \"when\", \"when\", \"when\", \"wife\", \"wife\", \"wife\", \"wife\", \"wife\", \"will\", \"will\", \"will\", \"will\", \"will\", \"windows\", \"windows\", \"with\", \"with\", \"with\", \"with\", \"with\", \"within\", \"within\", \"within\", \"within\", \"within\", \"wonderfully\", \"wonderfully\", \"wonderfully\", \"wore\", \"wore\", \"wore\", \"work\", \"work\", \"work\", \"work\", \"work\", \"works\", \"works\", \"works\", \"works\", \"works\", \"xbox\", \"xbox\", \"xbox\", \"xbox\", \"xbox\", \"year\", \"year\", \"year\", \"year\", \"year\", \"you\", \"you\", \"you\", \"you\", \"you\", \"yr\", \"yr\", \"yr\"]}, \"R\": 30, \"lambda.step\": 0.01, \"plot.opts\": {\"xlab\": \"PC1\", \"ylab\": \"PC2\"}, \"topic.order\": [1, 2, 4, 5, 3]};\n",
       "\n",
       "function LDAvis_load_lib(url, callback){\n",
       "  var s = document.createElement('script');\n",
       "  s.src = url;\n",
       "  s.async = true;\n",
       "  s.onreadystatechange = s.onload = callback;\n",
       "  s.onerror = function(){console.warn(\"failed to load library \" + url);};\n",
       "  document.getElementsByTagName(\"head\")[0].appendChild(s);\n",
       "}\n",
       "\n",
       "if(typeof(LDAvis) !== \"undefined\"){\n",
       "   // already loaded: just create the visualization\n",
       "   !function(LDAvis){\n",
       "       new LDAvis(\"#\" + \"ldavis_el1673222264755190962424188244\", ldavis_el1673222264755190962424188244_data);\n",
       "   }(LDAvis);\n",
       "}else if(typeof define === \"function\" && define.amd){\n",
       "   // require.js is available: use it to load d3/LDAvis\n",
       "   require.config({paths: {d3: \"https://cdnjs.cloudflare.com/ajax/libs/d3/3.5.5/d3.min\"}});\n",
       "   require([\"d3\"], function(d3){\n",
       "      window.d3 = d3;\n",
       "      LDAvis_load_lib(\"https://cdn.rawgit.com/bmabey/pyLDAvis/files/ldavis.v1.0.0.js\", function(){\n",
       "        new LDAvis(\"#\" + \"ldavis_el1673222264755190962424188244\", ldavis_el1673222264755190962424188244_data);\n",
       "      });\n",
       "    });\n",
       "}else{\n",
       "    // require.js not available: dynamically load d3 & LDAvis\n",
       "    LDAvis_load_lib(\"https://cdnjs.cloudflare.com/ajax/libs/d3/3.5.5/d3.min.js\", function(){\n",
       "         LDAvis_load_lib(\"https://cdn.rawgit.com/bmabey/pyLDAvis/files/ldavis.v1.0.0.js\", function(){\n",
       "                 new LDAvis(\"#\" + \"ldavis_el1673222264755190962424188244\", ldavis_el1673222264755190962424188244_data);\n",
       "            })\n",
       "         });\n",
       "}\n",
       "</script>"
      ],
      "text/plain": [
       "PreparedData(topic_coordinates=              x         y  topics  cluster       Freq\n",
       "topic                                                \n",
       "0     -0.079159 -0.030797       1        1  25.933426\n",
       "1     -0.141143  0.044329       2        1  23.499601\n",
       "3      0.031417 -0.089684       3        1  20.718222\n",
       "4      0.152296  0.033275       4        1  18.817520\n",
       "2      0.036588  0.042876       5        1  11.031231, topic_info=           Term          Freq         Total Category  logprob  loglift\n",
       "43    batteries   7908.000000   7908.000000  Default  30.0000  30.0000\n",
       "41           as   7625.000000   7625.000000  Default  29.0000  29.0000\n",
       "18          the  28953.000000  28953.000000  Default  28.0000  28.0000\n",
       "154          it  16541.000000  16541.000000  Default  27.0000  27.0000\n",
       "49        great   9354.000000   9354.000000  Default  26.0000  26.0000\n",
       "...         ...           ...           ...      ...      ...      ...\n",
       "1826     tablet    579.574341   6526.722656   Topic5  -4.8938  -0.2169\n",
       "33          are    526.779724   4624.080566   Topic5  -4.9893   0.0322\n",
       "34          but    523.282715   4908.772949   Topic5  -4.9960  -0.0342\n",
       "73           on    518.531433   5616.280762   Topic5  -5.0051  -0.1780\n",
       "78           in    497.990692   5872.226562   Topic5  -5.0455  -0.2630\n",
       "\n",
       "[439 rows x 6 columns], token_table=      Topic      Freq  Term\n",
       "term                       \n",
       "1433      3  0.972319  2015\n",
       "1174      1  0.035067  2016\n",
       "1174      3  0.946814  2016\n",
       "1174      5  0.035067  2016\n",
       "1550      1  0.043653  2017\n",
       "...     ...       ...   ...\n",
       "96        4  0.156337   you\n",
       "96        5  0.300076   you\n",
       "1551      1  0.054893    yr\n",
       "1551      2  0.933185    yr\n",
       "1551      5  0.009149    yr\n",
       "\n",
       "[1259 rows x 3 columns], R=30, lambda_step=0.01, plot_opts={'xlab': 'PC1', 'ylab': 'PC2'}, topic_order=[1, 2, 4, 5, 3])"
      ]
     },
     "execution_count": 55,
     "metadata": {},
     "output_type": "execute_result"
    }
   ],
   "source": [
    "pyLDAvis.gensim.prepare(lda, corpus, id2word)"
   ]
  },
  {
   "cell_type": "code",
   "execution_count": 56,
   "metadata": {},
   "outputs": [],
   "source": [
    "from gensim.models.coherencemodel import CoherenceModel\n",
    "\n",
    "def compute_coherence_values(dictionary, corpus, limit, start=2, step=3, passes=5):\n",
    "    \"\"\"\n",
    "    Compute c_v coherence for various number of topics\n",
    "\n",
    "    Parameters:\n",
    "    ----------\n",
    "    dictionary : Gensim dictionary\n",
    "    corpus : Gensim corpus\n",
    "    limit : Max num of topics\n",
    "    passes: the number of times the entire lda model & coherence values are calculated\n",
    "\n",
    "    Returns:\n",
    "    -------\n",
    "    coherence_values : Coherence values corresponding to the LDA model with respective number of topics\n",
    "    \"\"\"\n",
    "    \n",
    "    coherence_values = []\n",
    "    \n",
    "    for iter_ in range(passes):\n",
    "        for num_topics in range(start, limit, step):\n",
    "            model = LdaMulticore(corpus=corpus, num_topics=num_topics, id2word=dictionary, workers=4)\n",
    "            coherencemodel = CoherenceModel(model=model,dictionary=dictionary,corpus=corpus, coherence='u_mass')\n",
    "            coherence_values.append({'pass': iter_, \n",
    "                                     'num_topics': num_topics, \n",
    "                                     'coherence_score': coherencemodel.get_coherence()\n",
    "                                    })\n",
    "\n",
    "    return coherence_values"
   ]
  },
  {
   "cell_type": "code",
   "execution_count": 57,
   "metadata": {},
   "outputs": [],
   "source": [
    "# Can take a long time to run.\n",
    "coherence_values = compute_coherence_values(dictionary=id2word, \n",
    "                                                        corpus=corpus,\n",
    "                                                        start=2, \n",
    "                                                        limit=40, \n",
    "                                                        step=2,\n",
    "                                                        passes=5)"
   ]
  },
  {
   "cell_type": "code",
   "execution_count": 58,
   "metadata": {},
   "outputs": [],
   "source": [
    "topic_coherence = pd.DataFrame.from_records(coherence_values)"
   ]
  },
  {
   "cell_type": "code",
   "execution_count": 59,
   "metadata": {},
   "outputs": [
    {
     "data": {
      "text/html": [
       "<div>\n",
       "<style scoped>\n",
       "    .dataframe tbody tr th:only-of-type {\n",
       "        vertical-align: middle;\n",
       "    }\n",
       "\n",
       "    .dataframe tbody tr th {\n",
       "        vertical-align: top;\n",
       "    }\n",
       "\n",
       "    .dataframe thead th {\n",
       "        text-align: right;\n",
       "    }\n",
       "</style>\n",
       "<table border=\"1\" class=\"dataframe\">\n",
       "  <thead>\n",
       "    <tr style=\"text-align: right;\">\n",
       "      <th></th>\n",
       "      <th>pass</th>\n",
       "      <th>num_topics</th>\n",
       "      <th>coherence_score</th>\n",
       "    </tr>\n",
       "  </thead>\n",
       "  <tbody>\n",
       "    <tr>\n",
       "      <th>0</th>\n",
       "      <td>0</td>\n",
       "      <td>2</td>\n",
       "      <td>-1.308326</td>\n",
       "    </tr>\n",
       "    <tr>\n",
       "      <th>1</th>\n",
       "      <td>0</td>\n",
       "      <td>4</td>\n",
       "      <td>-1.386269</td>\n",
       "    </tr>\n",
       "    <tr>\n",
       "      <th>2</th>\n",
       "      <td>0</td>\n",
       "      <td>6</td>\n",
       "      <td>-1.381284</td>\n",
       "    </tr>\n",
       "    <tr>\n",
       "      <th>3</th>\n",
       "      <td>0</td>\n",
       "      <td>8</td>\n",
       "      <td>-1.413386</td>\n",
       "    </tr>\n",
       "    <tr>\n",
       "      <th>4</th>\n",
       "      <td>0</td>\n",
       "      <td>10</td>\n",
       "      <td>-1.442237</td>\n",
       "    </tr>\n",
       "  </tbody>\n",
       "</table>\n",
       "</div>"
      ],
      "text/plain": [
       "   pass  num_topics  coherence_score\n",
       "0     0           2        -1.308326\n",
       "1     0           4        -1.386269\n",
       "2     0           6        -1.381284\n",
       "3     0           8        -1.413386\n",
       "4     0          10        -1.442237"
      ]
     },
     "execution_count": 59,
     "metadata": {},
     "output_type": "execute_result"
    }
   ],
   "source": [
    "topic_coherence.head()"
   ]
  },
  {
   "cell_type": "code",
   "execution_count": 60,
   "metadata": {},
   "outputs": [
    {
     "data": {
      "image/png": "[encoded data removed]",
      "text/plain": [
       "<Figure size 432x288 with 1 Axes>"
      ]
     },
     "metadata": {
      "needs_background": "light"
     },
     "output_type": "display_data"
    }
   ],
   "source": [
    "import seaborn as sns\n",
    "\n",
    "ax = sns.lineplot(x=\"num_topics\", y=\"coherence_score\", data=topic_coherence)"
   ]
  },
  {
   "cell_type": "code",
   "execution_count": 61,
   "metadata": {},
   "outputs": [],
   "source": [
    "x = topic_coherence[\"num_topics\"]\n",
    "y = topic_coherence[\"coherence_score\"]"
   ]
  },
  {
   "cell_type": "code",
   "execution_count": 62,
   "metadata": {},
   "outputs": [
    {
     "name": "stdout",
     "output_type": "stream",
     "text": [
      "Num Topics = 2  has Coherence Value of -1.3083\n",
      "Num Topics = 4  has Coherence Value of -1.3863\n",
      "Num Topics = 6  has Coherence Value of -1.3813\n",
      "Num Topics = 8  has Coherence Value of -1.4134\n",
      "Num Topics = 10  has Coherence Value of -1.4422\n",
      "Num Topics = 12  has Coherence Value of -1.4387\n",
      "Num Topics = 14  has Coherence Value of -1.4671\n",
      "Num Topics = 16  has Coherence Value of -1.462\n",
      "Num Topics = 18  has Coherence Value of -1.4975\n",
      "Num Topics = 20  has Coherence Value of -1.4419\n",
      "Num Topics = 22  has Coherence Value of -1.4907\n",
      "Num Topics = 24  has Coherence Value of -1.4902\n",
      "Num Topics = 26  has Coherence Value of -1.5692\n",
      "Num Topics = 28  has Coherence Value of -1.5599\n",
      "Num Topics = 30  has Coherence Value of -1.5797\n",
      "Num Topics = 32  has Coherence Value of -1.5819\n",
      "Num Topics = 34  has Coherence Value of -1.5402\n",
      "Num Topics = 36  has Coherence Value of -1.5495\n",
      "Num Topics = 38  has Coherence Value of -1.5277\n",
      "Num Topics = 2  has Coherence Value of -1.3644\n",
      "Num Topics = 4  has Coherence Value of -1.4273\n",
      "Num Topics = 6  has Coherence Value of -1.459\n",
      "Num Topics = 8  has Coherence Value of -1.4336\n",
      "Num Topics = 10  has Coherence Value of -1.436\n",
      "Num Topics = 12  has Coherence Value of -1.4628\n",
      "Num Topics = 14  has Coherence Value of -1.4477\n",
      "Num Topics = 16  has Coherence Value of -1.5314\n",
      "Num Topics = 18  has Coherence Value of -1.4687\n",
      "Num Topics = 20  has Coherence Value of -1.5393\n",
      "Num Topics = 22  has Coherence Value of -1.5001\n",
      "Num Topics = 24  has Coherence Value of -1.4566\n",
      "Num Topics = 26  has Coherence Value of -1.5299\n",
      "Num Topics = 28  has Coherence Value of -1.5677\n",
      "Num Topics = 30  has Coherence Value of -1.5882\n",
      "Num Topics = 32  has Coherence Value of -1.6361\n",
      "Num Topics = 34  has Coherence Value of -1.5358\n",
      "Num Topics = 36  has Coherence Value of -1.5577\n",
      "Num Topics = 38  has Coherence Value of -1.578\n",
      "Num Topics = 2  has Coherence Value of -1.3825\n",
      "Num Topics = 4  has Coherence Value of -1.3617\n",
      "Num Topics = 6  has Coherence Value of -1.4369\n",
      "Num Topics = 8  has Coherence Value of -1.4268\n",
      "Num Topics = 10  has Coherence Value of -1.432\n",
      "Num Topics = 12  has Coherence Value of -1.5005\n",
      "Num Topics = 14  has Coherence Value of -1.4527\n",
      "Num Topics = 16  has Coherence Value of -1.4702\n",
      "Num Topics = 18  has Coherence Value of -1.5167\n",
      "Num Topics = 20  has Coherence Value of -1.4859\n",
      "Num Topics = 22  has Coherence Value of -1.4615\n",
      "Num Topics = 24  has Coherence Value of -1.5304\n",
      "Num Topics = 26  has Coherence Value of -1.5064\n",
      "Num Topics = 28  has Coherence Value of -1.5557\n",
      "Num Topics = 30  has Coherence Value of -1.5585\n",
      "Num Topics = 32  has Coherence Value of -1.5565\n",
      "Num Topics = 34  has Coherence Value of -1.5553\n",
      "Num Topics = 36  has Coherence Value of -1.5412\n",
      "Num Topics = 38  has Coherence Value of -1.515\n",
      "Num Topics = 2  has Coherence Value of -1.3609\n",
      "Num Topics = 4  has Coherence Value of -1.3626\n",
      "Num Topics = 6  has Coherence Value of -1.3999\n",
      "Num Topics = 8  has Coherence Value of -1.4201\n",
      "Num Topics = 10  has Coherence Value of -1.4668\n",
      "Num Topics = 12  has Coherence Value of -1.4161\n",
      "Num Topics = 14  has Coherence Value of -1.4315\n",
      "Num Topics = 16  has Coherence Value of -1.4728\n",
      "Num Topics = 18  has Coherence Value of -1.4645\n",
      "Num Topics = 20  has Coherence Value of -1.5173\n",
      "Num Topics = 22  has Coherence Value of -1.5169\n",
      "Num Topics = 24  has Coherence Value of -1.4922\n",
      "Num Topics = 26  has Coherence Value of -1.4993\n",
      "Num Topics = 28  has Coherence Value of -1.4901\n",
      "Num Topics = 30  has Coherence Value of -1.6034\n",
      "Num Topics = 32  has Coherence Value of -1.6163\n",
      "Num Topics = 34  has Coherence Value of -1.553\n",
      "Num Topics = 36  has Coherence Value of -1.5879\n",
      "Num Topics = 38  has Coherence Value of -1.5679\n",
      "Num Topics = 2  has Coherence Value of -1.3844\n",
      "Num Topics = 4  has Coherence Value of -1.3618\n",
      "Num Topics = 6  has Coherence Value of -1.4454\n",
      "Num Topics = 8  has Coherence Value of -1.5655\n",
      "Num Topics = 10  has Coherence Value of -1.4036\n",
      "Num Topics = 12  has Coherence Value of -1.4594\n",
      "Num Topics = 14  has Coherence Value of -1.4949\n",
      "Num Topics = 16  has Coherence Value of -1.5289\n",
      "Num Topics = 18  has Coherence Value of -1.4781\n",
      "Num Topics = 20  has Coherence Value of -1.4814\n",
      "Num Topics = 22  has Coherence Value of -1.5504\n",
      "Num Topics = 24  has Coherence Value of -1.4918\n",
      "Num Topics = 26  has Coherence Value of -1.4874\n",
      "Num Topics = 28  has Coherence Value of -1.5349\n",
      "Num Topics = 30  has Coherence Value of -1.5438\n",
      "Num Topics = 32  has Coherence Value of -1.5769\n",
      "Num Topics = 34  has Coherence Value of -1.533\n",
      "Num Topics = 36  has Coherence Value of -1.5743\n",
      "Num Topics = 38  has Coherence Value of -1.5057\n"
     ]
    }
   ],
   "source": [
    "# Print the coherence scores\n",
    "for m, cv in zip(x, y):\n",
    "    print(\"Num Topics =\", m, \" has Coherence Value of\", round(cv, 4))"
   ]
  },
  {
   "cell_type": "code",
   "execution_count": 65,
   "metadata": {},
   "outputs": [
    {
     "data": {
      "text/plain": [
       "[(4, 0.9961428)]"
      ]
     },
     "execution_count": 65,
     "metadata": {},
     "output_type": "execute_result"
    }
   ],
   "source": [
    "lda[id2word.doc2bow(df['reviews.text'])]"
   ]
  },
  {
   "cell_type": "markdown",
   "metadata": {},
   "source": [
    "## Stretch Goals\n",
    "\n",
    "* Incorporate Named Entity Recognition in your analysis\n",
    "* Incorporate some custom pre-processing from our previous lessons (like spacy lemmatization)\n",
    "* Analyze a dataset of interest to you with topic modeling"
   ]
  }
 ],
 "metadata": {
  "kernelspec": {
   "display_name": "Unit4-NLP (Python3)",
   "language": "python",
   "name": "unit4-nlp"
  },
  "language_info": {
   "codemirror_mode": {
    "name": "ipython",
    "version": 3
   },
   "file_extension": ".py",
   "mimetype": "text/x-python",
   "name": "python",
   "nbconvert_exporter": "python",
   "pygments_lexer": "ipython3",
   "version": "3.7.0"
  }
 },
 "nbformat": 4,
 "nbformat_minor": 4
}
